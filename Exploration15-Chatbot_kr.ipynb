{
 "cells": [
  {
   "cell_type": "markdown",
   "id": "lucky-affiliate",
   "metadata": {},
   "source": [
    "# EX15 - 프로젝트: 한국어 데이터로 챗봇 만들기"
   ]
  },
  {
   "cell_type": "markdown",
   "id": "equal-guess",
   "metadata": {},
   "source": [
    "## ✅ 목차\n",
    "\n",
    "-------------------\n",
    "\n",
    "### Step 1. 데이터 수집하기\n",
    "### Step 2. 데이터 전처리하기\n",
    "### Step 3. SubwordTextEncoder 사용하기\n",
    "### Step 4. 모델 구성하기\n",
    "### Step 5. 모델 평가하기"
   ]
  },
  {
   "cell_type": "markdown",
   "id": "fresh-rwanda",
   "metadata": {},
   "source": [
    "### import"
   ]
  },
  {
   "cell_type": "code",
   "execution_count": 1,
   "id": "recent-complexity",
   "metadata": {},
   "outputs": [],
   "source": [
    "import tensorflow as tf\n",
    "import tensorflow_datasets as tfds\n",
    "import os\n",
    "import re\n",
    "import numpy as np\n",
    "import matplotlib.pyplot as plt"
   ]
  },
  {
   "cell_type": "markdown",
   "id": "signed-fellow",
   "metadata": {},
   "source": [
    "## Step 1. 데이터 수집하기\n",
    "\n",
    "--------------------\n",
    "한국어 챗봇 데이터는 송영숙님이 공개한 챗봇 데이터를 사용\n",
    "\n",
    "이 데이터는 아래의 링크에서 다운로드할 수 있습니다.    \n",
    "\n",
    "[songys/Chatbot_data](https://github.com/songys/Chatbot_data/blob/master/ChatbotData.csv)"
   ]
  },
  {
   "cell_type": "code",
   "execution_count": 14,
   "id": "intense-reunion",
   "metadata": {},
   "outputs": [
    {
     "name": "stdout",
     "output_type": "stream",
     "text": [
      "(11823, 3)\n"
     ]
    },
    {
     "data": {
      "text/html": [
       "<div>\n",
       "<style scoped>\n",
       "    .dataframe tbody tr th:only-of-type {\n",
       "        vertical-align: middle;\n",
       "    }\n",
       "\n",
       "    .dataframe tbody tr th {\n",
       "        vertical-align: top;\n",
       "    }\n",
       "\n",
       "    .dataframe thead th {\n",
       "        text-align: right;\n",
       "    }\n",
       "</style>\n",
       "<table border=\"1\" class=\"dataframe\">\n",
       "  <thead>\n",
       "    <tr style=\"text-align: right;\">\n",
       "      <th></th>\n",
       "      <th>Q</th>\n",
       "      <th>A</th>\n",
       "      <th>label</th>\n",
       "    </tr>\n",
       "  </thead>\n",
       "  <tbody>\n",
       "    <tr>\n",
       "      <th>0</th>\n",
       "      <td>12시 땡!</td>\n",
       "      <td>하루가 또 가네요.</td>\n",
       "      <td>0</td>\n",
       "    </tr>\n",
       "    <tr>\n",
       "      <th>1</th>\n",
       "      <td>1지망 학교 떨어졌어</td>\n",
       "      <td>위로해 드립니다.</td>\n",
       "      <td>0</td>\n",
       "    </tr>\n",
       "    <tr>\n",
       "      <th>2</th>\n",
       "      <td>3박4일 놀러가고 싶다</td>\n",
       "      <td>여행은 언제나 좋죠.</td>\n",
       "      <td>0</td>\n",
       "    </tr>\n",
       "    <tr>\n",
       "      <th>3</th>\n",
       "      <td>3박4일 정도 놀러가고 싶다</td>\n",
       "      <td>여행은 언제나 좋죠.</td>\n",
       "      <td>0</td>\n",
       "    </tr>\n",
       "    <tr>\n",
       "      <th>4</th>\n",
       "      <td>PPL 심하네</td>\n",
       "      <td>눈살이 찌푸려지죠.</td>\n",
       "      <td>0</td>\n",
       "    </tr>\n",
       "  </tbody>\n",
       "</table>\n",
       "</div>"
      ],
      "text/plain": [
       "                 Q            A  label\n",
       "0           12시 땡!   하루가 또 가네요.      0\n",
       "1      1지망 학교 떨어졌어    위로해 드립니다.      0\n",
       "2     3박4일 놀러가고 싶다  여행은 언제나 좋죠.      0\n",
       "3  3박4일 정도 놀러가고 싶다  여행은 언제나 좋죠.      0\n",
       "4          PPL 심하네   눈살이 찌푸려지죠.      0"
      ]
     },
     "execution_count": 14,
     "metadata": {},
     "output_type": "execute_result"
    }
   ],
   "source": [
    "import pandas as pd\n",
    "\n",
    "data = pd.read_csv(os.getenv('HOME') + '/aiffel/transformer_chatbot/data/ChatbotData .csv')\n",
    "print(data.shape)\n",
    "data.head()"
   ]
  },
  {
   "cell_type": "markdown",
   "id": "discrete-harvey",
   "metadata": {},
   "source": [
    "## Step 2. 데이터 전처리하기"
   ]
  },
  {
   "cell_type": "code",
   "execution_count": 15,
   "id": "bulgarian-twenty",
   "metadata": {},
   "outputs": [],
   "source": [
    "# 전처리 함수\n",
    "def preprocess_sentence(sentence):\n",
    "    sentence = sentence.lower().strip()\n",
    "\n",
    "    # 단어와 구두점(punctuation) 사이의 거리를 만들기\n",
    "    # 예를 들어서 \"I am a student.\" => \"I am a student .\"와 같이\n",
    "    # student와 온점 사이에 거리를 만들기\n",
    "    sentence = re.sub(r\"([?.!,])\", r\" \\1 \", sentence)\n",
    "    sentence = re.sub(r'[\" \"]+', \" \", sentence)\n",
    "\n",
    "    # (한글,a-z, A-Z, \".\", \"?\", \"!\", \",\")를 제외한 모든 문자를 공백인 ' '로 대체\n",
    "    sentence = re.sub(r\"[^가-힣a-zA-Z0-9?.!,]+\", \" \", sentence)\n",
    "    sentence = sentence.strip()\n",
    "    return sentence"
   ]
  },
  {
   "cell_type": "code",
   "execution_count": 19,
   "id": "adolescent-costa",
   "metadata": {},
   "outputs": [],
   "source": [
    "# 질문과 답변의 쌍인 데이터셋을 구성하기 위한 데이터 로드 함수\n",
    "def load_conversations():\n",
    "    inputs, outputs = [], []\n",
    "    for i in range(len(data)):\n",
    "        # 전처리 함수를 질문에 해당되는 inputs와 답변에 해당되는 outputs에 적용.\n",
    "        inputs.append(preprocess_sentence(data['Q'].values[i]))\n",
    "        outputs.append(preprocess_sentence(data['A'].values[i]))\n",
    "    return inputs, outputs"
   ]
  },
  {
   "cell_type": "code",
   "execution_count": 20,
   "id": "familiar-prairie",
   "metadata": {},
   "outputs": [
    {
     "name": "stdout",
     "output_type": "stream",
     "text": [
      "전체 샘플 수 : 11823\n",
      "전체 샘플 수 : 11823\n"
     ]
    }
   ],
   "source": [
    "# 데이터를 로드하고 전처리하여 질문을 questions, 답변을 answers에 저장하기\n",
    "questions, answers = load_conversations()\n",
    "print('전체 샘플 수 :', len(questions))\n",
    "print('전체 샘플 수 :', len(answers))"
   ]
  },
  {
   "cell_type": "code",
   "execution_count": 22,
   "id": "secure-chase",
   "metadata": {},
   "outputs": [
    {
     "name": "stdout",
     "output_type": "stream",
     "text": [
      "전처리 후의 10번째 질문 샘플: 가스비 장난 아님\n",
      "전처리 후의 10번째 답변 샘플: 다음 달에는 더 절약해봐요 .\n"
     ]
    }
   ],
   "source": [
    "print('전처리 후의 10번째 질문 샘플: {}'.format(questions[21]))\n",
    "print('전처리 후의 10번째 답변 샘플: {}'.format(answers[21]))"
   ]
  },
  {
   "cell_type": "markdown",
   "id": "tracked-contamination",
   "metadata": {},
   "source": [
    "## Step 3. SubwordTextEncoder 사용하기"
   ]
  },
  {
   "cell_type": "code",
   "execution_count": 23,
   "id": "lovely-times",
   "metadata": {},
   "outputs": [],
   "source": [
    "import tensorflow_datasets as tfds\n",
    "\n",
    "\n",
    "# 질문과 답변 데이터셋에 대해서 Vocabulary 생성. (Tensorflow 2.3.0 이상) (클라우드는 2.4)\n",
    "tokenizer = tfds.deprecated.text.SubwordTextEncoder.build_from_corpus(questions + answers, target_vocab_size=2**13)"
   ]
  },
  {
   "cell_type": "code",
   "execution_count": 24,
   "id": "herbal-literacy",
   "metadata": {},
   "outputs": [],
   "source": [
    "# 시작 토큰과 종료 토큰에 고유한 정수를 부여하기\n",
    "START_TOKEN, END_TOKEN = [tokenizer.vocab_size], [tokenizer.vocab_size + 1]"
   ]
  },
  {
   "cell_type": "code",
   "execution_count": 25,
   "id": "expected-bronze",
   "metadata": {},
   "outputs": [
    {
     "name": "stdout",
     "output_type": "stream",
     "text": [
      "START_TOKEN의 번호 : [8162]\n",
      "END_TOKEN의 번호 : [8163]\n"
     ]
    }
   ],
   "source": [
    "print('START_TOKEN의 번호 :' ,[tokenizer.vocab_size])\n",
    "print('END_TOKEN의 번호 :' ,[tokenizer.vocab_size + 1])"
   ]
  },
  {
   "cell_type": "code",
   "execution_count": 26,
   "id": "intellectual-planet",
   "metadata": {},
   "outputs": [
    {
     "name": "stdout",
     "output_type": "stream",
     "text": [
      "8164\n"
     ]
    }
   ],
   "source": [
    "# 시작 토큰과 종료 토큰을 고려하여 +2를 하여 단어장의 크기를 산정\n",
    "VOCAB_SIZE = tokenizer.vocab_size + 2\n",
    "print(VOCAB_SIZE)"
   ]
  },
  {
   "cell_type": "code",
   "execution_count": 27,
   "id": "reverse-carpet",
   "metadata": {},
   "outputs": [
    {
     "name": "stdout",
     "output_type": "stream",
     "text": [
      "정수 인코딩 후의 21번째 질문 샘플: [5756, 610, 2486, 4158]\n",
      "정수 인코딩 후의 21번째 답변 샘플: [2355, 7502, 7, 6266, 97, 1]\n"
     ]
    }
   ],
   "source": [
    "# 임의의 22번째 샘플에 대해서 정수 인코딩 작업을 수행.\n",
    "# 각 토큰을 고유한 정수로 변환\n",
    "print('정수 인코딩 후의 21번째 질문 샘플: {}'.format(tokenizer.encode(questions[21])))\n",
    "print('정수 인코딩 후의 21번째 답변 샘플: {}'.format(tokenizer.encode(answers[21])))"
   ]
  },
  {
   "cell_type": "code",
   "execution_count": 28,
   "id": "compressed-lying",
   "metadata": {},
   "outputs": [
    {
     "name": "stdout",
     "output_type": "stream",
     "text": [
      "40\n"
     ]
    }
   ],
   "source": [
    "# 샘플의 최대 허용 길이 또는 패딩 후의 최종 길이\n",
    "MAX_LENGTH = 40\n",
    "print(MAX_LENGTH)"
   ]
  },
  {
   "cell_type": "code",
   "execution_count": 29,
   "id": "applied-watts",
   "metadata": {},
   "outputs": [],
   "source": [
    "# 정수 인코딩, 최대 길이를 초과하는 샘플 제거, 패딩\n",
    "def tokenize_and_filter(inputs, outputs):\n",
    "    tokenized_inputs, tokenized_outputs = [], []\n",
    "  \n",
    "    for (sentence1, sentence2) in zip(inputs, outputs):\n",
    "        # 정수 인코딩 과정에서 시작 토큰과 종료 토큰을 추가\n",
    "        sentence1 = START_TOKEN + tokenizer.encode(sentence1) + END_TOKEN\n",
    "        sentence2 = START_TOKEN + tokenizer.encode(sentence2) + END_TOKEN\n",
    "\n",
    "        # 최대 길이 40 이하인 경우에만 데이터셋으로 허용\n",
    "        if len(sentence1) <= MAX_LENGTH and len(sentence2) <= MAX_LENGTH:\n",
    "            tokenized_inputs.append(sentence1)\n",
    "            tokenized_outputs.append(sentence2)\n",
    "  \n",
    "    # 최대 길이 40으로 모든 데이터셋을 패딩\n",
    "    tokenized_inputs = tf.keras.preprocessing.sequence.pad_sequences(\n",
    "        tokenized_inputs, maxlen=MAX_LENGTH, padding='post')\n",
    "    tokenized_outputs = tf.keras.preprocessing.sequence.pad_sequences(\n",
    "        tokenized_outputs, maxlen=MAX_LENGTH, padding='post')\n",
    "  \n",
    "    return tokenized_inputs, tokenized_outputs"
   ]
  },
  {
   "cell_type": "markdown",
   "id": "powerful-beijing",
   "metadata": {},
   "source": [
    "단어장의 크기와 샘플의 개수를 확인해보자"
   ]
  },
  {
   "cell_type": "code",
   "execution_count": 30,
   "id": "interested-belief",
   "metadata": {},
   "outputs": [
    {
     "name": "stdout",
     "output_type": "stream",
     "text": [
      "단어장의 크기 : 8164\n",
      "필터링 후의 질문 샘플 개수: 11823\n",
      "필터링 후의 답변 샘플 개수: 11823\n"
     ]
    }
   ],
   "source": [
    "questions, answers = tokenize_and_filter(questions, answers)\n",
    "print('단어장의 크기 :',(VOCAB_SIZE))\n",
    "print('필터링 후의 질문 샘플 개수: {}'.format(len(questions)))\n",
    "print('필터링 후의 답변 샘플 개수: {}'.format(len(answers)))"
   ]
  },
  {
   "cell_type": "markdown",
   "id": "sufficient-situation",
   "metadata": {},
   "source": [
    "### 교사 강요(Teacher Forcing) 사용하기\n",
    "\n",
    "------------------"
   ]
  },
  {
   "cell_type": "markdown",
   "id": "ecological-rugby",
   "metadata": {},
   "source": [
    "▶️ 교사 강요란?     \n",
    "\n",
    "* 테스트 과정에서 t 시점의 출력이 t+1 시점의 입력으로 사용되는 RNN 모델을 훈련시킬 때 사용하는 훈련 기법\n",
    "\n",
    "▶️ 교사 강요를 사용하지 않았을 경우? \n",
    "\n",
    "* 잘못된 예측이 다음 시점(time step)의 입력으로 들어가면서 연쇄적으로 예측 정확도에 영향을 미친다."
   ]
  },
  {
   "cell_type": "code",
   "execution_count": 31,
   "id": "advised-fundamental",
   "metadata": {},
   "outputs": [],
   "source": [
    "BATCH_SIZE = 64\n",
    "BUFFER_SIZE = 20000\n",
    "\n",
    "# 디코더는 이전의 target을 다음의 input으로 사용\n",
    "# 이에 따라 outputs에서는 START_TOKEN을 제거\n",
    "dataset = tf.data.Dataset.from_tensor_slices((\n",
    "    {\n",
    "        'inputs': questions,\n",
    "        'dec_inputs': answers[:, :-1]\n",
    "    },\n",
    "    {\n",
    "        'outputs': answers[:, 1:]\n",
    "    },\n",
    "))\n",
    "\n",
    "dataset = dataset.cache()\n",
    "dataset = dataset.shuffle(BUFFER_SIZE)\n",
    "dataset = dataset.batch(BATCH_SIZE)\n",
    "dataset = dataset.prefetch(tf.data.experimental.AUTOTUNE)"
   ]
  },
  {
   "cell_type": "markdown",
   "id": "floral-inspection",
   "metadata": {},
   "source": [
    "## Step 4. 모델 구성하기"
   ]
  },
  {
   "cell_type": "code",
   "execution_count": 38,
   "id": "difficult-access",
   "metadata": {},
   "outputs": [],
   "source": [
    "# 트랜스포머는 RNN과 다르게 문장에 있는 모든 단어를 한꺼번에 문장 단위로 입력받음\n",
    "# 그래서 같은 단어라도 그 단어가 문장의 몇 번째 어순으로 입력되었는지 알려주기 위해\n",
    "# 각 단어 벡터에 위치 정보를 더해주고 입력으로 사용\n",
    "# 포지셔널 인코딩 레이어\n",
    "class PositionalEncoding(tf.keras.layers.Layer):\n",
    "\n",
    "    def __init__(self, position, d_model):\n",
    "        super(PositionalEncoding, self).__init__()\n",
    "        self.pos_encoding = self.positional_encoding(position, d_model)\n",
    "\n",
    "    def get_angles(self, position, i, d_model):\n",
    "        angles = 1 / tf.pow(10000, (2 * (i // 2)) / tf.cast(d_model, tf.float32))\n",
    "        return position * angles\n",
    "\n",
    "    def positional_encoding(self, position, d_model):\n",
    "        # 각도 배열 생성\n",
    "        angle_rads = self.get_angles(\n",
    "            position=tf.range(position, dtype=tf.float32)[:, tf.newaxis],\n",
    "            i=tf.range(d_model, dtype=tf.float32)[tf.newaxis, :],\n",
    "            d_model=d_model)\n",
    "\n",
    "        # 배열의 짝수 인덱스에는 sin 함수 적용\n",
    "        sines = tf.math.sin(angle_rads[:, 0::2])\n",
    "        # 배열의 홀수 인덱스에는 cosine 함수 적용\n",
    "        cosines = tf.math.cos(angle_rads[:, 1::2])\n",
    "\n",
    "        # sin과 cosine이 교차되도록 재배열\n",
    "        pos_encoding = tf.stack([sines, cosines], axis=0)\n",
    "        pos_encoding = tf.transpose(pos_encoding,[1, 2, 0]) \n",
    "        pos_encoding = tf.reshape(pos_encoding, [position, d_model])\n",
    "\n",
    "        pos_encoding = pos_encoding[tf.newaxis, ...]\n",
    "        return tf.cast(pos_encoding, tf.float32)\n",
    "\n",
    "    def call(self, inputs):\n",
    "        return inputs + self.pos_encoding[:, :tf.shape(inputs)[1], :]"
   ]
  },
  {
   "cell_type": "code",
   "execution_count": 39,
   "id": "grave-radar",
   "metadata": {},
   "outputs": [],
   "source": [
    "# 스케일드 닷 프로덕트 어텐션 함수\n",
    "def scaled_dot_product_attention(query, key, value, mask):\n",
    "    # 어텐션 가중치는 Q와 K의 닷 프로덕트\n",
    "    matmul_qk = tf.matmul(query, key, transpose_b=True)\n",
    "\n",
    "    # 가중치를 정규화\n",
    "    depth = tf.cast(tf.shape(key)[-1], tf.float32)\n",
    "    logits = matmul_qk / tf.math.sqrt(depth)\n",
    "\n",
    "    # 패딩에 마스크 추가\n",
    "    if mask is not None:\n",
    "        logits += (mask * -1e9)\n",
    "\n",
    "    # softmax적용\n",
    "    attention_weights = tf.nn.softmax(logits, axis=-1)\n",
    "\n",
    "    # 최종 어텐션은 가중치와 V의 닷 프로덕트\n",
    "    output = tf.matmul(attention_weights, value)\n",
    "    return output"
   ]
  },
  {
   "cell_type": "code",
   "execution_count": 40,
   "id": "ranking-deficit",
   "metadata": {},
   "outputs": [],
   "source": [
    "# 멀티 헤드 어텐션을 구현\n",
    "class MultiHeadAttention(tf.keras.layers.Layer):\n",
    "\n",
    "    def __init__(self, d_model, num_heads, name=\"multi_head_attention\"):\n",
    "        super(MultiHeadAttention, self).__init__(name=name)\n",
    "        self.num_heads = num_heads\n",
    "        self.d_model = d_model\n",
    "\n",
    "        assert d_model % self.num_heads == 0\n",
    "\n",
    "        self.depth = d_model // self.num_heads\n",
    "\n",
    "        self.query_dense = tf.keras.layers.Dense(units=d_model)\n",
    "        self.key_dense = tf.keras.layers.Dense(units=d_model)\n",
    "        self.value_dense = tf.keras.layers.Dense(units=d_model)\n",
    "\n",
    "        self.dense = tf.keras.layers.Dense(units=d_model)\n",
    "\n",
    "    def split_heads(self, inputs, batch_size):\n",
    "        inputs = tf.reshape(\n",
    "            inputs, shape=(batch_size, -1, self.num_heads, self.depth))\n",
    "        return tf.transpose(inputs, perm=[0, 2, 1, 3])\n",
    "\n",
    "    def call(self, inputs):\n",
    "        query, key, value, mask = inputs['query'], inputs['key'], inputs[\n",
    "            'value'], inputs['mask']\n",
    "        batch_size = tf.shape(query)[0]\n",
    "\n",
    "        # Q, K, V에 각각 Dense를 적용\n",
    "        query = self.query_dense(query)\n",
    "        key = self.key_dense(key)\n",
    "        value = self.value_dense(value)\n",
    "\n",
    "        # 병렬 연산을 위한 머리를 여러 개 만들기\n",
    "        query = self.split_heads(query, batch_size)\n",
    "        key = self.split_heads(key, batch_size)\n",
    "        value = self.split_heads(value, batch_size)\n",
    "\n",
    "        # 스케일드 닷 프로덕트 어텐션 함수\n",
    "        scaled_attention = scaled_dot_product_attention(query, key, value, mask)\n",
    "\n",
    "        scaled_attention = tf.transpose(scaled_attention, perm=[0, 2, 1, 3])\n",
    "\n",
    "        # 어텐션 연산 후에 각 결과를 다시 연결(concatenate)\n",
    "        concat_attention = tf.reshape(scaled_attention,\n",
    "                                  (batch_size, -1, self.d_model))\n",
    "\n",
    "        # 최종 결과에도 Dense를 한 번 더 적용\n",
    "        outputs = self.dense(concat_attention)\n",
    "\n",
    "        return outputs"
   ]
  },
  {
   "cell_type": "markdown",
   "id": "chubby-longer",
   "metadata": {},
   "source": [
    "### masking"
   ]
  },
  {
   "cell_type": "code",
   "execution_count": 41,
   "id": "dedicated-opinion",
   "metadata": {},
   "outputs": [],
   "source": [
    "# 패딩 마스킹을 구현\n",
    "def create_padding_mask(x):\n",
    "    mask = tf.cast(tf.math.equal(x, 0), tf.float32)\n",
    "    # (batch_size, 1, 1, sequence length)\n",
    "    return mask[:, tf.newaxis, tf.newaxis, :]"
   ]
  },
  {
   "cell_type": "code",
   "execution_count": 42,
   "id": "forbidden-hebrew",
   "metadata": {},
   "outputs": [],
   "source": [
    "def create_look_ahead_mask(x):\n",
    "    seq_len = tf.shape(x)[1]\n",
    "    look_ahead_mask = 1 - tf.linalg.band_part(tf.ones((seq_len, seq_len)), -1, 0)\n",
    "    padding_mask = create_padding_mask(x)\n",
    "    return tf.maximum(look_ahead_mask, padding_mask)"
   ]
  },
  {
   "cell_type": "markdown",
   "id": "southwest-concern",
   "metadata": {},
   "source": [
    "### encoder"
   ]
  },
  {
   "cell_type": "code",
   "execution_count": 43,
   "id": "biblical-basic",
   "metadata": {},
   "outputs": [],
   "source": [
    "# 인코더 층 만들기\n",
    "# 인코더 하나의 레이어를 함수로 구현.\n",
    "# 이 하나의 레이어 안에는 두 개의 서브 레이어가 존재\n",
    "def encoder_layer(units, d_model, num_heads, dropout, name=\"encoder_layer\"):\n",
    "    inputs = tf.keras.Input(shape=(None, d_model), name=\"inputs\")\n",
    "\n",
    "    # 패딩 마스크 사용\n",
    "    padding_mask = tf.keras.Input(shape=(1, 1, None), name=\"padding_mask\")\n",
    "\n",
    "    # 첫 번째 서브 레이어 : 멀티 헤드 어텐션 수행 (셀프 어텐션)\n",
    "    attention = MultiHeadAttention(\n",
    "        d_model, num_heads, name=\"attention\")({\n",
    "              'query': inputs,\n",
    "              'key': inputs,\n",
    "              'value': inputs,\n",
    "              'mask': padding_mask\n",
    "        })\n",
    "\n",
    "    # 어텐션의 결과는 Dropout과 Layer Normalization이라는 훈련을 돕는 테크닉을 수행\n",
    "    attention = tf.keras.layers.Dropout(rate=dropout)(attention)\n",
    "    attention = tf.keras.layers.LayerNormalization(\n",
    "        epsilon=1e-6)(inputs + attention)\n",
    "\n",
    "    # 두 번째 서브 레이어 : 2개의 완전연결층\n",
    "    outputs = tf.keras.layers.Dense(units=units, activation='relu')(attention)\n",
    "    outputs = tf.keras.layers.Dense(units=d_model)(outputs)\n",
    "\n",
    "    # 완전연결층의 결과는 Dropout과 LayerNormalization이라는 훈련을 돕는 테크닉을 수행\n",
    "    outputs = tf.keras.layers.Dropout(rate=dropout)(outputs)\n",
    "    outputs = tf.keras.layers.LayerNormalization(\n",
    "        epsilon=1e-6)(attention + outputs)\n",
    "\n",
    "    return tf.keras.Model(\n",
    "        inputs=[inputs, padding_mask], outputs=outputs, name=name)"
   ]
  },
  {
   "cell_type": "code",
   "execution_count": 44,
   "id": "boxed-envelope",
   "metadata": {},
   "outputs": [],
   "source": [
    "# 인코더 층을 쌓아 인코더 만들기\n",
    "def encoder(vocab_size,\n",
    "            num_layers,\n",
    "            units,\n",
    "            d_model,\n",
    "            num_heads,\n",
    "            dropout,\n",
    "            name=\"encoder\"):\n",
    "    inputs = tf.keras.Input(shape=(None,), name=\"inputs\")\n",
    "\n",
    "    # 패딩 마스크 사용\n",
    "    padding_mask = tf.keras.Input(shape=(1, 1, None), name=\"padding_mask\")\n",
    "\n",
    "    # 임베딩 레이어\n",
    "    embeddings = tf.keras.layers.Embedding(vocab_size, d_model)(inputs)\n",
    "    embeddings *= tf.math.sqrt(tf.cast(d_model, tf.float32))\n",
    "\n",
    "    # 포지셔널 인코딩\n",
    "    embeddings = PositionalEncoding(vocab_size, d_model)(embeddings)\n",
    "\n",
    "    outputs = tf.keras.layers.Dropout(rate=dropout)(embeddings)\n",
    "\n",
    "    # num_layers만큼 쌓아올린 인코더의 층.\n",
    "    for i in range(num_layers):\n",
    "        outputs = encoder_layer(\n",
    "            units=units,\n",
    "            d_model=d_model,\n",
    "            num_heads=num_heads,\n",
    "            dropout=dropout,\n",
    "            name=\"encoder_layer_{}\".format(i),\n",
    "        )([outputs, padding_mask])\n",
    "\n",
    "    return tf.keras.Model(\n",
    "        inputs=[inputs, padding_mask], outputs=outputs, name=name)"
   ]
  },
  {
   "cell_type": "markdown",
   "id": "obvious-possible",
   "metadata": {},
   "source": [
    "### decoder"
   ]
  },
  {
   "cell_type": "code",
   "execution_count": 45,
   "id": "sorted-socket",
   "metadata": {},
   "outputs": [],
   "source": [
    "# 디코더 층\n",
    "# 디코더 하나의 레이어를 함수로 구현.\n",
    "# 이 하나의 레이어 안에는 세 개의 서브 레이어가 존재합니다.\n",
    "def decoder_layer(units, d_model, num_heads, dropout, name=\"decoder_layer\"):\n",
    "    inputs = tf.keras.Input(shape=(None, d_model), name=\"inputs\")\n",
    "    enc_outputs = tf.keras.Input(shape=(None, d_model), name=\"encoder_outputs\")\n",
    "    look_ahead_mask = tf.keras.Input(\n",
    "        shape=(1, None, None), name=\"look_ahead_mask\")\n",
    "    padding_mask = tf.keras.Input(shape=(1, 1, None), name='padding_mask')\n",
    "\n",
    "    # 첫 번째 서브 레이어 : 멀티 헤드 어텐션 수행 (셀프 어텐션)\n",
    "    attention1 = MultiHeadAttention(\n",
    "        d_model, num_heads, name=\"attention_1\")(inputs={\n",
    "            'query': inputs,\n",
    "            'key': inputs,\n",
    "            'value': inputs,\n",
    "            'mask': look_ahead_mask\n",
    "        })\n",
    "\n",
    "    # 멀티 헤드 어텐션의 결과는 LayerNormalization이라는 훈련을 돕는 테크닉을 수행\n",
    "    attention1 = tf.keras.layers.LayerNormalization(\n",
    "        epsilon=1e-6)(attention1 + inputs)\n",
    "\n",
    "    # 두 번째 서브 레이어 : 마스크드 멀티 헤드 어텐션 수행 (인코더-디코더 어텐션)\n",
    "    attention2 = MultiHeadAttention(\n",
    "        d_model, num_heads, name=\"attention_2\")(inputs={\n",
    "            'query': attention1,\n",
    "            'key': enc_outputs,\n",
    "            'value': enc_outputs,\n",
    "            'mask': padding_mask\n",
    "        })\n",
    "\n",
    "    # 마스크드 멀티 헤드 어텐션의 결과는\n",
    "    # Dropout과 LayerNormalization이라는 훈련을 돕는 테크닉을 수행\n",
    "    attention2 = tf.keras.layers.Dropout(rate=dropout)(attention2)\n",
    "    attention2 = tf.keras.layers.LayerNormalization(\n",
    "        epsilon=1e-6)(attention2 + attention1)\n",
    "\n",
    "    # 세 번째 서브 레이어 : 2개의 완전연결층\n",
    "    outputs = tf.keras.layers.Dense(units=units, activation='relu')(attention2)\n",
    "    outputs = tf.keras.layers.Dense(units=d_model)(outputs)\n",
    "\n",
    "    # 완전연결층의 결과는 Dropout과 LayerNormalization 수행\n",
    "    outputs = tf.keras.layers.Dropout(rate=dropout)(outputs)\n",
    "    outputs = tf.keras.layers.LayerNormalization(\n",
    "        epsilon=1e-6)(outputs + attention2)\n",
    "\n",
    "    return tf.keras.Model(\n",
    "        inputs=[inputs, enc_outputs, look_ahead_mask, padding_mask],\n",
    "        outputs=outputs,\n",
    "        name=name)"
   ]
  },
  {
   "cell_type": "code",
   "execution_count": 46,
   "id": "latter-vinyl",
   "metadata": {},
   "outputs": [],
   "source": [
    "# 디코더 층을 쌓아 디코더 만들기\n",
    "def decoder(vocab_size,\n",
    "            num_layers,\n",
    "            units,\n",
    "            d_model,\n",
    "            num_heads,\n",
    "            dropout,\n",
    "            name='decoder'):\n",
    "    inputs = tf.keras.Input(shape=(None,), name='inputs')\n",
    "    enc_outputs = tf.keras.Input(shape=(None, d_model), name='encoder_outputs')\n",
    "    look_ahead_mask = tf.keras.Input(\n",
    "        shape=(1, None, None), name='look_ahead_mask')\n",
    "\n",
    "    # 패딩 마스크\n",
    "    padding_mask = tf.keras.Input(shape=(1, 1, None), name='padding_mask')\n",
    "  \n",
    "    # 임베딩 레이어\n",
    "    embeddings = tf.keras.layers.Embedding(vocab_size, d_model)(inputs)\n",
    "    embeddings *= tf.math.sqrt(tf.cast(d_model, tf.float32))\n",
    "\n",
    "    # 포지셔널 인코딩\n",
    "    embeddings = PositionalEncoding(vocab_size, d_model)(embeddings)\n",
    "\n",
    "    # Dropout이라는 훈련을 돕는 테크닉을 수행\n",
    "    outputs = tf.keras.layers.Dropout(rate=dropout)(embeddings)\n",
    "\n",
    "    for i in range(num_layers):\n",
    "        outputs = decoder_layer(\n",
    "            units=units,\n",
    "            d_model=d_model,\n",
    "            num_heads=num_heads,\n",
    "            dropout=dropout,\n",
    "            name='decoder_layer_{}'.format(i),\n",
    "        )(inputs=[outputs, enc_outputs, look_ahead_mask, padding_mask])\n",
    "\n",
    "    return tf.keras.Model(\n",
    "        inputs=[inputs, enc_outputs, look_ahead_mask, padding_mask],\n",
    "        outputs=outputs,\n",
    "        name=name)"
   ]
  },
  {
   "cell_type": "code",
   "execution_count": 47,
   "id": "advisory-vietnamese",
   "metadata": {},
   "outputs": [],
   "source": [
    "def transformer(vocab_size,\n",
    "                num_layers,\n",
    "                units,\n",
    "                d_model,\n",
    "                num_heads,\n",
    "                dropout,\n",
    "                name=\"transformer\"):\n",
    "    inputs = tf.keras.Input(shape=(None,), name=\"inputs\")\n",
    "    dec_inputs = tf.keras.Input(shape=(None,), name=\"dec_inputs\")\n",
    "\n",
    "    # 인코더에서 패딩을 위한 마스크\n",
    "    enc_padding_mask = tf.keras.layers.Lambda(\n",
    "        create_padding_mask, output_shape=(1, 1, None),\n",
    "        name='enc_padding_mask')(inputs)\n",
    "\n",
    "    # 디코더에서 미래의 토큰을 마스크 하기 위해서 사용합니다.\n",
    "    # 내부적으로 패딩 마스크도 포함되어져 있습니다.\n",
    "    look_ahead_mask = tf.keras.layers.Lambda(\n",
    "        create_look_ahead_mask,\n",
    "        output_shape=(1, None, None),\n",
    "        name='look_ahead_mask')(dec_inputs)\n",
    "\n",
    "    # 두 번째 어텐션 블록에서 인코더의 벡터들을 마스킹\n",
    "    # 디코더에서 패딩을 위한 마스크\n",
    "    dec_padding_mask = tf.keras.layers.Lambda(\n",
    "        create_padding_mask, output_shape=(1, 1, None),\n",
    "        name='dec_padding_mask')(inputs)\n",
    "\n",
    "    # 인코더\n",
    "    enc_outputs = encoder(\n",
    "        vocab_size=vocab_size,\n",
    "        num_layers=num_layers,\n",
    "        units=units,\n",
    "        d_model=d_model,\n",
    "        num_heads=num_heads,\n",
    "        dropout=dropout,\n",
    "    )(inputs=[inputs, enc_padding_mask])\n",
    "\n",
    "    # 디코더\n",
    "    dec_outputs = decoder(\n",
    "        vocab_size=vocab_size,\n",
    "        num_layers=num_layers,\n",
    "        units=units,\n",
    "        d_model=d_model,\n",
    "        num_heads=num_heads,\n",
    "        dropout=dropout,\n",
    "    )(inputs=[dec_inputs, enc_outputs, look_ahead_mask, dec_padding_mask])\n",
    "\n",
    "    # 완전연결층\n",
    "    outputs = tf.keras.layers.Dense(units=vocab_size, name=\"outputs\")(dec_outputs)\n",
    "\n",
    "    return tf.keras.Model(inputs=[inputs, dec_inputs], outputs=outputs, name=name)"
   ]
  },
  {
   "cell_type": "code",
   "execution_count": 48,
   "id": "joint-sarah",
   "metadata": {},
   "outputs": [
    {
     "name": "stdout",
     "output_type": "stream",
     "text": [
      "Model: \"transformer\"\n",
      "__________________________________________________________________________________________________\n",
      "Layer (type)                    Output Shape         Param #     Connected to                     \n",
      "==================================================================================================\n",
      "inputs (InputLayer)             [(None, None)]       0                                            \n",
      "__________________________________________________________________________________________________\n",
      "dec_inputs (InputLayer)         [(None, None)]       0                                            \n",
      "__________________________________________________________________________________________________\n",
      "enc_padding_mask (Lambda)       (None, 1, 1, None)   0           inputs[0][0]                     \n",
      "__________________________________________________________________________________________________\n",
      "encoder (Functional)            (None, None, 256)    3144192     inputs[0][0]                     \n",
      "                                                                 enc_padding_mask[0][0]           \n",
      "__________________________________________________________________________________________________\n",
      "look_ahead_mask (Lambda)        (None, 1, None, None 0           dec_inputs[0][0]                 \n",
      "__________________________________________________________________________________________________\n",
      "dec_padding_mask (Lambda)       (None, 1, 1, None)   0           inputs[0][0]                     \n",
      "__________________________________________________________________________________________________\n",
      "decoder (Functional)            (None, None, 256)    3671552     dec_inputs[0][0]                 \n",
      "                                                                 encoder[0][0]                    \n",
      "                                                                 look_ahead_mask[0][0]            \n",
      "                                                                 dec_padding_mask[0][0]           \n",
      "__________________________________________________________________________________________________\n",
      "outputs (Dense)                 (None, None, 8164)   2098148     decoder[0][0]                    \n",
      "==================================================================================================\n",
      "Total params: 8,913,892\n",
      "Trainable params: 8,913,892\n",
      "Non-trainable params: 0\n",
      "__________________________________________________________________________________________________\n"
     ]
    }
   ],
   "source": [
    "# 모델 생성\n",
    "\n",
    "tf.keras.backend.clear_session()\n",
    "\n",
    "# 하이퍼파라미터\n",
    "NUM_LAYERS = 2 # 인코더와 디코더의 층의 개수\n",
    "D_MODEL = 256 # 인코더와 디코더 내부의 입, 출력의 고정 차원\n",
    "NUM_HEADS = 8 # 멀티 헤드 어텐션에서의 헤드 수 \n",
    "UNITS = 512 # 피드 포워드 신경망의 은닉층의 크기\n",
    "DROPOUT = 0.1 # 드롭아웃의 비율\n",
    "\n",
    "model = transformer(\n",
    "    vocab_size=VOCAB_SIZE,\n",
    "    num_layers=NUM_LAYERS,\n",
    "    units=UNITS,\n",
    "    d_model=D_MODEL,\n",
    "    num_heads=NUM_HEADS,\n",
    "    dropout=DROPOUT)\n",
    "\n",
    "model.summary()"
   ]
  },
  {
   "cell_type": "code",
   "execution_count": 49,
   "id": "english-being",
   "metadata": {},
   "outputs": [],
   "source": [
    "# 손실 함수(Loss function)\n",
    "\n",
    "def loss_function(y_true, y_pred):\n",
    "    y_true = tf.reshape(y_true, shape=(-1, MAX_LENGTH - 1))\n",
    "  \n",
    "    loss = tf.keras.losses.SparseCategoricalCrossentropy(\n",
    "        from_logits=True, reduction='none')(y_true, y_pred)\n",
    "\n",
    "    mask = tf.cast(tf.not_equal(y_true, 0), tf.float32)\n",
    "    loss = tf.multiply(loss, mask)\n",
    "\n",
    "    return tf.reduce_mean(loss)"
   ]
  },
  {
   "cell_type": "code",
   "execution_count": 50,
   "id": "separate-magic",
   "metadata": {},
   "outputs": [],
   "source": [
    "# 커스텀 된 학습률(Learning rate)\n",
    "\n",
    "class CustomSchedule(tf.keras.optimizers.schedules.LearningRateSchedule):\n",
    "\n",
    "    def __init__(self, d_model, warmup_steps=4000):\n",
    "        super(CustomSchedule, self).__init__()\n",
    "\n",
    "        self.d_model = d_model\n",
    "        self.d_model = tf.cast(self.d_model, tf.float32)\n",
    "\n",
    "        self.warmup_steps = warmup_steps\n",
    "\n",
    "    def __call__(self, step):\n",
    "        arg1 = tf.math.rsqrt(step)\n",
    "        arg2 = step * (self.warmup_steps**-1.5)\n",
    "\n",
    "        return tf.math.rsqrt(self.d_model) * tf.math.minimum(arg1, arg2)"
   ]
  },
  {
   "cell_type": "code",
   "execution_count": 52,
   "id": "educational-serbia",
   "metadata": {},
   "outputs": [
    {
     "data": {
      "text/plain": [
       "Text(0.5, 0, 'Train Step')"
      ]
     },
     "execution_count": 52,
     "metadata": {},
     "output_type": "execute_result"
    },
    {
     "data": {
      "image/png": "[encoded data removed]",
      "text/plain": [
       "<Figure size 432x288 with 1 Axes>"
      ]
     },
     "metadata": {
      "needs_background": "light"
     },
     "output_type": "display_data"
    }
   ],
   "source": [
    "sample_learning_rate = CustomSchedule(d_model=128)\n",
    "\n",
    "plt.plot(sample_learning_rate(tf.range(200000, dtype=tf.float32)))\n",
    "plt.ylabel(\"Learning Rate\")\n",
    "plt.xlabel(\"Train Step\")"
   ]
  },
  {
   "cell_type": "code",
   "execution_count": 53,
   "id": "legendary-physiology",
   "metadata": {},
   "outputs": [],
   "source": [
    "# 모델 컴파일\n",
    "\n",
    "learning_rate = CustomSchedule(D_MODEL)\n",
    "\n",
    "optimizer = tf.keras.optimizers.Adam(\n",
    "    learning_rate, beta_1=0.9, beta_2=0.98, epsilon=1e-9)\n",
    "\n",
    "def accuracy(y_true, y_pred):\n",
    "    y_true = tf.reshape(y_true, shape=(-1, MAX_LENGTH - 1))\n",
    "    return tf.keras.metrics.sparse_categorical_accuracy(y_true, y_pred)\n",
    "\n",
    "model.compile(optimizer=optimizer, loss=loss_function, metrics=[accuracy])"
   ]
  },
  {
   "cell_type": "code",
   "execution_count": 54,
   "id": "understanding-violin",
   "metadata": {},
   "outputs": [
    {
     "name": "stdout",
     "output_type": "stream",
     "text": [
      "Epoch 1/30\n",
      "185/185 [==============================] - 34s 144ms/step - loss: 1.5203 - accuracy: 0.0137\n",
      "Epoch 2/30\n",
      "185/185 [==============================] - 27s 145ms/step - loss: 1.2413 - accuracy: 0.0492\n",
      "Epoch 3/30\n",
      "185/185 [==============================] - 27s 144ms/step - loss: 1.0268 - accuracy: 0.0501\n",
      "Epoch 4/30\n",
      "185/185 [==============================] - 27s 147ms/step - loss: 0.9416 - accuracy: 0.0538\n",
      "Epoch 5/30\n",
      "185/185 [==============================] - 27s 145ms/step - loss: 0.8798 - accuracy: 0.0574\n",
      "Epoch 6/30\n",
      "185/185 [==============================] - 27s 145ms/step - loss: 0.8135 - accuracy: 0.0609\n",
      "Epoch 7/30\n",
      "185/185 [==============================] - 27s 148ms/step - loss: 0.7509 - accuracy: 0.0668\n",
      "Epoch 8/30\n",
      "185/185 [==============================] - 27s 147ms/step - loss: 0.6804 - accuracy: 0.0748\n",
      "Epoch 9/30\n",
      "185/185 [==============================] - 27s 145ms/step - loss: 0.5993 - accuracy: 0.0841\n",
      "Epoch 10/30\n",
      "185/185 [==============================] - 27s 147ms/step - loss: 0.5099 - accuracy: 0.0942\n",
      "Epoch 11/30\n",
      "185/185 [==============================] - 27s 147ms/step - loss: 0.4237 - accuracy: 0.1052\n",
      "Epoch 12/30\n",
      "185/185 [==============================] - 28s 149ms/step - loss: 0.3440 - accuracy: 0.1156\n",
      "Epoch 13/30\n",
      "185/185 [==============================] - 27s 147ms/step - loss: 0.2631 - accuracy: 0.1274\n",
      "Epoch 14/30\n",
      "185/185 [==============================] - 27s 147ms/step - loss: 0.2003 - accuracy: 0.1376\n",
      "Epoch 15/30\n",
      "185/185 [==============================] - 28s 149ms/step - loss: 0.1436 - accuracy: 0.1485\n",
      "Epoch 16/30\n",
      "185/185 [==============================] - 27s 147ms/step - loss: 0.1015 - accuracy: 0.1576\n",
      "Epoch 17/30\n",
      "185/185 [==============================] - 27s 148ms/step - loss: 0.0705 - accuracy: 0.1610\n",
      "Epoch 18/30\n",
      "185/185 [==============================] - 27s 149ms/step - loss: 0.0536 - accuracy: 0.1643\n",
      "Epoch 19/30\n",
      "185/185 [==============================] - 27s 148ms/step - loss: 0.0440 - accuracy: 0.1654\n",
      "Epoch 20/30\n",
      "185/185 [==============================] - 27s 147ms/step - loss: 0.0389 - accuracy: 0.1653\n",
      "Epoch 21/30\n",
      "185/185 [==============================] - 28s 149ms/step - loss: 0.0362 - accuracy: 0.1663\n",
      "Epoch 22/30\n",
      "185/185 [==============================] - 27s 147ms/step - loss: 0.0355 - accuracy: 0.1656\n",
      "Epoch 23/30\n",
      "185/185 [==============================] - 27s 148ms/step - loss: 0.0319 - accuracy: 0.1672\n",
      "Epoch 24/30\n",
      "185/185 [==============================] - 27s 148ms/step - loss: 0.0287 - accuracy: 0.1680\n",
      "Epoch 25/30\n",
      "185/185 [==============================] - 27s 146ms/step - loss: 0.0257 - accuracy: 0.1692\n",
      "Epoch 26/30\n",
      "185/185 [==============================] - 28s 150ms/step - loss: 0.0221 - accuracy: 0.1705\n",
      "Epoch 27/30\n",
      "185/185 [==============================] - 28s 149ms/step - loss: 0.0196 - accuracy: 0.1704\n",
      "Epoch 28/30\n",
      "185/185 [==============================] - 28s 149ms/step - loss: 0.0179 - accuracy: 0.1700\n",
      "Epoch 29/30\n",
      "185/185 [==============================] - 27s 148ms/step - loss: 0.0162 - accuracy: 0.1723\n",
      "Epoch 30/30\n",
      "185/185 [==============================] - 27s 147ms/step - loss: 0.0150 - accuracy: 0.1715\n"
     ]
    },
    {
     "data": {
      "text/plain": [
       "<tensorflow.python.keras.callbacks.History at 0x7f6974c54d10>"
      ]
     },
     "execution_count": 54,
     "metadata": {},
     "output_type": "execute_result"
    }
   ],
   "source": [
    "# 훈련하기\n",
    "\n",
    "EPOCHS = 30\n",
    "model.fit(dataset, epochs=EPOCHS, verbose=1)"
   ]
  },
  {
   "cell_type": "code",
   "execution_count": 62,
   "id": "raised-dispute",
   "metadata": {},
   "outputs": [
    {
     "name": "stdout",
     "output_type": "stream",
     "text": [
      "Epoch 1/150\n",
      "185/185 [==============================] - 27s 147ms/step - loss: 0.0158 - accuracy: 0.1711\n",
      "Epoch 2/150\n",
      "185/185 [==============================] - 28s 149ms/step - loss: 0.0145 - accuracy: 0.1715\n",
      "Epoch 3/150\n",
      "185/185 [==============================] - 27s 148ms/step - loss: 0.0136 - accuracy: 0.1716\n",
      "Epoch 4/150\n",
      "185/185 [==============================] - 27s 146ms/step - loss: 0.0127 - accuracy: 0.1719\n",
      "Epoch 5/150\n",
      "185/185 [==============================] - 28s 151ms/step - loss: 0.0117 - accuracy: 0.1723\n",
      "Epoch 6/150\n",
      "185/185 [==============================] - 27s 147ms/step - loss: 0.0107 - accuracy: 0.1725\n",
      "Epoch 7/150\n",
      "185/185 [==============================] - 27s 147ms/step - loss: 0.0104 - accuracy: 0.1725\n",
      "Epoch 8/150\n",
      "185/185 [==============================] - 27s 147ms/step - loss: 0.0097 - accuracy: 0.1726\n",
      "Epoch 9/150\n",
      "185/185 [==============================] - 27s 148ms/step - loss: 0.0092 - accuracy: 0.1728\n",
      "Epoch 10/150\n",
      "185/185 [==============================] - 28s 150ms/step - loss: 0.0088 - accuracy: 0.1729\n",
      "Epoch 11/150\n",
      "185/185 [==============================] - 27s 146ms/step - loss: 0.0080 - accuracy: 0.1731\n",
      "Epoch 12/150\n",
      "185/185 [==============================] - 28s 149ms/step - loss: 0.0078 - accuracy: 0.1732\n",
      "Epoch 13/150\n",
      "185/185 [==============================] - 27s 147ms/step - loss: 0.0075 - accuracy: 0.1732\n",
      "Epoch 14/150\n",
      "185/185 [==============================] - 27s 148ms/step - loss: 0.0072 - accuracy: 0.1732\n",
      "Epoch 15/150\n",
      "185/185 [==============================] - 27s 147ms/step - loss: 0.0071 - accuracy: 0.1733\n",
      "Epoch 16/150\n",
      "185/185 [==============================] - 28s 149ms/step - loss: 0.0069 - accuracy: 0.1734\n",
      "Epoch 17/150\n",
      "185/185 [==============================] - 27s 147ms/step - loss: 0.0066 - accuracy: 0.1734\n",
      "Epoch 18/150\n",
      "185/185 [==============================] - 27s 145ms/step - loss: 0.0061 - accuracy: 0.1736\n",
      "Epoch 19/150\n",
      "185/185 [==============================] - 27s 147ms/step - loss: 0.0058 - accuracy: 0.1737\n",
      "Epoch 20/150\n",
      "185/185 [==============================] - 28s 149ms/step - loss: 0.0056 - accuracy: 0.1737\n",
      "Epoch 21/150\n",
      "185/185 [==============================] - 27s 148ms/step - loss: 0.0054 - accuracy: 0.1737\n",
      "Epoch 22/150\n",
      "185/185 [==============================] - 27s 145ms/step - loss: 0.0052 - accuracy: 0.1738\n",
      "Epoch 23/150\n",
      "185/185 [==============================] - 27s 148ms/step - loss: 0.0052 - accuracy: 0.1737\n",
      "Epoch 24/150\n",
      "185/185 [==============================] - 27s 148ms/step - loss: 0.0051 - accuracy: 0.1738\n",
      "Epoch 25/150\n",
      "185/185 [==============================] - 28s 149ms/step - loss: 0.0050 - accuracy: 0.1738\n",
      "Epoch 26/150\n",
      "185/185 [==============================] - 27s 145ms/step - loss: 0.0045 - accuracy: 0.1739\n",
      "Epoch 27/150\n",
      "185/185 [==============================] - 28s 150ms/step - loss: 0.0047 - accuracy: 0.1739\n",
      "Epoch 28/150\n",
      "185/185 [==============================] - 28s 149ms/step - loss: 0.0044 - accuracy: 0.1739\n",
      "Epoch 29/150\n",
      "185/185 [==============================] - 27s 148ms/step - loss: 0.0044 - accuracy: 0.1740\n",
      "Epoch 30/150\n",
      "185/185 [==============================] - 28s 149ms/step - loss: 0.0041 - accuracy: 0.1741\n",
      "Epoch 31/150\n",
      "185/185 [==============================] - 27s 148ms/step - loss: 0.0042 - accuracy: 0.1740\n",
      "Epoch 32/150\n",
      "185/185 [==============================] - 28s 151ms/step - loss: 0.0040 - accuracy: 0.1740\n",
      "Epoch 33/150\n",
      "185/185 [==============================] - 27s 147ms/step - loss: 0.0039 - accuracy: 0.1740\n",
      "Epoch 34/150\n",
      "185/185 [==============================] - 28s 151ms/step - loss: 0.0039 - accuracy: 0.1741\n",
      "Epoch 35/150\n",
      "185/185 [==============================] - 27s 148ms/step - loss: 0.0037 - accuracy: 0.1741\n",
      "Epoch 36/150\n",
      "185/185 [==============================] - 27s 147ms/step - loss: 0.0036 - accuracy: 0.1741\n",
      "Epoch 37/150\n",
      "185/185 [==============================] - 28s 150ms/step - loss: 0.0034 - accuracy: 0.1741\n",
      "Epoch 38/150\n",
      "185/185 [==============================] - 27s 148ms/step - loss: 0.0035 - accuracy: 0.1741\n",
      "Epoch 39/150\n",
      "185/185 [==============================] - 27s 148ms/step - loss: 0.0034 - accuracy: 0.1742\n",
      "Epoch 40/150\n",
      "185/185 [==============================] - 27s 148ms/step - loss: 0.0033 - accuracy: 0.1742\n",
      "Epoch 41/150\n",
      "185/185 [==============================] - 27s 145ms/step - loss: 0.0034 - accuracy: 0.1741\n",
      "Epoch 42/150\n",
      "185/185 [==============================] - 27s 147ms/step - loss: 0.0030 - accuracy: 0.1742\n",
      "Epoch 43/150\n",
      "185/185 [==============================] - 27s 147ms/step - loss: 0.0032 - accuracy: 0.1742\n",
      "Epoch 44/150\n",
      "185/185 [==============================] - 27s 148ms/step - loss: 0.0028 - accuracy: 0.1742\n",
      "Epoch 45/150\n",
      "185/185 [==============================] - 28s 151ms/step - loss: 0.0029 - accuracy: 0.1742\n",
      "Epoch 46/150\n",
      "185/185 [==============================] - 27s 148ms/step - loss: 0.0029 - accuracy: 0.1743\n",
      "Epoch 47/150\n",
      "185/185 [==============================] - 27s 148ms/step - loss: 0.0029 - accuracy: 0.1743\n",
      "Epoch 48/150\n",
      "185/185 [==============================] - 27s 146ms/step - loss: 0.0028 - accuracy: 0.1742\n",
      "Epoch 49/150\n",
      "185/185 [==============================] - 27s 148ms/step - loss: 0.0027 - accuracy: 0.1743\n",
      "Epoch 50/150\n",
      "185/185 [==============================] - 28s 149ms/step - loss: 0.0030 - accuracy: 0.1742\n",
      "Epoch 51/150\n",
      "185/185 [==============================] - 27s 146ms/step - loss: 0.0028 - accuracy: 0.1743\n",
      "Epoch 52/150\n",
      "185/185 [==============================] - 28s 149ms/step - loss: 0.0027 - accuracy: 0.1742\n",
      "Epoch 53/150\n",
      "185/185 [==============================] - 27s 147ms/step - loss: 0.0026 - accuracy: 0.1742\n",
      "Epoch 54/150\n",
      "185/185 [==============================] - 27s 147ms/step - loss: 0.0028 - accuracy: 0.1742\n",
      "Epoch 55/150\n",
      "185/185 [==============================] - 27s 148ms/step - loss: 0.0026 - accuracy: 0.1743\n",
      "Epoch 56/150\n",
      "185/185 [==============================] - 28s 149ms/step - loss: 0.0025 - accuracy: 0.1743\n",
      "Epoch 57/150\n",
      "185/185 [==============================] - 27s 147ms/step - loss: 0.0025 - accuracy: 0.1743\n",
      "Epoch 58/150\n",
      "185/185 [==============================] - 27s 148ms/step - loss: 0.0023 - accuracy: 0.1744\n",
      "Epoch 59/150\n",
      "185/185 [==============================] - 27s 148ms/step - loss: 0.0024 - accuracy: 0.1743\n",
      "Epoch 60/150\n",
      "185/185 [==============================] - 28s 150ms/step - loss: 0.0022 - accuracy: 0.1743\n",
      "Epoch 61/150\n",
      "185/185 [==============================] - 27s 148ms/step - loss: 0.0024 - accuracy: 0.1743\n",
      "Epoch 62/150\n",
      "185/185 [==============================] - 27s 147ms/step - loss: 0.0023 - accuracy: 0.1743\n",
      "Epoch 63/150\n",
      "185/185 [==============================] - 27s 148ms/step - loss: 0.0022 - accuracy: 0.1744\n",
      "Epoch 64/150\n",
      "185/185 [==============================] - 28s 151ms/step - loss: 0.0022 - accuracy: 0.1744\n",
      "Epoch 65/150\n",
      "185/185 [==============================] - 28s 150ms/step - loss: 0.0022 - accuracy: 0.1743\n",
      "Epoch 66/150\n",
      "185/185 [==============================] - 27s 147ms/step - loss: 0.0020 - accuracy: 0.1743\n",
      "Epoch 67/150\n",
      "185/185 [==============================] - 27s 148ms/step - loss: 0.0021 - accuracy: 0.1744\n",
      "Epoch 68/150\n",
      "185/185 [==============================] - 27s 148ms/step - loss: 0.0022 - accuracy: 0.1744\n",
      "Epoch 69/150\n",
      "185/185 [==============================] - 27s 148ms/step - loss: 0.0021 - accuracy: 0.1744\n",
      "Epoch 70/150\n",
      "185/185 [==============================] - 27s 147ms/step - loss: 0.0022 - accuracy: 0.1743\n",
      "Epoch 71/150\n",
      "185/185 [==============================] - 27s 148ms/step - loss: 0.0020 - accuracy: 0.1744\n",
      "Epoch 72/150\n",
      "185/185 [==============================] - 27s 148ms/step - loss: 0.0021 - accuracy: 0.1743\n",
      "Epoch 73/150\n",
      "185/185 [==============================] - 27s 147ms/step - loss: 0.0017 - accuracy: 0.1744\n",
      "Epoch 74/150\n",
      "185/185 [==============================] - 27s 148ms/step - loss: 0.0019 - accuracy: 0.1744\n",
      "Epoch 75/150\n",
      "185/185 [==============================] - 27s 146ms/step - loss: 0.0019 - accuracy: 0.1744\n",
      "Epoch 76/150\n",
      "185/185 [==============================] - 28s 149ms/step - loss: 0.0019 - accuracy: 0.1744\n",
      "Epoch 77/150\n",
      "185/185 [==============================] - 27s 148ms/step - loss: 0.0017 - accuracy: 0.1744\n",
      "Epoch 78/150\n",
      "185/185 [==============================] - 27s 148ms/step - loss: 0.0018 - accuracy: 0.1744\n",
      "Epoch 79/150\n",
      "185/185 [==============================] - 27s 147ms/step - loss: 0.0017 - accuracy: 0.1744\n",
      "Epoch 80/150\n",
      "185/185 [==============================] - 27s 148ms/step - loss: 0.0018 - accuracy: 0.1744\n",
      "Epoch 81/150\n",
      "185/185 [==============================] - 27s 148ms/step - loss: 0.0018 - accuracy: 0.1744\n",
      "Epoch 82/150\n",
      "185/185 [==============================] - 27s 148ms/step - loss: 0.0017 - accuracy: 0.1744\n",
      "Epoch 83/150\n",
      "185/185 [==============================] - 28s 149ms/step - loss: 0.0017 - accuracy: 0.1744\n",
      "Epoch 84/150\n",
      "185/185 [==============================] - 27s 146ms/step - loss: 0.0017 - accuracy: 0.1744\n",
      "Epoch 85/150\n",
      "185/185 [==============================] - 27s 148ms/step - loss: 0.0016 - accuracy: 0.1744\n",
      "Epoch 86/150\n",
      "185/185 [==============================] - 27s 148ms/step - loss: 0.0017 - accuracy: 0.1744\n",
      "Epoch 87/150\n",
      "185/185 [==============================] - 27s 148ms/step - loss: 0.0017 - accuracy: 0.1744\n",
      "Epoch 88/150\n",
      "185/185 [==============================] - 27s 147ms/step - loss: 0.0018 - accuracy: 0.1744\n",
      "Epoch 89/150\n",
      "185/185 [==============================] - 28s 149ms/step - loss: 0.0016 - accuracy: 0.1745\n",
      "Epoch 90/150\n",
      "185/185 [==============================] - 27s 147ms/step - loss: 0.0016 - accuracy: 0.1744\n",
      "Epoch 91/150\n",
      "185/185 [==============================] - 28s 150ms/step - loss: 0.0016 - accuracy: 0.1744\n",
      "Epoch 92/150\n",
      "185/185 [==============================] - 27s 147ms/step - loss: 0.0016 - accuracy: 0.1744\n",
      "Epoch 93/150\n",
      "185/185 [==============================] - 27s 148ms/step - loss: 0.0016 - accuracy: 0.1744\n",
      "Epoch 94/150\n",
      "185/185 [==============================] - 27s 148ms/step - loss: 0.0015 - accuracy: 0.1744\n",
      "Epoch 95/150\n",
      "185/185 [==============================] - 27s 147ms/step - loss: 0.0014 - accuracy: 0.1744\n",
      "Epoch 96/150\n",
      "185/185 [==============================] - 27s 145ms/step - loss: 0.0016 - accuracy: 0.1744\n",
      "Epoch 97/150\n",
      "185/185 [==============================] - 27s 147ms/step - loss: 0.0014 - accuracy: 0.1744\n",
      "Epoch 98/150\n",
      "185/185 [==============================] - 28s 149ms/step - loss: 0.0016 - accuracy: 0.1744\n",
      "Epoch 99/150\n",
      "185/185 [==============================] - 28s 149ms/step - loss: 0.0014 - accuracy: 0.1744\n",
      "Epoch 100/150\n",
      "185/185 [==============================] - 27s 148ms/step - loss: 0.0015 - accuracy: 0.1745\n",
      "Epoch 101/150\n",
      "185/185 [==============================] - 27s 146ms/step - loss: 0.0015 - accuracy: 0.1744\n",
      "Epoch 102/150\n",
      "185/185 [==============================] - 27s 148ms/step - loss: 0.0016 - accuracy: 0.1744\n",
      "Epoch 103/150\n",
      "185/185 [==============================] - 27s 146ms/step - loss: 0.0015 - accuracy: 0.1744\n",
      "Epoch 104/150\n",
      "185/185 [==============================] - 27s 149ms/step - loss: 0.0016 - accuracy: 0.1744\n",
      "Epoch 105/150\n",
      "185/185 [==============================] - 27s 146ms/step - loss: 0.0014 - accuracy: 0.1744\n",
      "Epoch 106/150\n",
      "185/185 [==============================] - 27s 148ms/step - loss: 0.0013 - accuracy: 0.1745\n",
      "Epoch 107/150\n",
      "185/185 [==============================] - 28s 149ms/step - loss: 0.0014 - accuracy: 0.1744\n",
      "Epoch 108/150\n",
      "185/185 [==============================] - 27s 146ms/step - loss: 0.0014 - accuracy: 0.1744\n",
      "Epoch 109/150\n",
      "185/185 [==============================] - 28s 149ms/step - loss: 0.0014 - accuracy: 0.1744\n",
      "Epoch 110/150\n",
      "185/185 [==============================] - 27s 145ms/step - loss: 0.0013 - accuracy: 0.1744\n",
      "Epoch 111/150\n",
      "185/185 [==============================] - 27s 147ms/step - loss: 0.0014 - accuracy: 0.1744\n",
      "Epoch 112/150\n",
      "185/185 [==============================] - 27s 148ms/step - loss: 0.0013 - accuracy: 0.1744\n",
      "Epoch 113/150\n",
      "185/185 [==============================] - 27s 148ms/step - loss: 0.0015 - accuracy: 0.1745\n",
      "Epoch 114/150\n",
      "185/185 [==============================] - 28s 149ms/step - loss: 0.0011 - accuracy: 0.1745\n",
      "Epoch 115/150\n",
      "185/185 [==============================] - 27s 146ms/step - loss: 0.0012 - accuracy: 0.1745\n",
      "Epoch 116/150\n",
      "185/185 [==============================] - 27s 148ms/step - loss: 0.0013 - accuracy: 0.1744\n",
      "Epoch 117/150\n",
      "185/185 [==============================] - 27s 147ms/step - loss: 0.0013 - accuracy: 0.1744\n",
      "Epoch 118/150\n",
      "185/185 [==============================] - 27s 147ms/step - loss: 0.0012 - accuracy: 0.1745\n",
      "Epoch 119/150\n",
      "185/185 [==============================] - 27s 146ms/step - loss: 0.0012 - accuracy: 0.1745\n",
      "Epoch 120/150\n",
      "185/185 [==============================] - 27s 147ms/step - loss: 0.0012 - accuracy: 0.1745\n",
      "Epoch 121/150\n",
      "185/185 [==============================] - 27s 145ms/step - loss: 0.0012 - accuracy: 0.1745\n",
      "Epoch 122/150\n",
      "185/185 [==============================] - 27s 145ms/step - loss: 0.0012 - accuracy: 0.1745\n",
      "Epoch 123/150\n",
      "185/185 [==============================] - 27s 144ms/step - loss: 0.0012 - accuracy: 0.1744\n",
      "Epoch 124/150\n",
      "185/185 [==============================] - 28s 149ms/step - loss: 0.0013 - accuracy: 0.1744\n",
      "Epoch 125/150\n",
      "185/185 [==============================] - 27s 146ms/step - loss: 0.0012 - accuracy: 0.1745\n",
      "Epoch 126/150\n",
      "185/185 [==============================] - 28s 149ms/step - loss: 0.0012 - accuracy: 0.1745\n",
      "Epoch 127/150\n",
      "185/185 [==============================] - 27s 148ms/step - loss: 0.0012 - accuracy: 0.1744\n",
      "Epoch 128/150\n",
      "185/185 [==============================] - 27s 148ms/step - loss: 0.0012 - accuracy: 0.1745\n",
      "Epoch 129/150\n",
      "185/185 [==============================] - 28s 149ms/step - loss: 0.0012 - accuracy: 0.1745\n",
      "Epoch 130/150\n",
      "185/185 [==============================] - 27s 148ms/step - loss: 0.0012 - accuracy: 0.1745\n",
      "Epoch 131/150\n",
      "185/185 [==============================] - 28s 149ms/step - loss: 0.0013 - accuracy: 0.1744\n",
      "Epoch 132/150\n",
      "185/185 [==============================] - 28s 149ms/step - loss: 0.0012 - accuracy: 0.1745\n",
      "Epoch 133/150\n",
      "185/185 [==============================] - 27s 147ms/step - loss: 0.0011 - accuracy: 0.1745\n",
      "Epoch 134/150\n",
      "185/185 [==============================] - 27s 147ms/step - loss: 0.0012 - accuracy: 0.1745\n",
      "Epoch 135/150\n",
      "185/185 [==============================] - 27s 145ms/step - loss: 0.0012 - accuracy: 0.1745\n",
      "Epoch 136/150\n",
      "185/185 [==============================] - 28s 149ms/step - loss: 0.0013 - accuracy: 0.1744\n",
      "Epoch 137/150\n",
      "185/185 [==============================] - 27s 146ms/step - loss: 0.0012 - accuracy: 0.1745\n",
      "Epoch 138/150\n",
      "185/185 [==============================] - 27s 143ms/step - loss: 0.0011 - accuracy: 0.1745\n",
      "Epoch 139/150\n",
      "185/185 [==============================] - 27s 147ms/step - loss: 0.0010 - accuracy: 0.1745\n",
      "Epoch 140/150\n",
      "185/185 [==============================] - 27s 146ms/step - loss: 0.0011 - accuracy: 0.1745\n",
      "Epoch 141/150\n",
      "185/185 [==============================] - 27s 148ms/step - loss: 0.0012 - accuracy: 0.1744\n",
      "Epoch 142/150\n",
      "185/185 [==============================] - 27s 147ms/step - loss: 0.0011 - accuracy: 0.1745\n",
      "Epoch 143/150\n",
      "185/185 [==============================] - 27s 148ms/step - loss: 0.0013 - accuracy: 0.1744\n",
      "Epoch 144/150\n",
      "185/185 [==============================] - 27s 147ms/step - loss: 0.0012 - accuracy: 0.1745\n",
      "Epoch 145/150\n",
      "185/185 [==============================] - 27s 147ms/step - loss: 0.0010 - accuracy: 0.1745\n",
      "Epoch 146/150\n",
      "185/185 [==============================] - 27s 148ms/step - loss: 0.0011 - accuracy: 0.1745\n",
      "Epoch 147/150\n",
      "185/185 [==============================] - 27s 148ms/step - loss: 0.0011 - accuracy: 0.1745\n",
      "Epoch 148/150\n",
      "185/185 [==============================] - 27s 146ms/step - loss: 0.0010 - accuracy: 0.1745\n",
      "Epoch 149/150\n",
      "185/185 [==============================] - 27s 146ms/step - loss: 9.9716e-04 - accuracy: 0.1745\n",
      "Epoch 150/150\n",
      "185/185 [==============================] - 27s 146ms/step - loss: 0.0011 - accuracy: 0.1745\n"
     ]
    },
    {
     "data": {
      "text/plain": [
       "<tensorflow.python.keras.callbacks.History at 0x7f6974c54dd0>"
      ]
     },
     "execution_count": 62,
     "metadata": {},
     "output_type": "execute_result"
    }
   ],
   "source": [
    "# 훈련하기\n",
    "\n",
    "EPOCHS = 150\n",
    "model.fit(dataset, epochs=EPOCHS, verbose=1)"
   ]
  },
  {
   "cell_type": "markdown",
   "id": "collective-sleeping",
   "metadata": {},
   "source": [
    "## Step 5. 모델 평가하기"
   ]
  },
  {
   "cell_type": "code",
   "execution_count": 66,
   "id": "healthy-accent",
   "metadata": {},
   "outputs": [],
   "source": [
    "def decoder_inference(sentence):\n",
    "    sentence = preprocess_sentence(sentence)\n",
    "\n",
    "    # 입력된 문장을 정수 인코딩 후, 시작 토큰과 종료 토큰을 앞뒤로 추가.\n",
    "    # ex) Where have you been? → [[8331   86   30    5 1059    7 8332]]\n",
    "    sentence = tf.expand_dims(\n",
    "        START_TOKEN + tokenizer.encode(sentence) + END_TOKEN, axis=0)\n",
    "\n",
    "    # 디코더의 현재까지의 예측한 출력 시퀀스가 지속적으로 저장되는 변수.\n",
    "    # 처음에는 예측한 내용이 없음으로 시작 토큰만 별도 저장. ex) 8331\n",
    "    output_sequence = tf.expand_dims(START_TOKEN, 0)\n",
    "\n",
    "    # 디코더의 인퍼런스 단계\n",
    "    for i in range(MAX_LENGTH):\n",
    "        # 디코더는 최대 MAX_LENGTH의 길이만큼 다음 단어 예측을 반복합니다.\n",
    "        predictions = model(inputs=[sentence, output_sequence], training=False)\n",
    "        predictions = predictions[:, -1:, :]\n",
    "\n",
    "        # 현재 예측한 단어의 정수\n",
    "        predicted_id = tf.cast(tf.argmax(predictions, axis=-1), tf.int32)\n",
    "\n",
    "        # 만약 현재 예측한 단어가 종료 토큰이라면 for문을 종료\n",
    "        if tf.equal(predicted_id, END_TOKEN[0]):\n",
    "            break\n",
    "\n",
    "        # 예측한 단어들은 지속적으로 output_sequence에 추가됩니다.\n",
    "        # 이 output_sequence는 다시 디코더의 입력이 됩니다.\n",
    "        output_sequence = tf.concat([output_sequence, predicted_id], axis=-1)\n",
    "\n",
    "    return tf.squeeze(output_sequence, axis=0)"
   ]
  },
  {
   "cell_type": "code",
   "execution_count": 67,
   "id": "usual-multiple",
   "metadata": {},
   "outputs": [],
   "source": [
    "def sentence_generation(sentence):\n",
    "    # 입력 문장에 대해서 디코더를 동작 시켜 예측된 정수 시퀀스를 리턴받습니다.\n",
    "    prediction = decoder_inference(sentence)\n",
    "\n",
    "    # 정수 시퀀스를 다시 텍스트 시퀀스로 변환합니다.\n",
    "    predicted_sentence = tokenizer.decode(\n",
    "        [i for i in prediction if i < tokenizer.vocab_size])\n",
    "\n",
    "    print('입력 : {}'.format(sentence))\n",
    "    print('출력 : {}'.format(predicted_sentence))\n",
    "\n",
    "    return predicted_sentence"
   ]
  },
  {
   "cell_type": "markdown",
   "id": "cleared-freeware",
   "metadata": {},
   "source": [
    "### ▶️ epochs = 30으로 했을 때"
   ]
  },
  {
   "cell_type": "code",
   "execution_count": 57,
   "id": "particular-provincial",
   "metadata": {},
   "outputs": [
    {
     "name": "stdout",
     "output_type": "stream",
     "text": [
      "입력 : 안녕?\n",
      "출력 : 안녕하세요 .\n"
     ]
    },
    {
     "data": {
      "text/plain": [
       "'안녕하세요 .'"
      ]
     },
     "execution_count": 57,
     "metadata": {},
     "output_type": "execute_result"
    }
   ],
   "source": [
    "sentence_generation('안녕?')"
   ]
  },
  {
   "cell_type": "code",
   "execution_count": 58,
   "id": "arabic-philip",
   "metadata": {},
   "outputs": [
    {
     "name": "stdout",
     "output_type": "stream",
     "text": [
      "입력 : 나 요즘 힘들어\n",
      "출력 : 지금은 힘들겠지만 잘 버텨낼 수 있을 거예요 .\n"
     ]
    },
    {
     "data": {
      "text/plain": [
       "'지금은 힘들겠지만 잘 버텨낼 수 있을 거예요 .'"
      ]
     },
     "execution_count": 58,
     "metadata": {},
     "output_type": "execute_result"
    }
   ],
   "source": [
    "sentence_generation('나 요즘 힘들어')"
   ]
  },
  {
   "cell_type": "code",
   "execution_count": 59,
   "id": "emerging-official",
   "metadata": {},
   "outputs": [
    {
     "name": "stdout",
     "output_type": "stream",
     "text": [
      "입력 : 여행가고싶어\n",
      "출력 : 계획을 세워보세요 .\n"
     ]
    },
    {
     "data": {
      "text/plain": [
       "'계획을 세워보세요 .'"
      ]
     },
     "execution_count": 59,
     "metadata": {},
     "output_type": "execute_result"
    }
   ],
   "source": [
    "sentence_generation('여행가고싶어')"
   ]
  },
  {
   "cell_type": "code",
   "execution_count": 61,
   "id": "motivated-valentine",
   "metadata": {},
   "outputs": [
    {
     "name": "stdout",
     "output_type": "stream",
     "text": [
      "입력 : 뭐 먹을까?\n",
      "출력 : 좀 먹어도 괜찮아요 .\n"
     ]
    },
    {
     "data": {
      "text/plain": [
       "'좀 먹어도 괜찮아요 .'"
      ]
     },
     "execution_count": 61,
     "metadata": {},
     "output_type": "execute_result"
    }
   ],
   "source": [
    "sentence_generation('뭐 먹을까?')"
   ]
  },
  {
   "cell_type": "markdown",
   "id": "competent-projection",
   "metadata": {},
   "source": [
    "### ▶️ epochs = 150으로 했을 때"
   ]
  },
  {
   "cell_type": "code",
   "execution_count": 71,
   "id": "hollywood-spine",
   "metadata": {},
   "outputs": [
    {
     "name": "stdout",
     "output_type": "stream",
     "text": [
      "입력 : 나 요즘 힘들어\n",
      "출력 : 정신 노동을 했나 봐요 .\n"
     ]
    },
    {
     "data": {
      "text/plain": [
       "'정신 노동을 했나 봐요 .'"
      ]
     },
     "execution_count": 71,
     "metadata": {},
     "output_type": "execute_result"
    }
   ],
   "source": [
    "sentence_generation('나 요즘 힘들어')"
   ]
  },
  {
   "cell_type": "code",
   "execution_count": 72,
   "id": "noted-orchestra",
   "metadata": {},
   "outputs": [
    {
     "name": "stdout",
     "output_type": "stream",
     "text": [
      "입력 : 여행가고싶어\n",
      "출력 : 저랑 놀아요 .\n"
     ]
    },
    {
     "data": {
      "text/plain": [
       "'저랑 놀아요 .'"
      ]
     },
     "execution_count": 72,
     "metadata": {},
     "output_type": "execute_result"
    }
   ],
   "source": [
    "sentence_generation('여행가고싶어')"
   ]
  },
  {
   "cell_type": "code",
   "execution_count": 73,
   "id": "ultimate-patrick",
   "metadata": {},
   "outputs": [
    {
     "name": "stdout",
     "output_type": "stream",
     "text": [
      "입력 : 뭐 먹을까?\n",
      "출력 : 좀 먹어도 괜찮아요 .\n"
     ]
    },
    {
     "data": {
      "text/plain": [
       "'좀 먹어도 괜찮아요 .'"
      ]
     },
     "execution_count": 73,
     "metadata": {},
     "output_type": "execute_result"
    }
   ],
   "source": [
    "sentence_generation('뭐 먹을까?')"
   ]
  },
  {
   "cell_type": "markdown",
   "id": "deadly-region",
   "metadata": {},
   "source": [
    "이 질문은 왜 답변이 바뀌지 않는걸까"
   ]
  },
  {
   "cell_type": "code",
   "execution_count": 74,
   "id": "greater-notice",
   "metadata": {},
   "outputs": [
    {
     "name": "stdout",
     "output_type": "stream",
     "text": [
      "입력 : 나 너무 피곤해\n",
      "출력 : 푹 쉬세요 .\n"
     ]
    },
    {
     "data": {
      "text/plain": [
       "'푹 쉬세요 .'"
      ]
     },
     "execution_count": 74,
     "metadata": {},
     "output_type": "execute_result"
    }
   ],
   "source": [
    "sentence_generation('나 너무 피곤해')"
   ]
  },
  {
   "cell_type": "code",
   "execution_count": 76,
   "id": "requested-singer",
   "metadata": {},
   "outputs": [
    {
     "name": "stdout",
     "output_type": "stream",
     "text": [
      "입력 : 즐겁게 살고싶어\n",
      "출력 : 자신이 편하고 즐거울 수 있는 방법을 생각해보세요 .\n"
     ]
    },
    {
     "data": {
      "text/plain": [
       "'자신이 편하고 즐거울 수 있는 방법을 생각해보세요 .'"
      ]
     },
     "execution_count": 76,
     "metadata": {},
     "output_type": "execute_result"
    }
   ],
   "source": [
    "sentence_generation('즐겁게 살고싶어')"
   ]
  },
  {
   "cell_type": "markdown",
   "id": "intellectual-breakdown",
   "metadata": {},
   "source": [
    "# 🌟루브릭"
   ]
  },
  {
   "cell_type": "markdown",
   "id": "absolute-genre",
   "metadata": {},
   "source": [
    "|평가문항|상세기준|\n",
    "|:------|:------|\n",
    "|1. 한국어 전처리를 통해 학습 데이터셋을 구축하였다.|공백과 특수문자 처리, 토크나이징, 병렬데이터 구축의 과정이 적절히 진행되었다.|\n",
    "|2. 트랜스포머 모델을 구현하여 한국어 챗봇 모델 학습을 정상적으로 진행하였다.|구현한 트랜스포머 모델이 한국어 병렬 데이터 학습 시 안정적으로 수렴하였다.|\n",
    "|3. 한국어 입력문장에 대해 한국어로 답변하는 함수를 구현하였다.|한국어 입력문장에 그럴듯한 한국어로 답변을 리턴하였다.|"
   ]
  },
  {
   "cell_type": "markdown",
   "id": "coordinate-associate",
   "metadata": {},
   "source": [
    "# 🌟회고"
   ]
  },
  {
   "cell_type": "markdown",
   "id": "comparative-aluminum",
   "metadata": {},
   "source": [
    "* 처음에 에폭을 30으로만 했을 때 대부분 그럴듯하게 나왔지만 '뭐 먹을까?'라는 질문의 대답 같은 경우는 약간 자연스럽지 않아서 에폭을 150으로 늘려서 학습해보았다.\n",
    "\n",
    "* accuracy같은 경우는 에폭을 30으로 했을 때보다 조금 높게 나왔지만 그렇게 차이가 나는 것 같지 않아서 굳이 150으로 안 했어도 됐겠다는 생각을 했다.\n",
    "\n",
    "* 그래도 나름 그럴듯하게 답변이 나와서 그런점은 재미있었다."
   ]
  }
 ],
 "metadata": {
  "kernelspec": {
   "display_name": "Python 3",
   "language": "python",
   "name": "python3"
  },
  "language_info": {
   "codemirror_mode": {
    "name": "ipython",
    "version": 3
   },
   "file_extension": ".py",
   "mimetype": "text/x-python",
   "name": "python",
   "nbconvert_exporter": "python",
   "pygments_lexer": "ipython3",
   "version": "3.7.9"
  }
 },
 "nbformat": 4,
 "nbformat_minor": 5
}
