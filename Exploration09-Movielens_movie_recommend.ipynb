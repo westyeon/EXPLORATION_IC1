{
 "cells": [
  {
   "cell_type": "markdown",
   "id": "legitimate-demonstration",
   "metadata": {},
   "source": [
    "# EX9.프로젝트 - Movielens 영화 추천하기"
   ]
  },
  {
   "cell_type": "markdown",
   "id": "functional-peace",
   "metadata": {},
   "source": [
    "## Movielens 데이터\n",
    "-----------------------\n",
    "* 유저가 영화에 대해 평점을 매긴 데이터가 데이터 크기 별로 있다. (MovieLens 1M Dataset 사용을 권장) \n",
    "\n",
    "* 별점 데이터는 대표적인 explicit 데이터지만 implicit 데이터로 간주하고 테스트해볼 수 있다.   \n",
    "\n",
    "* 별점을 **시청횟수**로 해석해서 생각하겠음  \n",
    "\n",
    "* 또한 유저가 3점 미만으로 준 데이터는 선호하지 않는다고 가정하고 제외하겠음  "
   ]
  },
  {
   "cell_type": "markdown",
   "id": "daily-newspaper",
   "metadata": {},
   "source": [
    "## - 목차 -   \n",
    "\n",
    "### 1) 데이터 준비와 전처리 \n",
    "### 2) 분석해보기 \n",
    "### 3) 내가 선호하는 영화를 5가지 골라서 rating에 추가하기 \n",
    "### 4) CSR matrix 만들기 \n",
    "### 5) als_model = AlternatingLeastSquares 모델을 직접 구성하여 훈련하기 \n",
    "### 6) 내가 선호하는 5가지 영화 중 하나와 그 외의 영화 하나를 골라 훈련된 모델이 예측한 나의 선호도를 파악 \n",
    "### 7) 내가 좋아하는 영화와 비슷한 영화를 추천받아 보기 \n",
    "### 8) 내가 가장 좋아할 만한 영화들을 추천받아 보기 \n",
    "### 9) 추천시스템에 기여한 정도 확인하기"
   ]
  },
  {
   "cell_type": "code",
   "execution_count": null,
   "id": "therapeutic-accordance",
   "metadata": {},
   "outputs": [],
   "source": []
  },
  {
   "cell_type": "code",
   "execution_count": null,
   "id": "attempted-sociology",
   "metadata": {},
   "outputs": [],
   "source": []
  },
  {
   "cell_type": "markdown",
   "id": "heavy-valve",
   "metadata": {},
   "source": [
    "## 1) 데이터 준비와 전처리"
   ]
  },
  {
   "cell_type": "code",
   "execution_count": 1,
   "id": "bibliographic-substitute",
   "metadata": {},
   "outputs": [
    {
     "data": {
      "text/html": [
       "<div>\n",
       "<style scoped>\n",
       "    .dataframe tbody tr th:only-of-type {\n",
       "        vertical-align: middle;\n",
       "    }\n",
       "\n",
       "    .dataframe tbody tr th {\n",
       "        vertical-align: top;\n",
       "    }\n",
       "\n",
       "    .dataframe thead th {\n",
       "        text-align: right;\n",
       "    }\n",
       "</style>\n",
       "<table border=\"1\" class=\"dataframe\">\n",
       "  <thead>\n",
       "    <tr style=\"text-align: right;\">\n",
       "      <th></th>\n",
       "      <th>user_id</th>\n",
       "      <th>movie_id</th>\n",
       "      <th>rating</th>\n",
       "      <th>timestamp</th>\n",
       "    </tr>\n",
       "  </thead>\n",
       "  <tbody>\n",
       "    <tr>\n",
       "      <th>0</th>\n",
       "      <td>1</td>\n",
       "      <td>1193</td>\n",
       "      <td>5</td>\n",
       "      <td>978300760</td>\n",
       "    </tr>\n",
       "    <tr>\n",
       "      <th>1</th>\n",
       "      <td>1</td>\n",
       "      <td>661</td>\n",
       "      <td>3</td>\n",
       "      <td>978302109</td>\n",
       "    </tr>\n",
       "    <tr>\n",
       "      <th>2</th>\n",
       "      <td>1</td>\n",
       "      <td>914</td>\n",
       "      <td>3</td>\n",
       "      <td>978301968</td>\n",
       "    </tr>\n",
       "    <tr>\n",
       "      <th>3</th>\n",
       "      <td>1</td>\n",
       "      <td>3408</td>\n",
       "      <td>4</td>\n",
       "      <td>978300275</td>\n",
       "    </tr>\n",
       "    <tr>\n",
       "      <th>4</th>\n",
       "      <td>1</td>\n",
       "      <td>2355</td>\n",
       "      <td>5</td>\n",
       "      <td>978824291</td>\n",
       "    </tr>\n",
       "  </tbody>\n",
       "</table>\n",
       "</div>"
      ],
      "text/plain": [
       "   user_id  movie_id  rating  timestamp\n",
       "0        1      1193       5  978300760\n",
       "1        1       661       3  978302109\n",
       "2        1       914       3  978301968\n",
       "3        1      3408       4  978300275\n",
       "4        1      2355       5  978824291"
      ]
     },
     "execution_count": 1,
     "metadata": {},
     "output_type": "execute_result"
    }
   ],
   "source": [
    "import os\n",
    "import pandas as pd\n",
    "\n",
    "# Movielens 데이터는 rating.dat 안에 이미 인덱싱까지 완료된 사용자-영화-평점 데이터가 깔끔하게 정리되어 있음\n",
    "rating_file_path=os.getenv('HOME') + '/aiffel/recommendata_iu/data/ml-1m/ratings.dat'\n",
    "ratings_cols = ['user_id', 'movie_id', 'rating', 'timestamp']\n",
    "ratings = pd.read_csv(rating_file_path, sep='::', names=ratings_cols, engine='python', encoding = \"ISO-8859-1\")\n",
    "orginal_data_size = len(ratings)\n",
    "ratings.head()"
   ]
  },
  {
   "cell_type": "code",
   "execution_count": 2,
   "id": "bibliographic-topic",
   "metadata": {},
   "outputs": [
    {
     "name": "stdout",
     "output_type": "stream",
     "text": [
      "orginal_data_size: 1000209, filtered_data_size: 836478\n",
      "Ratio of Remaining Data is 83.63%\n"
     ]
    }
   ],
   "source": [
    "# 3점 이상만 남기기\n",
    "ratings = ratings[ratings['rating']>=3]\n",
    "filtered_data_size = len(ratings)\n",
    "\n",
    "print(f'orginal_data_size: {orginal_data_size}, filtered_data_size: {filtered_data_size}')\n",
    "print(f'Ratio of Remaining Data is {filtered_data_size / orginal_data_size:.2%}')"
   ]
  },
  {
   "cell_type": "code",
   "execution_count": 3,
   "id": "exposed-commander",
   "metadata": {},
   "outputs": [],
   "source": [
    "# rating 컬럼의 이름을 count로 바꾸기\n",
    "ratings.rename(columns={'rating':'count'}, inplace=True)"
   ]
  },
  {
   "cell_type": "code",
   "execution_count": 4,
   "id": "continuing-potential",
   "metadata": {},
   "outputs": [
    {
     "data": {
      "text/plain": [
       "0          5\n",
       "1          3\n",
       "2          3\n",
       "3          4\n",
       "4          5\n",
       "          ..\n",
       "1000203    3\n",
       "1000205    5\n",
       "1000206    5\n",
       "1000207    4\n",
       "1000208    4\n",
       "Name: count, Length: 836478, dtype: int64"
      ]
     },
     "execution_count": 4,
     "metadata": {},
     "output_type": "execute_result"
    }
   ],
   "source": [
    "ratings['count']"
   ]
  },
  {
   "cell_type": "code",
   "execution_count": 5,
   "id": "impaired-frank",
   "metadata": {},
   "outputs": [
    {
     "data": {
      "text/html": [
       "<div>\n",
       "<style scoped>\n",
       "    .dataframe tbody tr th:only-of-type {\n",
       "        vertical-align: middle;\n",
       "    }\n",
       "\n",
       "    .dataframe tbody tr th {\n",
       "        vertical-align: top;\n",
       "    }\n",
       "\n",
       "    .dataframe thead th {\n",
       "        text-align: right;\n",
       "    }\n",
       "</style>\n",
       "<table border=\"1\" class=\"dataframe\">\n",
       "  <thead>\n",
       "    <tr style=\"text-align: right;\">\n",
       "      <th></th>\n",
       "      <th>user_id</th>\n",
       "      <th>movie_id</th>\n",
       "      <th>count</th>\n",
       "      <th>timestamp</th>\n",
       "    </tr>\n",
       "  </thead>\n",
       "  <tbody>\n",
       "    <tr>\n",
       "      <th>0</th>\n",
       "      <td>1</td>\n",
       "      <td>1193</td>\n",
       "      <td>5</td>\n",
       "      <td>978300760</td>\n",
       "    </tr>\n",
       "    <tr>\n",
       "      <th>1</th>\n",
       "      <td>1</td>\n",
       "      <td>661</td>\n",
       "      <td>3</td>\n",
       "      <td>978302109</td>\n",
       "    </tr>\n",
       "    <tr>\n",
       "      <th>2</th>\n",
       "      <td>1</td>\n",
       "      <td>914</td>\n",
       "      <td>3</td>\n",
       "      <td>978301968</td>\n",
       "    </tr>\n",
       "    <tr>\n",
       "      <th>3</th>\n",
       "      <td>1</td>\n",
       "      <td>3408</td>\n",
       "      <td>4</td>\n",
       "      <td>978300275</td>\n",
       "    </tr>\n",
       "    <tr>\n",
       "      <th>4</th>\n",
       "      <td>1</td>\n",
       "      <td>2355</td>\n",
       "      <td>5</td>\n",
       "      <td>978824291</td>\n",
       "    </tr>\n",
       "    <tr>\n",
       "      <th>...</th>\n",
       "      <td>...</td>\n",
       "      <td>...</td>\n",
       "      <td>...</td>\n",
       "      <td>...</td>\n",
       "    </tr>\n",
       "    <tr>\n",
       "      <th>1000203</th>\n",
       "      <td>6040</td>\n",
       "      <td>1090</td>\n",
       "      <td>3</td>\n",
       "      <td>956715518</td>\n",
       "    </tr>\n",
       "    <tr>\n",
       "      <th>1000205</th>\n",
       "      <td>6040</td>\n",
       "      <td>1094</td>\n",
       "      <td>5</td>\n",
       "      <td>956704887</td>\n",
       "    </tr>\n",
       "    <tr>\n",
       "      <th>1000206</th>\n",
       "      <td>6040</td>\n",
       "      <td>562</td>\n",
       "      <td>5</td>\n",
       "      <td>956704746</td>\n",
       "    </tr>\n",
       "    <tr>\n",
       "      <th>1000207</th>\n",
       "      <td>6040</td>\n",
       "      <td>1096</td>\n",
       "      <td>4</td>\n",
       "      <td>956715648</td>\n",
       "    </tr>\n",
       "    <tr>\n",
       "      <th>1000208</th>\n",
       "      <td>6040</td>\n",
       "      <td>1097</td>\n",
       "      <td>4</td>\n",
       "      <td>956715569</td>\n",
       "    </tr>\n",
       "  </tbody>\n",
       "</table>\n",
       "<p>836478 rows × 4 columns</p>\n",
       "</div>"
      ],
      "text/plain": [
       "         user_id  movie_id  count  timestamp\n",
       "0              1      1193      5  978300760\n",
       "1              1       661      3  978302109\n",
       "2              1       914      3  978301968\n",
       "3              1      3408      4  978300275\n",
       "4              1      2355      5  978824291\n",
       "...          ...       ...    ...        ...\n",
       "1000203     6040      1090      3  956715518\n",
       "1000205     6040      1094      5  956704887\n",
       "1000206     6040       562      5  956704746\n",
       "1000207     6040      1096      4  956715648\n",
       "1000208     6040      1097      4  956715569\n",
       "\n",
       "[836478 rows x 4 columns]"
      ]
     },
     "execution_count": 5,
     "metadata": {},
     "output_type": "execute_result"
    }
   ],
   "source": [
    "ratings"
   ]
  },
  {
   "cell_type": "code",
   "execution_count": 6,
   "id": "german-southeast",
   "metadata": {},
   "outputs": [
    {
     "data": {
      "text/html": [
       "<div>\n",
       "<style scoped>\n",
       "    .dataframe tbody tr th:only-of-type {\n",
       "        vertical-align: middle;\n",
       "    }\n",
       "\n",
       "    .dataframe tbody tr th {\n",
       "        vertical-align: top;\n",
       "    }\n",
       "\n",
       "    .dataframe thead th {\n",
       "        text-align: right;\n",
       "    }\n",
       "</style>\n",
       "<table border=\"1\" class=\"dataframe\">\n",
       "  <thead>\n",
       "    <tr style=\"text-align: right;\">\n",
       "      <th></th>\n",
       "      <th>movie_id</th>\n",
       "      <th>title</th>\n",
       "      <th>genre</th>\n",
       "    </tr>\n",
       "  </thead>\n",
       "  <tbody>\n",
       "    <tr>\n",
       "      <th>0</th>\n",
       "      <td>1</td>\n",
       "      <td>Toy Story (1995)</td>\n",
       "      <td>Animation|Children's|Comedy</td>\n",
       "    </tr>\n",
       "    <tr>\n",
       "      <th>1</th>\n",
       "      <td>2</td>\n",
       "      <td>Jumanji (1995)</td>\n",
       "      <td>Adventure|Children's|Fantasy</td>\n",
       "    </tr>\n",
       "    <tr>\n",
       "      <th>2</th>\n",
       "      <td>3</td>\n",
       "      <td>Grumpier Old Men (1995)</td>\n",
       "      <td>Comedy|Romance</td>\n",
       "    </tr>\n",
       "    <tr>\n",
       "      <th>3</th>\n",
       "      <td>4</td>\n",
       "      <td>Waiting to Exhale (1995)</td>\n",
       "      <td>Comedy|Drama</td>\n",
       "    </tr>\n",
       "    <tr>\n",
       "      <th>4</th>\n",
       "      <td>5</td>\n",
       "      <td>Father of the Bride Part II (1995)</td>\n",
       "      <td>Comedy</td>\n",
       "    </tr>\n",
       "    <tr>\n",
       "      <th>5</th>\n",
       "      <td>6</td>\n",
       "      <td>Heat (1995)</td>\n",
       "      <td>Action|Crime|Thriller</td>\n",
       "    </tr>\n",
       "    <tr>\n",
       "      <th>6</th>\n",
       "      <td>7</td>\n",
       "      <td>Sabrina (1995)</td>\n",
       "      <td>Comedy|Romance</td>\n",
       "    </tr>\n",
       "    <tr>\n",
       "      <th>7</th>\n",
       "      <td>8</td>\n",
       "      <td>Tom and Huck (1995)</td>\n",
       "      <td>Adventure|Children's</td>\n",
       "    </tr>\n",
       "    <tr>\n",
       "      <th>8</th>\n",
       "      <td>9</td>\n",
       "      <td>Sudden Death (1995)</td>\n",
       "      <td>Action</td>\n",
       "    </tr>\n",
       "    <tr>\n",
       "      <th>9</th>\n",
       "      <td>10</td>\n",
       "      <td>GoldenEye (1995)</td>\n",
       "      <td>Action|Adventure|Thriller</td>\n",
       "    </tr>\n",
       "  </tbody>\n",
       "</table>\n",
       "</div>"
      ],
      "text/plain": [
       "   movie_id                               title                         genre\n",
       "0         1                    Toy Story (1995)   Animation|Children's|Comedy\n",
       "1         2                      Jumanji (1995)  Adventure|Children's|Fantasy\n",
       "2         3             Grumpier Old Men (1995)                Comedy|Romance\n",
       "3         4            Waiting to Exhale (1995)                  Comedy|Drama\n",
       "4         5  Father of the Bride Part II (1995)                        Comedy\n",
       "5         6                         Heat (1995)         Action|Crime|Thriller\n",
       "6         7                      Sabrina (1995)                Comedy|Romance\n",
       "7         8                 Tom and Huck (1995)          Adventure|Children's\n",
       "8         9                 Sudden Death (1995)                        Action\n",
       "9        10                    GoldenEye (1995)     Action|Adventure|Thriller"
      ]
     },
     "execution_count": 6,
     "metadata": {},
     "output_type": "execute_result"
    }
   ],
   "source": [
    "# 영화 제목을 보기 위해 메타 데이터를 읽어오기\n",
    "movie_file_path=os.getenv('HOME') + '/aiffel/recommendata_iu/data/ml-1m/movies.dat'\n",
    "cols = ['movie_id', 'title', 'genre'] \n",
    "movies = pd.read_csv(movie_file_path, sep='::', names=cols, engine='python', encoding = 'ISO-8859-1')\n",
    "movies.head(10)"
   ]
  },
  {
   "cell_type": "markdown",
   "id": "precise-subscriber",
   "metadata": {},
   "source": [
    "* id와 title을 확인하는 함수 생성"
   ]
  },
  {
   "cell_type": "code",
   "execution_count": 39,
   "id": "extensive-suspension",
   "metadata": {},
   "outputs": [],
   "source": [
    "def id_to_title(id):\n",
    "    return movies['title'][movies['movie_id']==id].values[0]"
   ]
  },
  {
   "cell_type": "code",
   "execution_count": 42,
   "id": "hydraulic-bookmark",
   "metadata": {},
   "outputs": [
    {
     "data": {
      "text/plain": [
       "'GoldenEye (1995)'"
      ]
     },
     "execution_count": 42,
     "metadata": {},
     "output_type": "execute_result"
    }
   ],
   "source": [
    "id_to_title(10)"
   ]
  },
  {
   "cell_type": "code",
   "execution_count": 40,
   "id": "wireless-norway",
   "metadata": {},
   "outputs": [],
   "source": [
    "def title_to_id(title):\n",
    "    return movies['movie_id'][movies['title']==title].values[0].item()"
   ]
  },
  {
   "cell_type": "code",
   "execution_count": 43,
   "id": "urban-chester",
   "metadata": {},
   "outputs": [
    {
     "data": {
      "text/plain": [
       "10"
      ]
     },
     "execution_count": 43,
     "metadata": {},
     "output_type": "execute_result"
    }
   ],
   "source": [
    "title_to_id('GoldenEye (1995)')"
   ]
  },
  {
   "cell_type": "markdown",
   "id": "violent-watershed",
   "metadata": {},
   "source": [
    "## 2) 분석해보기\n",
    "-----------------------\n",
    "* ratings에 있는 유니크한 영화 개수     \n",
    "\n",
    "* rating에 있는 유니크한 사용자 수       \n",
    "\n",
    "* 가장 인기 있는 영화 30개(인기순)      "
   ]
  },
  {
   "cell_type": "code",
   "execution_count": 7,
   "id": "figured-luxury",
   "metadata": {},
   "outputs": [
    {
     "data": {
      "text/html": [
       "<div>\n",
       "<style scoped>\n",
       "    .dataframe tbody tr th:only-of-type {\n",
       "        vertical-align: middle;\n",
       "    }\n",
       "\n",
       "    .dataframe tbody tr th {\n",
       "        vertical-align: top;\n",
       "    }\n",
       "\n",
       "    .dataframe thead th {\n",
       "        text-align: right;\n",
       "    }\n",
       "</style>\n",
       "<table border=\"1\" class=\"dataframe\">\n",
       "  <thead>\n",
       "    <tr style=\"text-align: right;\">\n",
       "      <th></th>\n",
       "      <th>user_id</th>\n",
       "      <th>movie_id</th>\n",
       "      <th>count</th>\n",
       "      <th>timestamp</th>\n",
       "    </tr>\n",
       "  </thead>\n",
       "  <tbody>\n",
       "    <tr>\n",
       "      <th>0</th>\n",
       "      <td>1</td>\n",
       "      <td>1193</td>\n",
       "      <td>5</td>\n",
       "      <td>978300760</td>\n",
       "    </tr>\n",
       "    <tr>\n",
       "      <th>1</th>\n",
       "      <td>1</td>\n",
       "      <td>661</td>\n",
       "      <td>3</td>\n",
       "      <td>978302109</td>\n",
       "    </tr>\n",
       "    <tr>\n",
       "      <th>2</th>\n",
       "      <td>1</td>\n",
       "      <td>914</td>\n",
       "      <td>3</td>\n",
       "      <td>978301968</td>\n",
       "    </tr>\n",
       "    <tr>\n",
       "      <th>3</th>\n",
       "      <td>1</td>\n",
       "      <td>3408</td>\n",
       "      <td>4</td>\n",
       "      <td>978300275</td>\n",
       "    </tr>\n",
       "    <tr>\n",
       "      <th>4</th>\n",
       "      <td>1</td>\n",
       "      <td>2355</td>\n",
       "      <td>5</td>\n",
       "      <td>978824291</td>\n",
       "    </tr>\n",
       "  </tbody>\n",
       "</table>\n",
       "</div>"
      ],
      "text/plain": [
       "   user_id  movie_id  count  timestamp\n",
       "0        1      1193      5  978300760\n",
       "1        1       661      3  978302109\n",
       "2        1       914      3  978301968\n",
       "3        1      3408      4  978300275\n",
       "4        1      2355      5  978824291"
      ]
     },
     "execution_count": 7,
     "metadata": {},
     "output_type": "execute_result"
    }
   ],
   "source": [
    "ratings.head()"
   ]
  },
  {
   "cell_type": "code",
   "execution_count": 8,
   "id": "level-stanley",
   "metadata": {},
   "outputs": [
    {
     "data": {
      "text/plain": [
       "6039"
      ]
     },
     "execution_count": 8,
     "metadata": {},
     "output_type": "execute_result"
    }
   ],
   "source": [
    "# ratings에 있는 유니크한 영화 개수\n",
    "ratings['user_id'].nunique()"
   ]
  },
  {
   "cell_type": "code",
   "execution_count": 9,
   "id": "practical-grain",
   "metadata": {},
   "outputs": [
    {
     "data": {
      "text/plain": [
       "3628"
      ]
     },
     "execution_count": 9,
     "metadata": {},
     "output_type": "execute_result"
    }
   ],
   "source": [
    "# rating에 있는 유니크한 사용자 수\n",
    "ratings['movie_id'].nunique()"
   ]
  },
  {
   "cell_type": "code",
   "execution_count": 16,
   "id": "adjusted-school",
   "metadata": {},
   "outputs": [
    {
     "data": {
      "text/plain": [
       "title\n",
       "American Beauty (1999)                                   3211\n",
       "Star Wars: Episode IV - A New Hope (1977)                2910\n",
       "Star Wars: Episode V - The Empire Strikes Back (1980)    2885\n",
       "Star Wars: Episode VI - Return of the Jedi (1983)        2716\n",
       "Saving Private Ryan (1998)                               2561\n",
       "Terminator 2: Judgment Day (1991)                        2509\n",
       "Silence of the Lambs, The (1991)                         2498\n",
       "Raiders of the Lost Ark (1981)                           2473\n",
       "Back to the Future (1985)                                2460\n",
       "Matrix, The (1999)                                       2434\n",
       "Jurassic Park (1993)                                     2413\n",
       "Sixth Sense, The (1999)                                  2385\n",
       "Fargo (1996)                                             2371\n",
       "Braveheart (1995)                                        2314\n",
       "Men in Black (1997)                                      2297\n",
       "Schindler's List (1993)                                  2257\n",
       "Princess Bride, The (1987)                               2252\n",
       "Shakespeare in Love (1998)                               2213\n",
       "L.A. Confidential (1997)                                 2210\n",
       "Shawshank Redemption, The (1994)                         2194\n",
       "Godfather, The (1972)                                    2167\n",
       "Groundhog Day (1993)                                     2121\n",
       "E.T. the Extra-Terrestrial (1982)                        2102\n",
       "Being John Malkovich (1999)                              2066\n",
       "Ghostbusters (1984)                                      2051\n",
       "Pulp Fiction (1994)                                      2030\n",
       "Forrest Gump (1994)                                      2022\n",
       "Terminator, The (1984)                                   2019\n",
       "Toy Story (1995)                                         2000\n",
       "Fugitive, The (1993)                                     1941\n",
       "Alien (1979)                                             1920\n",
       "Gladiator (2000)                                         1798\n",
       "Total Recall (1990)                                      1786\n",
       "Star Wars: Episode I - The Phantom Menace (1999)         1783\n",
       "Usual Suspects, The (1995)                               1744\n",
       "Stand by Me (1986)                                       1728\n",
       "Blade Runner (1982)                                      1722\n",
       "Aliens (1986)                                            1720\n",
       "One Flew Over the Cuckoo's Nest (1975)                   1680\n",
       "Wizard of Oz, The (1939)                                 1650\n",
       "Name: user_id, dtype: int64"
      ]
     },
     "execution_count": 16,
     "metadata": {},
     "output_type": "execute_result"
    }
   ],
   "source": [
    "# 인기 많은 영화\n",
    "movie_data = pd.merge(ratings, movies)\n",
    "movies_count = movie_data.groupby('title')['user_id'].count() # 영화별 grouping, 사용자 수를 카운트\n",
    "movies_count.sort_values(ascending=False).head(40)              # 상위 40편"
   ]
  },
  {
   "cell_type": "code",
   "execution_count": 12,
   "id": "regulated-condition",
   "metadata": {},
   "outputs": [
    {
     "data": {
      "text/plain": [
       "count    6039.000000\n",
       "mean      138.512668\n",
       "std       156.241599\n",
       "min         1.000000\n",
       "25%        38.000000\n",
       "50%        81.000000\n",
       "75%       177.000000\n",
       "max      1968.000000\n",
       "Name: movie_id, dtype: float64"
      ]
     },
     "execution_count": 12,
     "metadata": {},
     "output_type": "execute_result"
    }
   ],
   "source": [
    "# 유저별 몇 편의 영화를 봤는지에 대한 통계\n",
    "user_count = ratings.groupby('user_id')['movie_id'].count()\n",
    "user_count.describe()"
   ]
  },
  {
   "cell_type": "code",
   "execution_count": 14,
   "id": "unable-aaron",
   "metadata": {},
   "outputs": [
    {
     "data": {
      "text/plain": [
       "count    6.039000e+03\n",
       "mean     9.705019e+08\n",
       "std      8.916703e+06\n",
       "min      9.567058e+08\n",
       "25%      9.650976e+08\n",
       "50%      9.720067e+08\n",
       "75%      9.748566e+08\n",
       "max      1.045440e+09\n",
       "Name: timestamp, dtype: float64"
      ]
     },
     "execution_count": 14,
     "metadata": {},
     "output_type": "execute_result"
    }
   ],
   "source": [
    "# 유저별 play횟수 중앙값에 대한 통계\n",
    "user_median = ratings.groupby('user_id')['timestamp'].median()\n",
    "user_median.describe()"
   ]
  },
  {
   "cell_type": "code",
   "execution_count": 15,
   "id": "miniature-progressive",
   "metadata": {},
   "outputs": [
    {
     "data": {
      "text/html": [
       "<div>\n",
       "<style scoped>\n",
       "    .dataframe tbody tr th:only-of-type {\n",
       "        vertical-align: middle;\n",
       "    }\n",
       "\n",
       "    .dataframe tbody tr th {\n",
       "        vertical-align: top;\n",
       "    }\n",
       "\n",
       "    .dataframe thead th {\n",
       "        text-align: right;\n",
       "    }\n",
       "</style>\n",
       "<table border=\"1\" class=\"dataframe\">\n",
       "  <thead>\n",
       "    <tr style=\"text-align: right;\">\n",
       "      <th></th>\n",
       "      <th>user_id</th>\n",
       "      <th>movie_id</th>\n",
       "      <th>count</th>\n",
       "      <th>timestamp</th>\n",
       "    </tr>\n",
       "  </thead>\n",
       "  <tbody>\n",
       "    <tr>\n",
       "      <th>count</th>\n",
       "      <td>836478.000000</td>\n",
       "      <td>836478.000000</td>\n",
       "      <td>836478.000000</td>\n",
       "      <td>8.364780e+05</td>\n",
       "    </tr>\n",
       "    <tr>\n",
       "      <th>mean</th>\n",
       "      <td>3033.120626</td>\n",
       "      <td>1849.099114</td>\n",
       "      <td>3.958293</td>\n",
       "      <td>9.721628e+08</td>\n",
       "    </tr>\n",
       "    <tr>\n",
       "      <th>std</th>\n",
       "      <td>1729.255651</td>\n",
       "      <td>1091.870094</td>\n",
       "      <td>0.762280</td>\n",
       "      <td>1.206216e+07</td>\n",
       "    </tr>\n",
       "    <tr>\n",
       "      <th>min</th>\n",
       "      <td>1.000000</td>\n",
       "      <td>1.000000</td>\n",
       "      <td>3.000000</td>\n",
       "      <td>9.567039e+08</td>\n",
       "    </tr>\n",
       "    <tr>\n",
       "      <th>25%</th>\n",
       "      <td>1531.000000</td>\n",
       "      <td>1029.000000</td>\n",
       "      <td>3.000000</td>\n",
       "      <td>9.652795e+08</td>\n",
       "    </tr>\n",
       "    <tr>\n",
       "      <th>50%</th>\n",
       "      <td>3080.000000</td>\n",
       "      <td>1747.000000</td>\n",
       "      <td>4.000000</td>\n",
       "      <td>9.728388e+08</td>\n",
       "    </tr>\n",
       "    <tr>\n",
       "      <th>75%</th>\n",
       "      <td>4485.000000</td>\n",
       "      <td>2763.000000</td>\n",
       "      <td>5.000000</td>\n",
       "      <td>9.752064e+08</td>\n",
       "    </tr>\n",
       "    <tr>\n",
       "      <th>max</th>\n",
       "      <td>6040.000000</td>\n",
       "      <td>3952.000000</td>\n",
       "      <td>5.000000</td>\n",
       "      <td>1.046455e+09</td>\n",
       "    </tr>\n",
       "  </tbody>\n",
       "</table>\n",
       "</div>"
      ],
      "text/plain": [
       "             user_id       movie_id          count     timestamp\n",
       "count  836478.000000  836478.000000  836478.000000  8.364780e+05\n",
       "mean     3033.120626    1849.099114       3.958293  9.721628e+08\n",
       "std      1729.255651    1091.870094       0.762280  1.206216e+07\n",
       "min         1.000000       1.000000       3.000000  9.567039e+08\n",
       "25%      1531.000000    1029.000000       3.000000  9.652795e+08\n",
       "50%      3080.000000    1747.000000       4.000000  9.728388e+08\n",
       "75%      4485.000000    2763.000000       5.000000  9.752064e+08\n",
       "max      6040.000000    3952.000000       5.000000  1.046455e+09"
      ]
     },
     "execution_count": 15,
     "metadata": {},
     "output_type": "execute_result"
    }
   ],
   "source": [
    "ratings.describe()"
   ]
  },
  {
   "cell_type": "markdown",
   "id": "awful-radiation",
   "metadata": {},
   "source": [
    "## 3) 내가 선호하는 영화를 5가지 골라서 rating에 추가하기"
   ]
  },
  {
   "cell_type": "code",
   "execution_count": 17,
   "id": "confirmed-inside",
   "metadata": {},
   "outputs": [
    {
     "data": {
      "text/html": [
       "<div>\n",
       "<style scoped>\n",
       "    .dataframe tbody tr th:only-of-type {\n",
       "        vertical-align: middle;\n",
       "    }\n",
       "\n",
       "    .dataframe tbody tr th {\n",
       "        vertical-align: top;\n",
       "    }\n",
       "\n",
       "    .dataframe thead th {\n",
       "        text-align: right;\n",
       "    }\n",
       "</style>\n",
       "<table border=\"1\" class=\"dataframe\">\n",
       "  <thead>\n",
       "    <tr style=\"text-align: right;\">\n",
       "      <th></th>\n",
       "      <th>user_id</th>\n",
       "      <th>movie_id</th>\n",
       "      <th>count</th>\n",
       "      <th>timestamp</th>\n",
       "    </tr>\n",
       "  </thead>\n",
       "  <tbody>\n",
       "    <tr>\n",
       "      <th>1000203</th>\n",
       "      <td>6040</td>\n",
       "      <td>1090</td>\n",
       "      <td>3</td>\n",
       "      <td>956715518</td>\n",
       "    </tr>\n",
       "    <tr>\n",
       "      <th>1000205</th>\n",
       "      <td>6040</td>\n",
       "      <td>1094</td>\n",
       "      <td>5</td>\n",
       "      <td>956704887</td>\n",
       "    </tr>\n",
       "    <tr>\n",
       "      <th>1000206</th>\n",
       "      <td>6040</td>\n",
       "      <td>562</td>\n",
       "      <td>5</td>\n",
       "      <td>956704746</td>\n",
       "    </tr>\n",
       "    <tr>\n",
       "      <th>1000207</th>\n",
       "      <td>6040</td>\n",
       "      <td>1096</td>\n",
       "      <td>4</td>\n",
       "      <td>956715648</td>\n",
       "    </tr>\n",
       "    <tr>\n",
       "      <th>1000208</th>\n",
       "      <td>6040</td>\n",
       "      <td>1097</td>\n",
       "      <td>4</td>\n",
       "      <td>956715569</td>\n",
       "    </tr>\n",
       "    <tr>\n",
       "      <th>0</th>\n",
       "      <td>kwak</td>\n",
       "      <td>Toy Story (1995)</td>\n",
       "      <td>5</td>\n",
       "      <td>972162800</td>\n",
       "    </tr>\n",
       "    <tr>\n",
       "      <th>1</th>\n",
       "      <td>kwak</td>\n",
       "      <td>Jumanji (1995)</td>\n",
       "      <td>5</td>\n",
       "      <td>972162800</td>\n",
       "    </tr>\n",
       "    <tr>\n",
       "      <th>2</th>\n",
       "      <td>kwak</td>\n",
       "      <td>E.T. the Extra-Terrestrial (1982)</td>\n",
       "      <td>5</td>\n",
       "      <td>972162800</td>\n",
       "    </tr>\n",
       "    <tr>\n",
       "      <th>3</th>\n",
       "      <td>kwak</td>\n",
       "      <td>Jurassic Park (1993)</td>\n",
       "      <td>5</td>\n",
       "      <td>972162800</td>\n",
       "    </tr>\n",
       "    <tr>\n",
       "      <th>4</th>\n",
       "      <td>kwak</td>\n",
       "      <td>Wizard of Oz, The (1939)</td>\n",
       "      <td>5</td>\n",
       "      <td>972162800</td>\n",
       "    </tr>\n",
       "  </tbody>\n",
       "</table>\n",
       "</div>"
      ],
      "text/plain": [
       "        user_id                           movie_id  count  timestamp\n",
       "1000203    6040                               1090      3  956715518\n",
       "1000205    6040                               1094      5  956704887\n",
       "1000206    6040                                562      5  956704746\n",
       "1000207    6040                               1096      4  956715648\n",
       "1000208    6040                               1097      4  956715569\n",
       "0          kwak                   Toy Story (1995)      5  972162800\n",
       "1          kwak                     Jumanji (1995)      5  972162800\n",
       "2          kwak  E.T. the Extra-Terrestrial (1982)      5  972162800\n",
       "3          kwak               Jurassic Park (1993)      5  972162800\n",
       "4          kwak           Wizard of Oz, The (1939)      5  972162800"
      ]
     },
     "execution_count": 17,
     "metadata": {},
     "output_type": "execute_result"
    }
   ],
   "source": [
    "# 내가 좋아하는 영화 5편 추가\n",
    "\n",
    "my_fav = ['Toy Story (1995)' , 'Jumanji (1995)' ,'E.T. the Extra-Terrestrial (1982)' ,'Jurassic Park (1993)' ,'Wizard of Oz, The (1939)']\n",
    "\n",
    "\n",
    "# user_id를 'kwak'으로 정하고, 좋아하는 영화이니 모두 5점을 부여함\n",
    "my_movies = pd.DataFrame({'user_id': ['kwak']*5, 'movie_id': my_fav, 'count':[5]*5, 'timestamp':[972162800]*5})\n",
    "\n",
    "if not ratings.isin({'user_id':['kwak']})['user_id'].any():  # user_id에 동일 id가 있는지 확인 후 추가\n",
    "    ratings = ratings.append(my_movies)                            \n",
    "\n",
    "ratings.tail(10)       # append는 맨 뒤에 붙인다."
   ]
  },
  {
   "cell_type": "code",
   "execution_count": 18,
   "id": "warming-authority",
   "metadata": {},
   "outputs": [],
   "source": [
    "# 고유한 유저, 아티스트를 찾아내는 코드\n",
    "user_unique = ratings['user_id'].unique()\n",
    "movie_unique = ratings['movie_id'].unique()\n",
    "\n",
    "# 유저, 아티스트 indexing 하는 코드 idx는 index의 약자\n",
    "user_to_idx = {v:k for k,v in enumerate(user_unique)}\n",
    "movie_to_idx = {v:k for k,v in enumerate(movie_unique)}"
   ]
  },
  {
   "cell_type": "code",
   "execution_count": 19,
   "id": "trying-killer",
   "metadata": {},
   "outputs": [
    {
     "data": {
      "text/plain": [
       "6039"
      ]
     },
     "execution_count": 19,
     "metadata": {},
     "output_type": "execute_result"
    }
   ],
   "source": [
    "user_to_idx['kwak']"
   ]
  },
  {
   "cell_type": "code",
   "execution_count": 20,
   "id": "satisfactory-mixer",
   "metadata": {},
   "outputs": [
    {
     "name": "stdout",
     "output_type": "stream",
     "text": [
      "user_id column indexing OK!!\n",
      "movie id column indexing OK!!\n"
     ]
    },
    {
     "data": {
      "text/html": [
       "<div>\n",
       "<style scoped>\n",
       "    .dataframe tbody tr th:only-of-type {\n",
       "        vertical-align: middle;\n",
       "    }\n",
       "\n",
       "    .dataframe tbody tr th {\n",
       "        vertical-align: top;\n",
       "    }\n",
       "\n",
       "    .dataframe thead th {\n",
       "        text-align: right;\n",
       "    }\n",
       "</style>\n",
       "<table border=\"1\" class=\"dataframe\">\n",
       "  <thead>\n",
       "    <tr style=\"text-align: right;\">\n",
       "      <th></th>\n",
       "      <th>user_id</th>\n",
       "      <th>movie_id</th>\n",
       "      <th>count</th>\n",
       "      <th>timestamp</th>\n",
       "    </tr>\n",
       "  </thead>\n",
       "  <tbody>\n",
       "    <tr>\n",
       "      <th>0</th>\n",
       "      <td>0</td>\n",
       "      <td>0</td>\n",
       "      <td>5</td>\n",
       "      <td>978300760</td>\n",
       "    </tr>\n",
       "    <tr>\n",
       "      <th>1</th>\n",
       "      <td>0</td>\n",
       "      <td>1</td>\n",
       "      <td>3</td>\n",
       "      <td>978302109</td>\n",
       "    </tr>\n",
       "    <tr>\n",
       "      <th>2</th>\n",
       "      <td>0</td>\n",
       "      <td>2</td>\n",
       "      <td>3</td>\n",
       "      <td>978301968</td>\n",
       "    </tr>\n",
       "    <tr>\n",
       "      <th>3</th>\n",
       "      <td>0</td>\n",
       "      <td>3</td>\n",
       "      <td>4</td>\n",
       "      <td>978300275</td>\n",
       "    </tr>\n",
       "    <tr>\n",
       "      <th>4</th>\n",
       "      <td>0</td>\n",
       "      <td>4</td>\n",
       "      <td>5</td>\n",
       "      <td>978824291</td>\n",
       "    </tr>\n",
       "    <tr>\n",
       "      <th>...</th>\n",
       "      <td>...</td>\n",
       "      <td>...</td>\n",
       "      <td>...</td>\n",
       "      <td>...</td>\n",
       "    </tr>\n",
       "    <tr>\n",
       "      <th>0</th>\n",
       "      <td>6039</td>\n",
       "      <td>3628</td>\n",
       "      <td>5</td>\n",
       "      <td>972162800</td>\n",
       "    </tr>\n",
       "    <tr>\n",
       "      <th>1</th>\n",
       "      <td>6039</td>\n",
       "      <td>3629</td>\n",
       "      <td>5</td>\n",
       "      <td>972162800</td>\n",
       "    </tr>\n",
       "    <tr>\n",
       "      <th>2</th>\n",
       "      <td>6039</td>\n",
       "      <td>3630</td>\n",
       "      <td>5</td>\n",
       "      <td>972162800</td>\n",
       "    </tr>\n",
       "    <tr>\n",
       "      <th>3</th>\n",
       "      <td>6039</td>\n",
       "      <td>3631</td>\n",
       "      <td>5</td>\n",
       "      <td>972162800</td>\n",
       "    </tr>\n",
       "    <tr>\n",
       "      <th>4</th>\n",
       "      <td>6039</td>\n",
       "      <td>3632</td>\n",
       "      <td>5</td>\n",
       "      <td>972162800</td>\n",
       "    </tr>\n",
       "  </tbody>\n",
       "</table>\n",
       "<p>836483 rows × 4 columns</p>\n",
       "</div>"
      ],
      "text/plain": [
       "    user_id  movie_id  count  timestamp\n",
       "0         0         0      5  978300760\n",
       "1         0         1      3  978302109\n",
       "2         0         2      3  978301968\n",
       "3         0         3      4  978300275\n",
       "4         0         4      5  978824291\n",
       "..      ...       ...    ...        ...\n",
       "0      6039      3628      5  972162800\n",
       "1      6039      3629      5  972162800\n",
       "2      6039      3630      5  972162800\n",
       "3      6039      3631      5  972162800\n",
       "4      6039      3632      5  972162800\n",
       "\n",
       "[836483 rows x 4 columns]"
      ]
     },
     "execution_count": 20,
     "metadata": {},
     "output_type": "execute_result"
    }
   ],
   "source": [
    "temp_user_data = ratings['user_id'].map(user_to_idx.get).dropna() # .dropna() : 결측치(누락데이터) 제거\n",
    "if len(temp_user_data) == len(ratings):   # 모든 row가 정상적으로 인덱싱되었다면\n",
    "    print('user_id column indexing OK!!')\n",
    "    ratings['user_id'] = temp_user_data   # data['user_id']을 인덱싱된 Series로 교체해 주기\n",
    "else:\n",
    "    print('user_id column indexing Fail!!')\n",
    "\n",
    "# artist_to_idx을 통해 artist 컬럼도 동일한 방식으로 인덱싱해 주기\n",
    "temp_movie_data = ratings['movie_id'].map(movie_to_idx.get).dropna()\n",
    "if len(temp_movie_data) == len(ratings):\n",
    "    print('movie id column indexing OK!!')\n",
    "    ratings['movie_id'] = temp_movie_data\n",
    "else:\n",
    "    print('movie id column indexing Fail!!')\n",
    "\n",
    "ratings"
   ]
  },
  {
   "cell_type": "markdown",
   "id": "handed-roots",
   "metadata": {},
   "source": [
    "## 4) CSR matrix 만들기"
   ]
  },
  {
   "cell_type": "markdown",
   "id": "adjustable-inspiration",
   "metadata": {},
   "source": [
    "CSR Matrix는 Sparse한 matrix에서 0이 아닌 유효한 데이터로 채워지는 데이터의 값과 좌표 정보만으로 구성하여 메모리 사용량을 최소화하면서도\n",
    "\n",
    "Sparse한 matrix와 동일한 행렬을 표현할 수 있도록 하는 데이터 구조"
   ]
  },
  {
   "cell_type": "code",
   "execution_count": 21,
   "id": "afraid-fleece",
   "metadata": {},
   "outputs": [
    {
     "data": {
      "text/plain": [
       "<6040x3633 sparse matrix of type '<class 'numpy.longlong'>'\n",
       "\twith 836483 stored elements in Compressed Sparse Row format>"
      ]
     },
     "execution_count": 21,
     "metadata": {},
     "output_type": "execute_result"
    }
   ],
   "source": [
    "from scipy.sparse import csr_matrix\n",
    "\n",
    "num_user = ratings['user_id'].nunique()\n",
    "num_movie = ratings['movie_id'].nunique()\n",
    "\n",
    "csr_data = csr_matrix((ratings['count'], (ratings['user_id'], ratings['movie_id'])), shape=(num_user, num_movie))\n",
    "csr_data"
   ]
  },
  {
   "cell_type": "markdown",
   "id": "serious-blade",
   "metadata": {},
   "source": [
    "## 5) als_model = AlternatingLeastSquares 모델을 직접 구성하여 훈련하기"
   ]
  },
  {
   "cell_type": "code",
   "execution_count": 22,
   "id": "maritime-value",
   "metadata": {},
   "outputs": [],
   "source": [
    "from implicit.als import AlternatingLeastSquares # 암묵적(implicit) dataset을 사용하는 다양한 모델을 굉장히 빠르게 학습할 수 있는 패키지\n",
    "import os\n",
    "import numpy as np\n",
    "\n",
    "# implicit 라이브러리에서 권장하고 있는 부분\n",
    "os.environ['OPENBLAS_NUM_THREADS']='1'\n",
    "os.environ['KMP_DUPLICATE_LIB_OK']='True'\n",
    "os.environ['MKL_NUM_THREADS']='1'"
   ]
  },
  {
   "cell_type": "code",
   "execution_count": 23,
   "id": "careful-malawi",
   "metadata": {},
   "outputs": [],
   "source": [
    "# Implicit AlternatingLeastSquares 모델 선언\n",
    "# factors,iterations를 늘릴수록 학습데이터를 잘 학습하게 되지만 과적합의 우려가 있으니 좋은 값을 찾아야 함\n",
    "als_model = AlternatingLeastSquares(factors=3000, regularization=0.01, use_gpu=False, iterations=50, dtype=np.float32)"
   ]
  },
  {
   "cell_type": "code",
   "execution_count": 24,
   "id": "false-saver",
   "metadata": {},
   "outputs": [
    {
     "data": {
      "text/plain": [
       "<3633x6040 sparse matrix of type '<class 'numpy.longlong'>'\n",
       "\twith 836483 stored elements in Compressed Sparse Column format>"
      ]
     },
     "execution_count": 24,
     "metadata": {},
     "output_type": "execute_result"
    }
   ],
   "source": [
    "# als 모델은 input으로 (item X user 꼴의 matrix를 받기 때문에 Transpose해주기)\n",
    "csr_data_transpose = csr_data.T\n",
    "csr_data_transpose"
   ]
  },
  {
   "cell_type": "code",
   "execution_count": 25,
   "id": "composite-representative",
   "metadata": {},
   "outputs": [
    {
     "data": {
      "application/vnd.jupyter.widget-view+json": {
       "model_id": "3793be17dd3d4ae9967b0ddfbf854510",
       "version_major": 2,
       "version_minor": 0
      },
      "text/plain": [
       "  0%|          | 0/50 [00:00<?, ?it/s]"
      ]
     },
     "metadata": {},
     "output_type": "display_data"
    }
   ],
   "source": [
    "# 모델 훈련\n",
    "als_model.fit(csr_data_transpose)"
   ]
  },
  {
   "cell_type": "markdown",
   "id": "accredited-prairie",
   "metadata": {},
   "source": [
    "## 6) 내가 선호하는 5가지 영화 중 하나와 그 외의 영화 하나를 골라 훈련된 모델이 예측한 나의 선호도를 파악하기"
   ]
  },
  {
   "cell_type": "code",
   "execution_count": 26,
   "id": "administrative-athens",
   "metadata": {},
   "outputs": [],
   "source": [
    "kwak, toy_story = user_to_idx['kwak'], movie_to_idx['Toy Story (1995)']\n",
    "kwak_vector, toy_story_vector = als_model.user_factors[kwak], als_model.item_factors[toy_story]"
   ]
  },
  {
   "cell_type": "code",
   "execution_count": 27,
   "id": "allied-surveillance",
   "metadata": {},
   "outputs": [
    {
     "data": {
      "text/plain": [
       "array([-0.1238621 , -0.20149468, -0.38748214, ..., -0.23125648,\n",
       "        0.23628765,  0.44795123], dtype=float32)"
      ]
     },
     "execution_count": 27,
     "metadata": {},
     "output_type": "execute_result"
    }
   ],
   "source": [
    "kwak_vector"
   ]
  },
  {
   "cell_type": "code",
   "execution_count": 28,
   "id": "bulgarian-vintage",
   "metadata": {},
   "outputs": [
    {
     "data": {
      "text/plain": [
       "array([0.00631138, 0.00656622, 0.00351129, ..., 0.00113653, 0.00947476,\n",
       "       0.00654186], dtype=float32)"
      ]
     },
     "execution_count": 28,
     "metadata": {},
     "output_type": "execute_result"
    }
   ],
   "source": [
    "toy_story_vector"
   ]
  },
  {
   "cell_type": "markdown",
   "id": "daily-belly",
   "metadata": {},
   "source": [
    "* 두 벡터를 곱해서 1에 가까운 수가 나올 수록 학습이 잘 된 것"
   ]
  },
  {
   "cell_type": "code",
   "execution_count": 29,
   "id": "alone-speaking",
   "metadata": {},
   "outputs": [
    {
     "data": {
      "text/plain": [
       "0.9214159"
      ]
     },
     "execution_count": 29,
     "metadata": {},
     "output_type": "execute_result"
    }
   ],
   "source": [
    "np.dot(kwak_vector, toy_story_vector)"
   ]
  },
  {
   "cell_type": "markdown",
   "id": "regulation-transmission",
   "metadata": {},
   "source": [
    "## 7) 내가 좋아하는 영화와 비슷한 영화를 추천받아 보기"
   ]
  },
  {
   "cell_type": "code",
   "execution_count": 30,
   "id": "peaceful-backup",
   "metadata": {},
   "outputs": [
    {
     "data": {
      "text/plain": [
       "[(3628, 1.0000001),\n",
       " (3630, 0.8963051),\n",
       " (3629, 0.89235836),\n",
       " (3631, 0.88348645),\n",
       " (3632, 0.878075),\n",
       " (3409, 0.86967057),\n",
       " (3456, 0.8692922),\n",
       " (3587, 0.8691476),\n",
       " (3429, 0.86906457),\n",
       " (3561, 0.86796737),\n",
       " (3577, 0.8669072),\n",
       " (3609, 0.86550796),\n",
       " (3343, 0.86513335),\n",
       " (3567, 0.8650099),\n",
       " (3246, 0.86495864)]"
      ]
     },
     "execution_count": 30,
     "metadata": {},
     "output_type": "execute_result"
    }
   ],
   "source": [
    "favorite_movie = 'Toy Story (1995)'\n",
    "movie_id = movie_to_idx[favorite_movie]\n",
    "similar_artist = als_model.similar_items(movie_id, N=15)\n",
    "similar_artist"
   ]
  },
  {
   "cell_type": "markdown",
   "id": "rational-arrival",
   "metadata": {},
   "source": [
    "* 장르 확인해보기"
   ]
  },
  {
   "cell_type": "code",
   "execution_count": 45,
   "id": "martial-being",
   "metadata": {},
   "outputs": [
    {
     "name": "stdout",
     "output_type": "stream",
     "text": [
      "['Action|Drama|War']\n",
      "['Horror']\n",
      "['Comedy']\n",
      "['Comedy']\n",
      "['Comedy']\n",
      "['Drama|Thriller']\n",
      "['Drama']\n",
      "['Horror']\n",
      "['Animation|Comedy']\n",
      "['Drama']\n",
      "['Drama']\n",
      "['Documentary']\n",
      "['Comedy|Drama|Romance']\n",
      "['Comedy']\n",
      "['Drama']\n"
     ]
    },
    {
     "data": {
      "text/plain": [
       "['Flying Tigers (1942)',\n",
       " \"House of Exorcism, The (La Casa dell'esorcismo) (1974)\",\n",
       " 'Gold Rush, The (1925)',\n",
       " \"It's in the Water (1998)\",\n",
       " 'Monsieur Verdoux (1947)',\n",
       " 'Final Destination (2000)',\n",
       " 'Color of Paradise, The (Rang-e Khoda) (1999)',\n",
       " 'Inferno (1980)',\n",
       " 'Creature Comforts (1990)',\n",
       " \"Stacy's Knights (1982)\",\n",
       " 'Two Moon Juction (1988)',\n",
       " 'Regret to Inform (1998)',\n",
       " 'And God Created Woman (1988)',\n",
       " 'Bossa Nova (1999)',\n",
       " 'Malcolm X (1992)']"
      ]
     },
     "execution_count": 45,
     "metadata": {},
     "output_type": "execute_result"
    }
   ],
   "source": [
    "# (movie_id, 유사도)\n",
    "# movie_id를 tilte로 변환\n",
    "for i in [id_to_title(i[0]) for i in similar_artist]:\n",
    "    print(movies[movies['title']==i]['genre'].unique())\n",
    "[id_to_title(i[0]) for i in similar_artist]"
   ]
  },
  {
   "cell_type": "code",
   "execution_count": 46,
   "id": "purple-hours",
   "metadata": {},
   "outputs": [],
   "source": [
    "# similar_movie확인하는 함수\n",
    "def get_similar_movie(movie_name: str):\n",
    "    movie_name = movie_name\n",
    "    movie_id = movie_to_idx[movie_name]\n",
    "    similar_movie = als_model.similar_items(movie_id)\n",
    "    similar_movie = [id_to_title(i[0]) for i in similar_movie]\n",
    "    return similar_movie"
   ]
  },
  {
   "cell_type": "markdown",
   "id": "handled-atmosphere",
   "metadata": {},
   "source": [
    "## 8) 내가 가장 좋아할 만한 영화들을 추천받아 보기"
   ]
  },
  {
   "cell_type": "code",
   "execution_count": 47,
   "id": "limiting-scenario",
   "metadata": {},
   "outputs": [
    {
     "data": {
      "text/plain": [
       "[(3260, 0.075295866),\n",
       " (3531, 0.07407002),\n",
       " (2215, 0.06186974),\n",
       " (3550, 0.06134496),\n",
       " (3038, 0.059443653),\n",
       " (3112, 0.058794107),\n",
       " (2736, 0.058478035),\n",
       " (2996, 0.05827696),\n",
       " (2653, 0.0577458),\n",
       " (3089, 0.05692556),\n",
       " (3477, 0.05640951),\n",
       " (3549, 0.05615197),\n",
       " (3203, 0.055640586),\n",
       " (3102, 0.05543867),\n",
       " (3461, 0.053905345),\n",
       " (3532, 0.051653236),\n",
       " (3201, 0.049594723),\n",
       " (2990, 0.049263272),\n",
       " (3409, 0.049019624),\n",
       " (2733, 0.0486589)]"
      ]
     },
     "execution_count": 47,
     "metadata": {},
     "output_type": "execute_result"
    }
   ],
   "source": [
    "user = user_to_idx['kwak']\n",
    "# recommend에서는 user*item CSR Matrix를 받음\n",
    "movie_recommended = als_model.recommend(user, csr_data, N=20, filter_already_liked_items=True)\n",
    "movie_recommended"
   ]
  },
  {
   "cell_type": "code",
   "execution_count": 48,
   "id": "curious-establishment",
   "metadata": {},
   "outputs": [
    {
     "data": {
      "text/plain": [
       "['Howards End (1992)',\n",
       " 'All the Vermeers in New York (1990)',\n",
       " 'Rich and Strange (1932)',\n",
       " 'Hunger, The (1983)',\n",
       " 'Face in the Crowd, A (1957)',\n",
       " \"'Night Mother (1986)\",\n",
       " 'Brighton Beach Memoirs (1986)',\n",
       " 'Music of the Heart (1999)',\n",
       " 'Son of Dracula (1943)',\n",
       " 'Bicycle Thief, The (Ladri di biciclette) (1948)',\n",
       " 'Empire Records (1995)',\n",
       " 'Guys and Dolls (1955)',\n",
       " 'Dead Calm (1989)',\n",
       " 'Jagged Edge (1985)',\n",
       " 'Lord of the Flies (1963)',\n",
       " 'Freedom for Us (À nous la liberté ) (1931)',\n",
       " 'Five Easy Pieces (1970)',\n",
       " 'Licence to Kill (1989)',\n",
       " 'Final Destination (2000)',\n",
       " 'Vibes (1988)']"
      ]
     },
     "execution_count": 48,
     "metadata": {},
     "output_type": "execute_result"
    }
   ],
   "source": [
    "[id_to_title(i[0]) for i in movie_recommended]"
   ]
  },
  {
   "cell_type": "code",
   "execution_count": 50,
   "id": "confident-boston",
   "metadata": {},
   "outputs": [
    {
     "name": "stdout",
     "output_type": "stream",
     "text": [
      "['Drama']\n",
      "['Comedy|Drama|Romance']\n",
      "['Comedy|Romance']\n",
      "['Horror']\n",
      "['Drama']\n",
      "['Drama']\n",
      "['Comedy']\n",
      "['Drama']\n",
      "['Horror']\n",
      "['Drama']\n",
      "['Comedy|Drama']\n",
      "['Musical']\n",
      "['Thriller']\n",
      "['Thriller']\n",
      "['Adventure|Drama|Thriller']\n",
      "['Comedy']\n",
      "['Drama']\n",
      "['Action']\n",
      "['Drama|Thriller']\n",
      "['Adventure|Comedy']\n"
     ]
    }
   ],
   "source": [
    "# 장르 유사도\n",
    "for i in [id_to_title(i[0]) for i in movie_recommended]:\n",
    "    print(movies[movies['title']==i]['genre'].unique())"
   ]
  },
  {
   "cell_type": "markdown",
   "id": "aging-palmer",
   "metadata": {},
   "source": [
    "호러를 제외하고는 대부분 좋아하는 장르가 나옴"
   ]
  },
  {
   "cell_type": "markdown",
   "id": "efficient-speed",
   "metadata": {},
   "source": [
    "## 9) 추천시스템에 기여한 정도 확인하기\n",
    "* AlternatingLeastSquares 클래스에 구현된 explain 메소드를 사용하면 내가 기록을 남긴 데이터 중 이 추천에 기여한 정도를 확인할 수 있다."
   ]
  },
  {
   "cell_type": "code",
   "execution_count": 52,
   "id": "olympic-pollution",
   "metadata": {},
   "outputs": [],
   "source": [
    "Toy_Story = movie_to_idx['Toy Story (1995)']\n",
    "# 이 explain method는 추천한 콘텐츠의 점수에 기여한 다른 콘텐츠와 기여도(합이 콘텐츠의 점수가 됨)를 반환\n",
    "explain = als_model.explain(user, csr_data, itemid=Toy_Story)"
   ]
  },
  {
   "cell_type": "code",
   "execution_count": 53,
   "id": "separated-century",
   "metadata": {},
   "outputs": [
    {
     "data": {
      "text/plain": [
       "(0.9170625569833621,\n",
       " [(3628, 0.6530092711188937),\n",
       "  (3630, 0.08824766124000716),\n",
       "  (3629, 0.0726959603680134),\n",
       "  (3631, 0.05655192770930732),\n",
       "  (3632, 0.04655773654714063)],\n",
       " (array([[ 0.49694544,  0.20120958,  0.20746468, ...,  0.2152635 ,\n",
       "           0.19750612,  0.20150556],\n",
       "         [ 0.09999019,  0.43546778,  0.11832413, ...,  0.11032163,\n",
       "           0.10172915,  0.1181941 ],\n",
       "         [ 0.10309863,  0.09327023,  0.42015361, ...,  0.08809781,\n",
       "           0.08876102,  0.09174   ],\n",
       "         ...,\n",
       "         [ 0.10697422,  0.0913546 ,  0.0947279 , ...,  0.28312013,\n",
       "           0.00550721,  0.00828479],\n",
       "         [ 0.09814977,  0.08403989,  0.09030582, ...,  0.09493105,\n",
       "           0.28388738, -0.00149628],\n",
       "         [ 0.10013727,  0.09201457,  0.09433539, ...,  0.09706461,\n",
       "           0.08971476,  0.28578353]]),\n",
       "  False))"
      ]
     },
     "execution_count": 53,
     "metadata": {},
     "output_type": "execute_result"
    }
   ],
   "source": [
    "explain"
   ]
  },
  {
   "cell_type": "code",
   "execution_count": 55,
   "id": "hindu-session",
   "metadata": {},
   "outputs": [
    {
     "data": {
      "text/plain": [
       "[('Flying Tigers (1942)', 0.6530092711188937),\n",
       " (\"House of Exorcism, The (La Casa dell'esorcismo) (1974)\",\n",
       "  0.08824766124000716),\n",
       " ('Gold Rush, The (1925)', 0.0726959603680134),\n",
       " (\"It's in the Water (1998)\", 0.05655192770930732),\n",
       " ('Monsieur Verdoux (1947)', 0.04655773654714063)]"
      ]
     },
     "execution_count": 55,
     "metadata": {},
     "output_type": "execute_result"
    }
   ],
   "source": [
    "[(id_to_title(i[0]), i[1]) for i in explain[1]]"
   ]
  },
  {
   "cell_type": "markdown",
   "id": "earlier-mission",
   "metadata": {},
   "source": [
    "* 'Flying Tigers (1942)'가 기여도가 가장 높게 나왔다. 장르는 액션인데 선호하는 영화중 장르가 액션영화인 'Jumanji'와 유사하고\n",
    "* 'Monsieur Verdoux (1947)'는 기여도가 가장 낮게 나왔는데 장르는 코미디이다. 코미디는 선호하는 영화 장르에 없었다."
   ]
  },
  {
   "cell_type": "code",
   "execution_count": null,
   "id": "fallen-acrylic",
   "metadata": {},
   "outputs": [],
   "source": []
  },
  {
   "cell_type": "markdown",
   "id": "japanese-luxury",
   "metadata": {},
   "source": [
    "# 🌟 루브릭 평가"
   ]
  },
  {
   "cell_type": "markdown",
   "id": "distinct-independence",
   "metadata": {},
   "source": [
    "|평가문항|상세문항|\n",
    "|:------|:---|\n",
    "|1. CSR matrix가 정상적으로 만들어졌다.|사용자와 아이템 개수를 바탕으로 정확한 사이즈로 만들었다.|\n",
    "|2. MF 모델이 정상적으로 훈련되어 그럴듯한 추천이 이루어졌다.|사용자와 아이템 벡터 내적수치가 의미있게 형성되었다.|\n",
    "|3. 비슷한 영화 찾기와 유저에게 추천하기의 과정이 정상적으로 진행되었다.|MF모델이 예측한 유저 선호도 및 아이템간 유사도, 기여도가 의미있게 측정되었다.|"
   ]
  },
  {
   "cell_type": "markdown",
   "id": "characteristic-stake",
   "metadata": {},
   "source": [
    "#### 1. CSR matrix가 정상적으로 만들어졌다.    \n",
    "   -> CSR matrix는 잘 만들어진 것 같다.  \n",
    "\n",
    "#### 2. MF 모델이 정상적으로 훈련되어 그럴듯한 추천이 이루어졌다.  \n",
    "   ->  대부분 선호한 영화와 비슷한 영화가 추천됨 \n",
    "\n",
    "#### 3. 비슷한 영화 찾기와 유저에게 추천하기의 과정이 정상적으로 진행되었다.\t\n",
    "   -> 유사도는 의미있게 측정이 된 것 같지는 않지만(호러,스릴러가 나옴..) 기여도는 유사도에 비해 의미있게 측정된 것 같다."
   ]
  },
  {
   "cell_type": "code",
   "execution_count": null,
   "id": "spare-mercury",
   "metadata": {},
   "outputs": [],
   "source": []
  },
  {
   "cell_type": "markdown",
   "id": "large-reflection",
   "metadata": {},
   "source": [
    "# 🌟 회고"
   ]
  },
  {
   "cell_type": "markdown",
   "id": "recent-variety",
   "metadata": {},
   "source": [
    "요즘 인터넷쇼핑을 하거나 유튜브를 보는 등 일상에서 추천시스템을 활용한 사례를 흔히 볼 수 있는데 평소에 '어떤 원리로 추천을 해주는 걸까' 하고 궁금했었는데 \n",
    "그 주제로 프로젝트를 진행하게 되어서 재미있었다.  \\\n",
    "Matrix Factorization(MF)와 CSR matrix에 대한 내용도 알 수 있었고, 전체적으로 코드를 다시한번 자세하게 보고 공부하면서 영화추천이 아니라 음악추천도 한번 해보고 싶다는 생각이 들었다."
   ]
  },
  {
   "cell_type": "markdown",
   "id": "challenging-courtesy",
   "metadata": {},
   "source": [
    "## ⭐️참고\n",
    "[miinkang님 코드](https://github.com/miinkang/AI_Project_AIFFEL/blob/main/%5BE-08%5DMovielens_recommendation.ipynb)"
   ]
  }
 ],
 "metadata": {
  "kernelspec": {
   "display_name": "Python 3",
   "language": "python",
   "name": "python3"
  },
  "language_info": {
   "codemirror_mode": {
    "name": "ipython",
    "version": 3
   },
   "file_extension": ".py",
   "mimetype": "text/x-python",
   "name": "python",
   "nbconvert_exporter": "python",
   "pygments_lexer": "ipython3",
   "version": "3.7.9"
  }
 },
 "nbformat": 4,
 "nbformat_minor": 5
}
