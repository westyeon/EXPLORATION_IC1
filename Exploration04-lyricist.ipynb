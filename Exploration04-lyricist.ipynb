{
 "cells": [
  {
   "cell_type": "markdown",
   "id": "contained-influence",
   "metadata": {},
   "source": [
    "# 프로젝트 : 멋진 작사가 만들기\n",
    "\n",
    "### Step 1. 데이터 다운로드\n",
    "### Step 2. 데이터 읽어오기\n",
    "### Step 3. 데이터 정제\n",
    "### Step 4. 평가 데이터셋 분리\n",
    "### Step 5. 인공지능 만들기"
   ]
  },
  {
   "cell_type": "code",
   "execution_count": 46,
   "id": "reflected-interpretation",
   "metadata": {},
   "outputs": [
    {
     "name": "stdout",
     "output_type": "stream",
     "text": [
      "데이터 크기: 187088\n",
      "Examples:\n",
      " ['[Verse 1]', 'They come from everywhere', 'A longing to be free', 'They come to join us here', 'From sea to shining sea And they all have a dream', 'As people always will', 'To be safe and warm', 'In that shining city on the hill Some wanna slam the door', 'Instead of opening the gate', \"Aw, let's turn this thing around\", 'Before it gets too late [Chorus]', \"It's up to me and you\", 'Love can conquer hate', 'I know this to be true', \"That's what makes us great [Verse 2]\"]\n"
     ]
    }
   ],
   "source": [
    "#데이터 읽어오기\n",
    "import glob\n",
    "import os, re\n",
    "import numpy as np\n",
    "import tensorflow as tf\n",
    "\n",
    "\n",
    "txt_file_path = os.getenv('HOME')+'/aiffel/lyricist/data/lyrics/*'\n",
    "\n",
    "txt_list = glob.glob(txt_file_path)\n",
    "\n",
    "raw_corpus = []\n",
    "\n",
    "#여러개의 txt파일을 모두 읽어서 raw_corpus에 담는다\n",
    "for txt_file in txt_list:\n",
    "    with open(txt_file, \"r\")as f:\n",
    "        raw = f.read().splitlines()\n",
    "        raw_corpus.extend(raw)\n",
    "        \n",
    "\n",
    "print(\"데이터 크기:\", len(raw_corpus))\n",
    "print(\"Examples:\\n\", raw_corpus[:15])"
   ]
  },
  {
   "cell_type": "markdown",
   "id": "sealed-tackle",
   "metadata": {},
   "source": [
    "# 데이터 정제하기"
   ]
  },
  {
   "cell_type": "code",
   "execution_count": 47,
   "id": "residential-constant",
   "metadata": {},
   "outputs": [
    {
     "name": "stdout",
     "output_type": "stream",
     "text": [
      "<start> this is sample sentence . <end>\n"
     ]
    }
   ],
   "source": [
    "# 입력된 문장을\n",
    "#     1. 소문자로 바꾸고, 양쪽 공백을 지웁니다\n",
    "#     2. 특수문자 양쪽에 공백을 넣고\n",
    "#     3. 여러개의 공백은 하나의 공백으로 바꿉니다\n",
    "#     4. a-zA-Z?.!,¿가 아닌 모든 문자를 하나의 공백으로 바꿉니다\n",
    "#     5. 다시 양쪽 공백을 지웁니다\n",
    "#     6. 문장 시작에는 <start>, 끝에는 <end>를 추가합니다\n",
    "\n",
    "\n",
    "def preprocess_sentence(sentence):\n",
    "    sentence = sentence.lower().strip() #1\n",
    "    sentence = re.sub(r\"([?.!,¿])\", r\" \\1\", sentence)#2\n",
    "    sentence = re.sub(r'[\" \"]+', \" \", sentence) #3\n",
    "    sentence = re.sub(r\"[^a-zA-Z?.!,¿]+\",\" \", sentence) #4\n",
    "    sentence = sentence.strip() # 5\n",
    "    sentence = '<start> ' + sentence + ' <end>' #6\n",
    "    return sentence\n",
    "\n",
    "# 이 문장이 어떻게 필터링되는지 확인\n",
    "print(preprocess_sentence(\"This @_is ;;;sample     sentence.\"))"
   ]
  },
  {
   "cell_type": "code",
   "execution_count": 48,
   "id": "technical-documentary",
   "metadata": {},
   "outputs": [
    {
     "data": {
      "text/plain": [
       "150691"
      ]
     },
     "execution_count": 48,
     "metadata": {},
     "output_type": "execute_result"
    }
   ],
   "source": [
    "#정제된 문장을 모으는 곳\n",
    "corpus = []\n",
    "\n",
    "for sentence in raw_corpus:\n",
    "    #우리가 원하지 않는 문장은 건너뛸 수 있게\n",
    "    if len(sentence) == 0: continue  #길이가 0인 문장은 건너뜀\n",
    "    if sentence[-1] == \":\": continue \n",
    "    if sentence[0] == \"[\": continue # [verse]같은 건 건너뜀\n",
    "    if sentence.count(\" \") > 10 : continue    \n",
    "        \n",
    "    #정제를 하고 담아주기\n",
    "    preprocessed_sentence = preprocess_sentence(sentence)\n",
    "    corpus.append(preprocessed_sentence)\n",
    "    \n",
    "    \n",
    "#정제된 결과를 10개만 확인\n",
    "corpus[:10]\n",
    "len(corpus)"
   ]
  },
  {
   "cell_type": "code",
   "execution_count": 49,
   "id": "proprietary-rough",
   "metadata": {},
   "outputs": [
    {
     "name": "stdout",
     "output_type": "stream",
     "text": [
      "[[   2   42   64 ...    0    0    0]\n",
      " [   2    9 2964 ...    0    0    0]\n",
      " [   2   42   64 ...    0    0    0]\n",
      " ...\n",
      " [   2  554   19 ...    0    0    0]\n",
      " [   2  121   36 ...    0    0    0]\n",
      " [   2    5   23 ...    0    0    0]] <keras_preprocessing.text.Tokenizer object at 0x7fc14ab80890>\n"
     ]
    }
   ],
   "source": [
    "def tokenize(corpus):\n",
    "   \n",
    "    tokenizer = tf.keras.preprocessing.text.Tokenizer(\n",
    "        num_words=23000, # 단어장의 크기설정 (12000이상 권장함)\n",
    "        filters=' ', #이미 문장을 정제해서 filters필요x\n",
    "        oov_token=\"<unk>\" # 사전에 없는 단어는 <unk>로 \n",
    "    )\n",
    "    \n",
    "    #corpus를 이용해 tokenizer 내부의 단어장을 완성하는 함수\n",
    "    tokenizer.fit_on_texts(corpus)\n",
    "    \n",
    "    #준비한 tokenizer를 이용해서 corpus를 tensor로 변환\n",
    "    tensor = tokenizer.texts_to_sequences(corpus)\n",
    "    \n",
    "    # 입력 데이터의 시퀀스 길이를 일정하게 맞춰줌(padding)\n",
    "    # 만약 시퀀스가 짧다면 문장 뒤에 패딩을 붙여 길이를 맞춰줌.\n",
    "    # 문장 앞에 패딩을 붙여 길이를 맞추고 싶다면 padding='pre'를 사용함\n",
    "    tensor = tf.keras.preprocessing.sequence.pad_sequences(tensor, padding='post', maxlen=15)  \n",
    "    \n",
    "    print(tensor,tokenizer)\n",
    "    return tensor, tokenizer\n",
    "\n",
    "tensor, tokenizer = tokenize(corpus)"
   ]
  },
  {
   "cell_type": "code",
   "execution_count": 50,
   "id": "maritime-relation",
   "metadata": {},
   "outputs": [
    {
     "name": "stdout",
     "output_type": "stream",
     "text": [
      "[[   2   42   64   73  704    3    0    0    0    0    0    0    0]\n",
      " [   2    9 2964   10   27  262    3    0    0    0    0    0    0]\n",
      " [   2   42   64   10 2126  126   92    3    0    0    0    0    0]\n",
      " [   2   73  542   10 1068  542    8   42   25   76    9  344    3]\n",
      " [   2   82  173  171   84    3    0    0    0    0    0    0    0]]\n"
     ]
    }
   ],
   "source": [
    "#토큰화한 tensor\n",
    "print(tensor[:5, :13])"
   ]
  },
  {
   "cell_type": "code",
   "execution_count": 51,
   "id": "centered-ecology",
   "metadata": {},
   "outputs": [
    {
     "name": "stdout",
     "output_type": "stream",
     "text": [
      "1 : <unk>\n",
      "2 : <start>\n",
      "3 : <end>\n",
      "4 : ,\n",
      "5 : i\n",
      "6 : the\n",
      "7 : you\n",
      "8 : and\n",
      "9 : a\n",
      "10 : to\n"
     ]
    }
   ],
   "source": [
    "#문장이 2로 시작하는데 알아보기 위해서 단어사전이 어떻게 구축되어있는지 아래코드로 확인\n",
    "for idx in tokenizer.index_word:\n",
    "    print(idx, \":\", tokenizer.index_word[idx])\n",
    "    \n",
    "    if idx >= 10: break"
   ]
  },
  {
   "cell_type": "markdown",
   "id": "honey-purpose",
   "metadata": {},
   "source": [
    "#### 왜 시작이 2고 마지막이 3으로 끝나는지 알 수 있었음"
   ]
  },
  {
   "cell_type": "code",
   "execution_count": null,
   "id": "copyrighted-interim",
   "metadata": {},
   "outputs": [],
   "source": []
  },
  {
   "cell_type": "markdown",
   "id": "peripheral-trick",
   "metadata": {},
   "source": [
    "## 데이터 셋 분리하기     \n",
    "corpus 내의 첫 번째 문장에 대해 생성된 소스와 타겟 문장을 확인"
   ]
  },
  {
   "cell_type": "code",
   "execution_count": 52,
   "id": "prospective-porcelain",
   "metadata": {},
   "outputs": [
    {
     "name": "stdout",
     "output_type": "stream",
     "text": [
      "[  2  42  64  73 704   3   0   0   0   0   0   0   0   0]\n",
      "[ 42  64  73 704   3   0   0   0   0   0   0   0   0   0]\n"
     ]
    }
   ],
   "source": [
    "# tensor에서 마지막 토큰을 잘라내서 소스 문장을 생성하기\n",
    "# 마지막 토큰은 <end>가 아니라 <pad>일 가능성이 높음\n",
    "src_input = tensor[:, :-1]  \n",
    "# tensor에서 <start>를 잘라내서 타겟 문장을 생성하기\n",
    "tgt_input = tensor[:, 1:]    \n",
    "\n",
    "print(src_input[0])\n",
    "print(tgt_input[0])"
   ]
  },
  {
   "cell_type": "code",
   "execution_count": 53,
   "id": "increasing-passion",
   "metadata": {},
   "outputs": [
    {
     "name": "stdout",
     "output_type": "stream",
     "text": [
      "Source Train: (120552, 14)\n",
      "Target Train: (120552, 14)\n"
     ]
    }
   ],
   "source": [
    "#train_test_split()함수를 사용해서 훈련데이터와 평가데이터 분리하기!\n",
    "from sklearn.model_selection import train_test_split\n",
    "\n",
    "#총 데이터의 20%를 평가 데이터셋으로 사용\n",
    "enc_train, enc_val, dec_train, dec_val = train_test_split(src_input, tgt_input, test_size=0.2)\n",
    "\n",
    "print(\"Source Train:\", enc_train.shape)\n",
    "print(\"Target Train:\", dec_train.shape)"
   ]
  },
  {
   "cell_type": "code",
   "execution_count": null,
   "id": "opened-second",
   "metadata": {},
   "outputs": [],
   "source": []
  },
  {
   "cell_type": "markdown",
   "id": "standing-removal",
   "metadata": {},
   "source": [
    "## 데이터 셋 객체 생성"
   ]
  },
  {
   "cell_type": "code",
   "execution_count": 54,
   "id": "northern-dancing",
   "metadata": {},
   "outputs": [
    {
     "data": {
      "text/plain": [
       "<BatchDataset shapes: ((256, 14), (256, 14)), types: (tf.int32, tf.int32)>"
      ]
     },
     "execution_count": 54,
     "metadata": {},
     "output_type": "execute_result"
    }
   ],
   "source": [
    "BUFFER_SIZE = len(src_input)\n",
    "BATCH_SIZE = 256\n",
    "steps_per_epoch = len(src_input) // BATCH_SIZE\n",
    "\n",
    " # tokenizer가 구축한 단어사전 내 12,000개와, 여기 포함되지 않은 0:<pad>를 포함하여 12,001개\n",
    "VOCAB_SIZE = tokenizer.num_words + 1   \n",
    "\n",
    "# 준비한 데이터 소스로부터 데이터셋을 만들기\n",
    "dataset = tf.data.Dataset.from_tensor_slices((src_input, tgt_input))\n",
    "dataset = dataset.shuffle(BUFFER_SIZE)\n",
    "dataset = dataset.batch(BATCH_SIZE, drop_remainder=True)\n",
    "dataset"
   ]
  },
  {
   "cell_type": "code",
   "execution_count": null,
   "id": "legislative-crack",
   "metadata": {},
   "outputs": [],
   "source": []
  },
  {
   "cell_type": "markdown",
   "id": "polyphonic-christianity",
   "metadata": {},
   "source": [
    "## 인공지능 만들기\n",
    "\n",
    "* 모델의 Embedding Size와 Hidden Size를 조절해서 10Epoch안에     \n",
    "val_loss값을 2.2 수준으로 줄일 수 있는 모델 설계하기"
   ]
  },
  {
   "cell_type": "code",
   "execution_count": 55,
   "id": "sonic-chuck",
   "metadata": {},
   "outputs": [],
   "source": [
    "class TextGenerator(tf.keras.Model):\n",
    "    def __init__(self, vocab_size, embedding_size, hidden_size):\n",
    "        super().__init__()\n",
    "        \n",
    "        self.embedding = tf.keras.layers.Embedding(vocab_size, embedding_size)\n",
    "        self.rnn_1 = tf.keras.layers.LSTM(hidden_size, return_sequences=True)\n",
    "        self.rnn_2 = tf.keras.layers.LSTM(hidden_size, return_sequences=True)\n",
    "        self.linear = tf.keras.layers.Dense(vocab_size)\n",
    "        \n",
    "    def call(self, x):\n",
    "        out = self.embedding(x)\n",
    "        out = self.rnn_1(out)\n",
    "        out = self.rnn_2(out)\n",
    "        out = self.linear(out)\n",
    "        \n",
    "        return out\n",
    "    \n",
    "embedding_size = 256\n",
    "hidden_size = 1024\n",
    "model = TextGenerator(tokenizer.num_words + 1, embedding_size , hidden_size)"
   ]
  },
  {
   "cell_type": "code",
   "execution_count": 56,
   "id": "prepared-waters",
   "metadata": {},
   "outputs": [
    {
     "data": {
      "text/plain": [
       "<tf.Tensor: shape=(256, 14, 23001), dtype=float32, numpy=\n",
       "array([[[-1.43649726e-04,  1.76014903e-04,  2.42864189e-05, ...,\n",
       "         -4.18973377e-06, -2.16621484e-05,  2.78816413e-04],\n",
       "        [ 1.55447344e-06,  1.87925427e-04,  1.65282152e-04, ...,\n",
       "          3.77308788e-05, -9.67640954e-05,  2.95939681e-04],\n",
       "        [ 5.59317159e-05,  1.33576264e-04,  3.31338204e-04, ...,\n",
       "         -1.47742467e-04, -2.78338703e-04,  2.11799226e-04],\n",
       "        ...,\n",
       "        [-3.86322761e-04, -1.00872094e-04,  2.04418422e-04, ...,\n",
       "         -4.63991513e-04,  1.93131680e-04,  7.53880304e-04],\n",
       "        [-6.51903916e-04, -5.36153166e-05,  1.37952316e-04, ...,\n",
       "         -2.98109138e-04,  4.63124918e-04,  9.06863541e-04],\n",
       "        [-6.22680876e-04,  1.14285380e-04,  1.95742759e-04, ...,\n",
       "         -3.01188964e-04,  4.21511009e-04,  9.99791664e-04]],\n",
       "\n",
       "       [[-1.43649726e-04,  1.76014903e-04,  2.42864189e-05, ...,\n",
       "         -4.18973377e-06, -2.16621484e-05,  2.78816413e-04],\n",
       "        [-2.14343265e-04,  5.61878915e-05, -1.60166633e-06, ...,\n",
       "          1.75622627e-04, -8.43048620e-05,  4.11555695e-04],\n",
       "        [-2.24993171e-04,  1.41135577e-04, -2.20017857e-04, ...,\n",
       "          1.69413048e-04, -2.72960053e-04,  3.61077080e-04],\n",
       "        ...,\n",
       "        [ 3.73836723e-04,  1.37543329e-03,  8.72858567e-04, ...,\n",
       "         -2.70307850e-04, -1.20125734e-03,  3.92641348e-04],\n",
       "        [ 4.78248985e-04,  1.28596264e-03,  9.74324066e-04, ...,\n",
       "         -5.35169966e-04, -1.41166651e-03,  4.73974011e-04],\n",
       "        [ 5.69174357e-04,  1.18214416e-03,  1.05665659e-03, ...,\n",
       "         -7.92661507e-04, -1.59244158e-03,  5.46288502e-04]],\n",
       "\n",
       "       [[-1.43649726e-04,  1.76014903e-04,  2.42864189e-05, ...,\n",
       "         -4.18973377e-06, -2.16621484e-05,  2.78816413e-04],\n",
       "        [-1.58565279e-04,  2.96703947e-04,  1.04875289e-04, ...,\n",
       "         -1.65005858e-05, -5.65292430e-05,  5.34449879e-04],\n",
       "        [-3.21848238e-05,  4.33155743e-04,  3.24108900e-04, ...,\n",
       "         -2.11737395e-04, -2.14740125e-04,  8.19242094e-04],\n",
       "        ...,\n",
       "        [-1.23602309e-04,  3.08924151e-04, -2.98506522e-04, ...,\n",
       "          1.92537860e-04, -8.01561167e-04,  2.87030562e-04],\n",
       "        [-2.52251950e-04,  3.02507688e-04, -4.20077762e-04, ...,\n",
       "          3.53867683e-04, -4.48909850e-04,  2.03032963e-04],\n",
       "        [-2.31337239e-04,  4.02550009e-04, -3.83552717e-04, ...,\n",
       "          2.82245921e-04, -4.34179237e-04,  1.52165609e-04]],\n",
       "\n",
       "       ...,\n",
       "\n",
       "       [[-1.43649726e-04,  1.76014903e-04,  2.42864189e-05, ...,\n",
       "         -4.18973377e-06, -2.16621484e-05,  2.78816413e-04],\n",
       "        [-2.28630553e-04,  3.12654563e-04,  3.78537516e-05, ...,\n",
       "         -5.34183528e-05,  3.22154119e-05,  5.14509156e-04],\n",
       "        [-3.98321368e-04,  3.91922775e-04, -2.68218682e-05, ...,\n",
       "          2.18517307e-05, -7.26642384e-06,  6.73256814e-04],\n",
       "        ...,\n",
       "        [ 1.79899755e-04,  9.32383118e-04, -4.16440918e-04, ...,\n",
       "         -1.43543220e-04,  1.46401275e-04,  2.64128495e-04],\n",
       "        [ 2.69195647e-04,  9.60090896e-04, -1.60544281e-04, ...,\n",
       "         -3.32808238e-04, -1.79922703e-04,  3.71321046e-04],\n",
       "        [ 3.55609984e-04,  9.54875664e-04,  9.09735172e-05, ...,\n",
       "         -5.46450668e-04, -5.18220186e-04,  4.70559986e-04]],\n",
       "\n",
       "       [[-1.43649726e-04,  1.76014903e-04,  2.42864189e-05, ...,\n",
       "         -4.18973377e-06, -2.16621484e-05,  2.78816413e-04],\n",
       "        [-2.23993236e-04,  1.27821579e-04, -2.29937199e-04, ...,\n",
       "         -2.73922960e-05,  2.78331572e-04,  3.88979097e-04],\n",
       "        [-1.44107340e-04,  1.58591443e-04, -3.83804523e-04, ...,\n",
       "         -8.76459978e-07,  4.20045253e-04,  4.51150583e-04],\n",
       "        ...,\n",
       "        [-1.92057589e-04, -3.32183437e-04, -1.76786110e-04, ...,\n",
       "          2.49154953e-04, -5.46005904e-04, -8.02444585e-04],\n",
       "        [-8.26084361e-05, -4.50575433e-04, -4.24074606e-05, ...,\n",
       "          3.27099318e-04, -3.91967507e-04, -7.48090621e-04],\n",
       "        [-1.54977301e-04, -4.61036601e-04,  1.06427315e-05, ...,\n",
       "          3.64477251e-04, -7.15226706e-05, -5.90731099e-04]],\n",
       "\n",
       "       [[-1.43649726e-04,  1.76014903e-04,  2.42864189e-05, ...,\n",
       "         -4.18973377e-06, -2.16621484e-05,  2.78816413e-04],\n",
       "        [-7.55190267e-05,  2.66224728e-04,  3.88160443e-05, ...,\n",
       "          5.50847180e-05,  6.92835893e-05,  3.43834923e-04],\n",
       "        [ 1.64065968e-05,  3.27076792e-04,  4.88033184e-05, ...,\n",
       "          2.43091145e-05,  8.47546544e-05,  3.47193010e-04],\n",
       "        ...,\n",
       "        [ 5.86144801e-04,  8.73927493e-04,  9.35146876e-04, ...,\n",
       "         -1.66538311e-03, -1.54568616e-03,  7.91899569e-04],\n",
       "        [ 6.68505148e-04,  8.31564015e-04,  9.99018783e-04, ...,\n",
       "         -1.83656765e-03, -1.69130706e-03,  7.93909829e-04],\n",
       "        [ 7.44416553e-04,  7.87198253e-04,  1.03967066e-03, ...,\n",
       "         -1.98839093e-03, -1.80511421e-03,  7.88017875e-04]]],\n",
       "      dtype=float32)>"
      ]
     },
     "execution_count": 56,
     "metadata": {},
     "output_type": "execute_result"
    }
   ],
   "source": [
    "# 데이터 셋에서 데이터 한 배치만 불러오기\n",
    "for src_sample, tgt_sample in dataset.take(1): break\n",
    "\n",
    "# 한 배치만 불러온 데이터를 모델에 넣어보기\n",
    "model(src_sample)"
   ]
  },
  {
   "cell_type": "code",
   "execution_count": 57,
   "id": "partial-discount",
   "metadata": {},
   "outputs": [
    {
     "name": "stdout",
     "output_type": "stream",
     "text": [
      "Model: \"text_generator_2\"\n",
      "_________________________________________________________________\n",
      "Layer (type)                 Output Shape              Param #   \n",
      "=================================================================\n",
      "embedding_2 (Embedding)      multiple                  5888256   \n",
      "_________________________________________________________________\n",
      "lstm_4 (LSTM)                multiple                  5246976   \n",
      "_________________________________________________________________\n",
      "lstm_5 (LSTM)                multiple                  8392704   \n",
      "_________________________________________________________________\n",
      "dense_2 (Dense)              multiple                  23576025  \n",
      "=================================================================\n",
      "Total params: 43,103,961\n",
      "Trainable params: 43,103,961\n",
      "Non-trainable params: 0\n",
      "_________________________________________________________________\n"
     ]
    }
   ],
   "source": [
    "model.summary()"
   ]
  },
  {
   "cell_type": "code",
   "execution_count": 58,
   "id": "innovative-coverage",
   "metadata": {},
   "outputs": [
    {
     "name": "stdout",
     "output_type": "stream",
     "text": [
      "Epoch 1/10\n",
      "588/588 [==============================] - 289s 487ms/step - loss: 4.1214\n",
      "Epoch 2/10\n",
      "588/588 [==============================] - 287s 487ms/step - loss: 3.0614\n",
      "Epoch 3/10\n",
      "588/588 [==============================] - 287s 487ms/step - loss: 2.8863\n",
      "Epoch 4/10\n",
      "588/588 [==============================] - 286s 486ms/step - loss: 2.7556\n",
      "Epoch 5/10\n",
      "588/588 [==============================] - 286s 486ms/step - loss: 2.6464\n",
      "Epoch 6/10\n",
      "588/588 [==============================] - 285s 485ms/step - loss: 2.5510\n",
      "Epoch 7/10\n",
      "588/588 [==============================] - 285s 484ms/step - loss: 2.4647\n",
      "Epoch 8/10\n",
      "588/588 [==============================] - 285s 484ms/step - loss: 2.3744\n",
      "Epoch 9/10\n",
      "588/588 [==============================] - 284s 484ms/step - loss: 2.3019\n",
      "Epoch 10/10\n",
      "588/588 [==============================] - 284s 482ms/step - loss: 2.2271\n"
     ]
    },
    {
     "data": {
      "text/plain": [
       "<tensorflow.python.keras.callbacks.History at 0x7fc14607b1d0>"
      ]
     },
     "execution_count": 58,
     "metadata": {},
     "output_type": "execute_result"
    }
   ],
   "source": [
    "optimizer = tf.keras.optimizers.Adam()\n",
    "loss = tf.keras.losses.SparseCategoricalCrossentropy(\n",
    "    from_logits=True, reduction='none')\n",
    "\n",
    "model.compile(loss=loss, optimizer=optimizer)\n",
    "model.fit(dataset, epochs=10)"
   ]
  },
  {
   "cell_type": "code",
   "execution_count": 59,
   "id": "hairy-cruise",
   "metadata": {},
   "outputs": [],
   "source": [
    "#문장 생성 함수\n",
    "def generate_text(model, tokenizer, init_sentence=\"<start>\", max_len=20):\n",
    "    # 테스트를 위해서 입력받은 init_sentence도 텐서로 변환\n",
    "    test_input = tokenizer.texts_to_sequences([init_sentence])\n",
    "    test_tensor = tf.convert_to_tensor(test_input, dtype=tf.int64)\n",
    "    end_token = tokenizer.word_index[\"<end>\"]\n",
    "\n",
    "    # 단어 하나씩 예측해 문장을 만듦\n",
    "    #    1. 입력받은 문장의 텐서를 입력하기\n",
    "    #    2. 예측된 값 중 가장 높은 확률인 word index를 뽑아냄\n",
    "    #    3. 2에서 예측된 word index를 문장 뒤에 붙임\n",
    "    #    4. 모델이 <end>를 예측했거나, max_len에 도달했다면 문장 생성 마침\n",
    "    while True:\n",
    "        # 1\n",
    "        predict = model(test_tensor) \n",
    "        # 2\n",
    "        predict_word = tf.argmax(tf.nn.softmax(predict, axis=-1), axis=-1)[:, -1] \n",
    "        # 3 \n",
    "        test_tensor = tf.concat([test_tensor, tf.expand_dims(predict_word, axis=0)], axis=-1)\n",
    "        # 4\n",
    "        if predict_word.numpy()[0] == end_token: break\n",
    "        if test_tensor.shape[1] >= max_len: break\n",
    "\n",
    "    generated = \"\"\n",
    "    # tokenizer를 이용해 word index를 단어로 하나씩 변환\n",
    "    for word_index in test_tensor[0].numpy():\n",
    "        generated += tokenizer.index_word[word_index] + \" \"\n",
    "\n",
    "    return generated"
   ]
  },
  {
   "cell_type": "code",
   "execution_count": 60,
   "id": "prescribed-mixture",
   "metadata": {},
   "outputs": [
    {
     "data": {
      "text/plain": [
       "'<start> i love you <end> '"
      ]
     },
     "execution_count": 60,
     "metadata": {},
     "output_type": "execute_result"
    }
   ],
   "source": [
    "generate_text(model, tokenizer, init_sentence=\"<start> i love\", max_len=20)"
   ]
  },
  {
   "cell_type": "code",
   "execution_count": 38,
   "id": "direct-kidney",
   "metadata": {},
   "outputs": [
    {
     "data": {
      "text/plain": [
       "'<start> i know you re smiling down on me <end> '"
      ]
     },
     "execution_count": 38,
     "metadata": {},
     "output_type": "execute_result"
    }
   ],
   "source": [
    "generate_text(model, tokenizer, init_sentence=\"<start> i know\", max_len=20)"
   ]
  },
  {
   "cell_type": "code",
   "execution_count": 39,
   "id": "expected-ecuador",
   "metadata": {},
   "outputs": [
    {
     "data": {
      "text/plain": [
       "'<start> if we re not there <end> '"
      ]
     },
     "execution_count": 39,
     "metadata": {},
     "output_type": "execute_result"
    }
   ],
   "source": [
    "generate_text(model, tokenizer, init_sentence=\"<start> if we\", max_len=20)"
   ]
  },
  {
   "cell_type": "code",
   "execution_count": null,
   "id": "brazilian-pearl",
   "metadata": {},
   "outputs": [],
   "source": []
  }
 ],
 "metadata": {
  "kernelspec": {
   "display_name": "Python 3",
   "language": "python",
   "name": "python3"
  },
  "language_info": {
   "codemirror_mode": {
    "name": "ipython",
    "version": 3
   },
   "file_extension": ".py",
   "mimetype": "text/x-python",
   "name": "python",
   "nbconvert_exporter": "python",
   "pygments_lexer": "ipython3",
   "version": "3.7.9"
  }
 },
 "nbformat": 4,
 "nbformat_minor": 5
}
