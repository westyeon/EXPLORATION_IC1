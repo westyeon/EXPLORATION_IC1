{
 "cells": [
  {
   "cell_type": "markdown",
   "id": "comparative-review",
   "metadata": {},
   "source": [
    "# EX10. 프로젝트 - 뉴스기사 요약해보기 "
   ]
  },
  {
   "cell_type": "markdown",
   "id": "cutting-bishop",
   "metadata": {},
   "source": [
    "새로운 데이터셋에 대해서 추상적 요약과 추출적 요약해보기!"
   ]
  },
  {
   "cell_type": "markdown",
   "id": "acquired-photography",
   "metadata": {},
   "source": [
    "## -목차-    \n",
    "\n",
    "### Step 1. 데이터 수집하기     \n",
    "### Step 2. 데이터 전처리하기 (추상적 요약)    \n",
    "### Step 3. 어텐션 메커니즘 사용하기 (추상적 요약)   \n",
    "### Step 4. 실제 결과와 요약문 비교하기 (추상적 요약)    \n",
    "### Step 5. Summa을 이용해서 추출적 요약해보기"
   ]
  },
  {
   "cell_type": "code",
   "execution_count": 1,
   "id": "sound-insertion",
   "metadata": {},
   "outputs": [
    {
     "name": "stderr",
     "output_type": "stream",
     "text": [
      "[nltk_data] Downloading package stopwords to /aiffel/nltk_data...\n",
      "[nltk_data]   Unzipping corpora/stopwords.zip.\n"
     ]
    },
    {
     "name": "stdout",
     "output_type": "stream",
     "text": [
      "❤️\n"
     ]
    }
   ],
   "source": [
    "import nltk\n",
    "nltk.download('stopwords')\n",
    "\n",
    "import numpy as np\n",
    "import pandas as pd\n",
    "import os\n",
    "import re\n",
    "import matplotlib.pyplot as plt\n",
    "from nltk.corpus import stopwords\n",
    "from bs4 import BeautifulSoup \n",
    "from tensorflow.keras.preprocessing.text import Tokenizer \n",
    "from tensorflow.keras.preprocessing.sequence import pad_sequences\n",
    "import urllib.request\n",
    "\n",
    "print('❤️')"
   ]
  },
  {
   "cell_type": "markdown",
   "id": "civilian-terminal",
   "metadata": {},
   "source": [
    "# Step 1. 데이터 수집하기    \n",
    "[sunnysai12345/News_Summary](https://github.com/sunnysai12345/News_Summary)에서 news_summary_more.csv사용   \n",
    "추출적 요약을 하는 경우에는 오직 text열만을 사용하기"
   ]
  },
  {
   "cell_type": "code",
   "execution_count": 58,
   "id": "irish-blood",
   "metadata": {},
   "outputs": [],
   "source": [
    "import urllib.request\n",
    "urllib.request.urlretrieve(\"https://raw.githubusercontent.com/sunnysai12345/News_Summary/master/news_summary_more.csv\", filename=\"news_summary_more.csv\")\n",
    "data = pd.read_csv('news_summary_more.csv', encoding='iso-8859-1')"
   ]
  },
  {
   "cell_type": "code",
   "execution_count": 60,
   "id": "formed-differential",
   "metadata": {},
   "outputs": [
    {
     "data": {
      "text/html": [
       "<div>\n",
       "<style scoped>\n",
       "    .dataframe tbody tr th:only-of-type {\n",
       "        vertical-align: middle;\n",
       "    }\n",
       "\n",
       "    .dataframe tbody tr th {\n",
       "        vertical-align: top;\n",
       "    }\n",
       "\n",
       "    .dataframe thead th {\n",
       "        text-align: right;\n",
       "    }\n",
       "</style>\n",
       "<table border=\"1\" class=\"dataframe\">\n",
       "  <thead>\n",
       "    <tr style=\"text-align: right;\">\n",
       "      <th></th>\n",
       "      <th>headlines</th>\n",
       "      <th>text</th>\n",
       "    </tr>\n",
       "  </thead>\n",
       "  <tbody>\n",
       "    <tr>\n",
       "      <th>0</th>\n",
       "      <td>upGrad learner switches to career in ML &amp; Al w...</td>\n",
       "      <td>Saurav Kant, an alumnus of upGrad and IIIT-B's...</td>\n",
       "    </tr>\n",
       "    <tr>\n",
       "      <th>1</th>\n",
       "      <td>Delhi techie wins free food from Swiggy for on...</td>\n",
       "      <td>Kunal Shah's credit card bill payment platform...</td>\n",
       "    </tr>\n",
       "    <tr>\n",
       "      <th>2</th>\n",
       "      <td>New Zealand end Rohit Sharma-led India's 12-ma...</td>\n",
       "      <td>New Zealand defeated India by 8 wickets in the...</td>\n",
       "    </tr>\n",
       "    <tr>\n",
       "      <th>3</th>\n",
       "      <td>Aegon life iTerm insurance plan helps customer...</td>\n",
       "      <td>With Aegon Life iTerm Insurance plan, customer...</td>\n",
       "    </tr>\n",
       "    <tr>\n",
       "      <th>4</th>\n",
       "      <td>Have known Hirani for yrs, what if MeToo claim...</td>\n",
       "      <td>Speaking about the sexual harassment allegatio...</td>\n",
       "    </tr>\n",
       "  </tbody>\n",
       "</table>\n",
       "</div>"
      ],
      "text/plain": [
       "                                           headlines  \\\n",
       "0  upGrad learner switches to career in ML & Al w...   \n",
       "1  Delhi techie wins free food from Swiggy for on...   \n",
       "2  New Zealand end Rohit Sharma-led India's 12-ma...   \n",
       "3  Aegon life iTerm insurance plan helps customer...   \n",
       "4  Have known Hirani for yrs, what if MeToo claim...   \n",
       "\n",
       "                                                text  \n",
       "0  Saurav Kant, an alumnus of upGrad and IIIT-B's...  \n",
       "1  Kunal Shah's credit card bill payment platform...  \n",
       "2  New Zealand defeated India by 8 wickets in the...  \n",
       "3  With Aegon Life iTerm Insurance plan, customer...  \n",
       "4  Speaking about the sexual harassment allegatio...  "
      ]
     },
     "execution_count": 60,
     "metadata": {},
     "output_type": "execute_result"
    }
   ],
   "source": [
    "data.head()"
   ]
  },
  {
   "cell_type": "code",
   "execution_count": 59,
   "id": "thrown-giant",
   "metadata": {},
   "outputs": [
    {
     "data": {
      "text/html": [
       "<div>\n",
       "<style scoped>\n",
       "    .dataframe tbody tr th:only-of-type {\n",
       "        vertical-align: middle;\n",
       "    }\n",
       "\n",
       "    .dataframe tbody tr th {\n",
       "        vertical-align: top;\n",
       "    }\n",
       "\n",
       "    .dataframe thead th {\n",
       "        text-align: right;\n",
       "    }\n",
       "</style>\n",
       "<table border=\"1\" class=\"dataframe\">\n",
       "  <thead>\n",
       "    <tr style=\"text-align: right;\">\n",
       "      <th></th>\n",
       "      <th>headlines</th>\n",
       "      <th>text</th>\n",
       "    </tr>\n",
       "  </thead>\n",
       "  <tbody>\n",
       "    <tr>\n",
       "      <th>78646</th>\n",
       "      <td>Sunny's past has no bearing on how she'll be a...</td>\n",
       "      <td>Actor Ram Kapoor has said that the career choi...</td>\n",
       "    </tr>\n",
       "    <tr>\n",
       "      <th>95478</th>\n",
       "      <td>Kerala BJP candidate promises good beef supply...</td>\n",
       "      <td>BJP candidate for the upcoming by-election in ...</td>\n",
       "    </tr>\n",
       "    <tr>\n",
       "      <th>39338</th>\n",
       "      <td>No Twitter after yoga: Rhodes on replying to f...</td>\n",
       "      <td>After replying to a fake Sunil Chhetri Twitter...</td>\n",
       "    </tr>\n",
       "    <tr>\n",
       "      <th>44917</th>\n",
       "      <td>Sri Lanka win a T20I vs India for first time a...</td>\n",
       "      <td>Sri Lanka registered their first T20I victory ...</td>\n",
       "    </tr>\n",
       "    <tr>\n",
       "      <th>18298</th>\n",
       "      <td>Cook departs for 71 in 1st innings of his care...</td>\n",
       "      <td>Former England captain Alastair Cook got dismi...</td>\n",
       "    </tr>\n",
       "    <tr>\n",
       "      <th>51310</th>\n",
       "      <td>Taliban claims Afghanistan hotel attack that k...</td>\n",
       "      <td>The Taliban has claimed responsibility for the...</td>\n",
       "    </tr>\n",
       "    <tr>\n",
       "      <th>53876</th>\n",
       "      <td>Don't make a joke out of the country: Pak SC s...</td>\n",
       "      <td>Expressing dissatisfaction over the performanc...</td>\n",
       "    </tr>\n",
       "    <tr>\n",
       "      <th>10044</th>\n",
       "      <td>BJP obstructing name change of West Bengal to ...</td>\n",
       "      <td>Attacking the BJP-led Centre, West Bengal CM M...</td>\n",
       "    </tr>\n",
       "    <tr>\n",
       "      <th>96194</th>\n",
       "      <td>Trump signs order to roll back Obama-era clima...</td>\n",
       "      <td>The US President Donald Trump on Tuesday signe...</td>\n",
       "    </tr>\n",
       "    <tr>\n",
       "      <th>69646</th>\n",
       "      <td>London-bound BA flight evacuated over 'direct ...</td>\n",
       "      <td>A London-bound British Airways flight was evac...</td>\n",
       "    </tr>\n",
       "  </tbody>\n",
       "</table>\n",
       "</div>"
      ],
      "text/plain": [
       "                                               headlines  \\\n",
       "78646  Sunny's past has no bearing on how she'll be a...   \n",
       "95478  Kerala BJP candidate promises good beef supply...   \n",
       "39338  No Twitter after yoga: Rhodes on replying to f...   \n",
       "44917  Sri Lanka win a T20I vs India for first time a...   \n",
       "18298  Cook departs for 71 in 1st innings of his care...   \n",
       "51310  Taliban claims Afghanistan hotel attack that k...   \n",
       "53876  Don't make a joke out of the country: Pak SC s...   \n",
       "10044  BJP obstructing name change of West Bengal to ...   \n",
       "96194  Trump signs order to roll back Obama-era clima...   \n",
       "69646  London-bound BA flight evacuated over 'direct ...   \n",
       "\n",
       "                                                    text  \n",
       "78646  Actor Ram Kapoor has said that the career choi...  \n",
       "95478  BJP candidate for the upcoming by-election in ...  \n",
       "39338  After replying to a fake Sunil Chhetri Twitter...  \n",
       "44917  Sri Lanka registered their first T20I victory ...  \n",
       "18298  Former England captain Alastair Cook got dismi...  \n",
       "51310  The Taliban has claimed responsibility for the...  \n",
       "53876  Expressing dissatisfaction over the performanc...  \n",
       "10044  Attacking the BJP-led Centre, West Bengal CM M...  \n",
       "96194  The US President Donald Trump on Tuesday signe...  \n",
       "69646  A London-bound British Airways flight was evac...  "
      ]
     },
     "execution_count": 59,
     "metadata": {},
     "output_type": "execute_result"
    }
   ],
   "source": [
    "data.sample(10)"
   ]
  },
  {
   "cell_type": "markdown",
   "id": "younger-communication",
   "metadata": {},
   "source": [
    "# Step 2. 데이터 전처리하기(추상적 요약)"
   ]
  },
  {
   "cell_type": "markdown",
   "id": "partial-embassy",
   "metadata": {},
   "source": [
    "## 2-1. 데이터 정리하기"
   ]
  },
  {
   "cell_type": "code",
   "execution_count": 64,
   "id": "moderate-grammar",
   "metadata": {},
   "outputs": [
    {
     "name": "stdout",
     "output_type": "stream",
     "text": [
      "전체 샘플수 : 98401\n",
      "중복을 배제한 유일한 headlines 샘플의 수 : 98280\n",
      "중복을 배제한 유일한 text 샘플의 수 : 98360\n"
     ]
    }
   ],
   "source": [
    "#중복 샘플 유무 확인\n",
    "print('전체 샘플수 :', (len(data)))\n",
    "print('중복을 배제한 유일한 headlines 샘플의 수 :', data['headlines'].nunique())\n",
    "print('중복을 배제한 유일한 text 샘플의 수 :', data['text'].nunique())"
   ]
  },
  {
   "cell_type": "markdown",
   "id": "opponent-karen",
   "metadata": {},
   "source": [
    "* ### 중복데이터 처리   \n",
    "    \\- drop_duplicates : 중복 요소 삭제    \n",
    "\n",
    "    \\- subset : 중복데이터를 처리할 열 입력받음    \n",
    "\n",
    "    \\- inplace : 메서드가 적용되는 원본 데이터를 변경할지 여부 결정"
   ]
  },
  {
   "cell_type": "code",
   "execution_count": 66,
   "id": "choice-scanning",
   "metadata": {},
   "outputs": [
    {
     "name": "stdout",
     "output_type": "stream",
     "text": [
      "전체 샘플수 : 98360\n",
      "unique한 headline 수:  98262\n"
     ]
    }
   ],
   "source": [
    "# inplace=True 를 설정하면 DataFrame 타입 값을 return 하지 않고 data 내부를 직접적으로 바꾼다.\n",
    "data.drop_duplicates(subset = ['text'], inplace=True)\n",
    "print('전체 샘플수 :', (len(data)))\n",
    "print('unique한 headline 수: ', data['headlines'].nunique())"
   ]
  },
  {
   "cell_type": "markdown",
   "id": "cosmetic-apache",
   "metadata": {},
   "source": [
    "* ### null값 확인!! - 없는 것을 확인 할 수 있음"
   ]
  },
  {
   "cell_type": "code",
   "execution_count": 67,
   "id": "square-constraint",
   "metadata": {},
   "outputs": [
    {
     "name": "stdout",
     "output_type": "stream",
     "text": [
      "headlines    0\n",
      "text         0\n",
      "dtype: int64\n"
     ]
    }
   ],
   "source": [
    "print(data.isnull().sum())"
   ]
  },
  {
   "cell_type": "markdown",
   "id": "regulation-basin",
   "metadata": {},
   "source": [
    "* ### 텍스트 정규화와 불용어 제거하기  "
   ]
  },
  {
   "cell_type": "markdown",
   "id": "communist-devon",
   "metadata": {},
   "source": [
    "\\- 텍스트 정규화 : 예를들어 mustn't과 must not은 같은 표현이므로 이런 경우들을 기계학습 전에 미리 같은표현으로 통일시켜주기  \n",
    "(기계의 연산량을 줄이기위해!!)"
   ]
  },
  {
   "cell_type": "markdown",
   "id": "false-monroe",
   "metadata": {},
   "source": [
    "[정규화 사전 출처](https://stackoverflow.com/questions/19790188/expanding-english-language-contractions-in-python)"
   ]
  },
  {
   "cell_type": "code",
   "execution_count": 68,
   "id": "wrong-supply",
   "metadata": {},
   "outputs": [
    {
     "name": "stdout",
     "output_type": "stream",
     "text": [
      "정규화 사전의 수:  120\n"
     ]
    }
   ],
   "source": [
    "contractions = {\"ain't\": \"is not\", \"aren't\": \"are not\",\"can't\": \"cannot\", \"'cause\": \"because\", \"could've\": \"could have\", \"couldn't\": \"could not\",\n",
    "                           \"didn't\": \"did not\",  \"doesn't\": \"does not\", \"don't\": \"do not\", \"hadn't\": \"had not\", \"hasn't\": \"has not\", \"haven't\": \"have not\",\n",
    "                           \"he'd\": \"he would\",\"he'll\": \"he will\", \"he's\": \"he is\", \"how'd\": \"how did\", \"how'd'y\": \"how do you\", \"how'll\": \"how will\", \"how's\": \"how is\",\n",
    "                           \"I'd\": \"I would\", \"I'd've\": \"I would have\", \"I'll\": \"I will\", \"I'll've\": \"I will have\",\"I'm\": \"I am\", \"I've\": \"I have\", \"i'd\": \"i would\",\n",
    "                           \"i'd've\": \"i would have\", \"i'll\": \"i will\",  \"i'll've\": \"i will have\",\"i'm\": \"i am\", \"i've\": \"i have\", \"isn't\": \"is not\", \"it'd\": \"it would\",\n",
    "                           \"it'd've\": \"it would have\", \"it'll\": \"it will\", \"it'll've\": \"it will have\",\"it's\": \"it is\", \"let's\": \"let us\", \"ma'am\": \"madam\",\n",
    "                           \"mayn't\": \"may not\", \"might've\": \"might have\",\"mightn't\": \"might not\",\"mightn't've\": \"might not have\", \"must've\": \"must have\",\n",
    "                           \"mustn't\": \"must not\", \"mustn't've\": \"must not have\", \"needn't\": \"need not\", \"needn't've\": \"need not have\",\"o'clock\": \"of the clock\",\n",
    "                           \"oughtn't\": \"ought not\", \"oughtn't've\": \"ought not have\", \"shan't\": \"shall not\", \"sha'n't\": \"shall not\", \"shan't've\": \"shall not have\",\n",
    "                           \"she'd\": \"she would\", \"she'd've\": \"she would have\", \"she'll\": \"she will\", \"she'll've\": \"she will have\", \"she's\": \"she is\",\n",
    "                           \"should've\": \"should have\", \"shouldn't\": \"should not\", \"shouldn't've\": \"should not have\", \"so've\": \"so have\",\"so's\": \"so as\",\n",
    "                           \"this's\": \"this is\",\"that'd\": \"that would\", \"that'd've\": \"that would have\", \"that's\": \"that is\", \"there'd\": \"there would\",\n",
    "                           \"there'd've\": \"there would have\", \"there's\": \"there is\", \"here's\": \"here is\",\"they'd\": \"they would\", \"they'd've\": \"they would have\",\n",
    "                           \"they'll\": \"they will\", \"they'll've\": \"they will have\", \"they're\": \"they are\", \"they've\": \"they have\", \"to've\": \"to have\",\n",
    "                           \"wasn't\": \"was not\", \"we'd\": \"we would\", \"we'd've\": \"we would have\", \"we'll\": \"we will\", \"we'll've\": \"we will have\", \"we're\": \"we are\",\n",
    "                           \"we've\": \"we have\", \"weren't\": \"were not\", \"what'll\": \"what will\", \"what'll've\": \"what will have\", \"what're\": \"what are\",\n",
    "                           \"what's\": \"what is\", \"what've\": \"what have\", \"when's\": \"when is\", \"when've\": \"when have\", \"where'd\": \"where did\", \"where's\": \"where is\",\n",
    "                           \"where've\": \"where have\", \"who'll\": \"who will\", \"who'll've\": \"who will have\", \"who's\": \"who is\", \"who've\": \"who have\",\n",
    "                           \"why's\": \"why is\", \"why've\": \"why have\", \"will've\": \"will have\", \"won't\": \"will not\", \"won't've\": \"will not have\",\n",
    "                           \"would've\": \"would have\", \"wouldn't\": \"would not\", \"wouldn't've\": \"would not have\", \"y'all\": \"you all\",\n",
    "                           \"y'all'd\": \"you all would\",\"y'all'd've\": \"you all would have\",\"y'all're\": \"you all are\",\"y'all've\": \"you all have\",\n",
    "                           \"you'd\": \"you would\", \"you'd've\": \"you would have\", \"you'll\": \"you will\", \"you'll've\": \"you will have\",\n",
    "                           \"you're\": \"you are\", \"you've\": \"you have\"}\n",
    "\n",
    "print(\"정규화 사전의 수: \", len(contractions))"
   ]
  },
  {
   "cell_type": "markdown",
   "id": "stock-competition",
   "metadata": {},
   "source": [
    "* 불용어(stopwords) 제거   \n",
    "\n",
    "\\- 일반적인 텍스트에는 자주 등장하지만 자연어 처리를 할 때는 실질적으로 도움이 되지 않는 단어를 불용어라고 함"
   ]
  },
  {
   "cell_type": "code",
   "execution_count": 69,
   "id": "union-voluntary",
   "metadata": {},
   "outputs": [
    {
     "name": "stdout",
     "output_type": "stream",
     "text": [
      "불용어 개수 : 179\n",
      "['i', 'me', 'my', 'myself', 'we', 'our', 'ours', 'ourselves', 'you', \"you're\", \"you've\", \"you'll\", \"you'd\", 'your', 'yours', 'yourself', 'yourselves', 'he', 'him', 'his', 'himself', 'she', \"she's\", 'her', 'hers', 'herself', 'it', \"it's\", 'its', 'itself', 'they', 'them', 'their', 'theirs', 'themselves', 'what', 'which', 'who', 'whom', 'this', 'that', \"that'll\", 'these', 'those', 'am', 'is', 'are', 'was', 'were', 'be', 'been', 'being', 'have', 'has', 'had', 'having', 'do', 'does', 'did', 'doing', 'a', 'an', 'the', 'and', 'but', 'if', 'or', 'because', 'as', 'until', 'while', 'of', 'at', 'by', 'for', 'with', 'about', 'against', 'between', 'into', 'through', 'during', 'before', 'after', 'above', 'below', 'to', 'from', 'up', 'down', 'in', 'out', 'on', 'off', 'over', 'under', 'again', 'further', 'then', 'once', 'here', 'there', 'when', 'where', 'why', 'how', 'all', 'any', 'both', 'each', 'few', 'more', 'most', 'other', 'some', 'such', 'no', 'nor', 'not', 'only', 'own', 'same', 'so', 'than', 'too', 'very', 's', 't', 'can', 'will', 'just', 'don', \"don't\", 'should', \"should've\", 'now', 'd', 'll', 'm', 'o', 're', 've', 'y', 'ain', 'aren', \"aren't\", 'couldn', \"couldn't\", 'didn', \"didn't\", 'doesn', \"doesn't\", 'hadn', \"hadn't\", 'hasn', \"hasn't\", 'haven', \"haven't\", 'isn', \"isn't\", 'ma', 'mightn', \"mightn't\", 'mustn', \"mustn't\", 'needn', \"needn't\", 'shan', \"shan't\", 'shouldn', \"shouldn't\", 'wasn', \"wasn't\", 'weren', \"weren't\", 'won', \"won't\", 'wouldn', \"wouldn't\"]\n"
     ]
    }
   ],
   "source": [
    "print('불용어 개수 :', len(stopwords.words('english') ))\n",
    "print(stopwords.words('english'))"
   ]
  },
  {
   "cell_type": "code",
   "execution_count": 70,
   "id": "verbal-weekend",
   "metadata": {},
   "outputs": [],
   "source": [
    "# 데이터 전처리 함수\n",
    "def preprocess_sentence(sentence, remove_stopwords=True):\n",
    "    sentence = sentence.lower() # 텍스트 소문자화\n",
    "    sentence = BeautifulSoup(sentence, \"lxml\").text # <br />, <a href = ...> 등의 html 태그 제거\n",
    "    sentence = re.sub(r'\\([^)]*\\)', '', sentence) # 괄호로 닫힌 문자열 (...) 제거 Ex) my husband (and myself!) for => my husband for\n",
    "    sentence = re.sub('\"','', sentence) # 쌍따옴표 \" 제거\n",
    "    sentence = ' '.join([contractions[t] if t in contractions else t for t in sentence.split(\" \")]) # 약어 정규화\n",
    "    sentence = re.sub(r\"'s\\b\",\"\", sentence) # 소유격 제거. Ex) roland's -> roland\n",
    "    sentence = re.sub(\"[^a-zA-Z]\", \" \", sentence) # 영어 외 문자(숫자, 특수문자 등) 공백으로 변환\n",
    "    sentence = re.sub('[m]{2,}', 'mm', sentence) # m이 3개 이상이면 2개로 변경. Ex) ummmmmmm yeah -> umm yeah\n",
    "    \n",
    "    # text 전처리 시에만 호출하고 상대적을 문장길이가 짧은 summary전처리 할 때는 호출하지 않음\n",
    "    # abstractive한 문장 요약 결과문이 자연스러운 문장이 되려면 불용어들이 summary에는 남아 있는 것이 더 좋을 것 같아서\n",
    "    # 불용어 제거 (Text)\n",
    "    if remove_stopwords:\n",
    "        tokens = ' '.join(word for word in sentence.split() if not word in stopwords.words('english') if len(word) > 1)\n",
    "    # 불용어 미제거 (Summary)\n",
    "    else:\n",
    "        tokens = ' '.join(word for word in sentence.split() if len(word) > 1)\n",
    "    return tokens"
   ]
  },
  {
   "cell_type": "code",
   "execution_count": 71,
   "id": "strong-image",
   "metadata": {},
   "outputs": [
    {
     "data": {
      "text/plain": [
       "['saurav kant alumnus upgrad iiit pg program machine learning artificial intelligence sr systems engineer infosys almost years work experience program upgrad degree career support helped transition data scientist tech mahindra salary hike upgrad online power learning powered lakh careers',\n",
       " 'kunal shah credit card bill payment platform cred gave users chance win free food swiggy one year pranav kaushik delhi techie bagged reward spending cred coins users get one cred coin per rupee bill paid used avail rewards brands like ixigo bookmyshow ubereats cult fit',\n",
       " 'new zealand defeated india wickets fourth odi hamilton thursday win first match five match odi series india lost international match rohit sharma captaincy consecutive victories dating back march match witnessed india getting seventh lowest total odi cricket history',\n",
       " 'aegon life iterm insurance plan customers enjoy tax benefits premiums paid save taxes plan provides life cover age years also customers options insure critical illnesses disability accidental death benefit rider life cover age years',\n",
       " 'speaking sexual harassment allegations rajkumar hirani sonam kapoor said known hirani many years true metoo movement get derailed metoo movement always believe woman case need reserve judgment added hirani accused assistant worked sanju']"
      ]
     },
     "execution_count": 71,
     "metadata": {},
     "output_type": "execute_result"
    }
   ],
   "source": [
    "clean_text = []\n",
    "\n",
    "# 전체 Text 데이터에 대한 전처리  \n",
    "for s in data['text']:\n",
    "    clean_text.append(preprocess_sentence(s))\n",
    "\n",
    "# 전처리 후 출력\n",
    "clean_text[:5]"
   ]
  },
  {
   "cell_type": "code",
   "execution_count": 72,
   "id": "confirmed-kenya",
   "metadata": {},
   "outputs": [
    {
     "data": {
      "text/plain": [
       "['upgrad learner switches to career in ml al with salary hike',\n",
       " 'delhi techie wins free food from swiggy for one year on cred',\n",
       " 'new zealand end rohit sharma led india match winning streak',\n",
       " 'aegon life iterm insurance plan helps customers save tax',\n",
       " 'have known hirani for yrs what if metoo claims are not true sonam']"
      ]
     },
     "execution_count": 72,
     "metadata": {},
     "output_type": "execute_result"
    }
   ],
   "source": [
    "clean_summary = []\n",
    "\n",
    "# 전체 Summary 데이터에 대한 전처리 \n",
    "for s in data['headlines']:\n",
    "    clean_summary.append(preprocess_sentence(s, False))\n",
    "\n",
    "clean_summary[:5]"
   ]
  },
  {
   "cell_type": "code",
   "execution_count": 73,
   "id": "chicken-superintendent",
   "metadata": {},
   "outputs": [],
   "source": [
    "# 쉽게 확인하기 위해서 데이터들을 데이터프레임에 재 저장하기\n",
    "data['Text'] = clean_text\n",
    "data['Summary'] = clean_summary\n",
    "\n",
    "# 빈 값을 Null 값으로 변환\n",
    "data.replace('', np.nan, inplace=True)"
   ]
  },
  {
   "cell_type": "code",
   "execution_count": 74,
   "id": "introductory-marriage",
   "metadata": {},
   "outputs": [
    {
     "data": {
      "text/plain": [
       "headlines    0\n",
       "text         0\n",
       "Text         0\n",
       "Summary      0\n",
       "dtype: int64"
      ]
     },
     "execution_count": 74,
     "metadata": {},
     "output_type": "execute_result"
    }
   ],
   "source": [
    "# isnull().sum()을 사용해서 null값이 생겼는지 확인\n",
    "data.isnull().sum()"
   ]
  },
  {
   "cell_type": "code",
   "execution_count": 75,
   "id": "automotive-paragraph",
   "metadata": {},
   "outputs": [
    {
     "name": "stdout",
     "output_type": "stream",
     "text": [
      "전체 샘플수 : 98360\n"
     ]
    }
   ],
   "source": [
    "data.dropna(axis=0, inplace=True)\n",
    "print('전체 샘플수 :',(len(data)))#데이터 전처리 함수"
   ]
  },
  {
   "cell_type": "markdown",
   "id": "rocky-george",
   "metadata": {},
   "source": [
    "### 데이터의 최대길이 정하는 단계\n",
    "\\- Text와 headlines의 최소, 최대, 평균 길이를 구하고 또한 길이 분포를 시각화해서 보기"
   ]
  },
  {
   "cell_type": "code",
   "execution_count": 76,
   "id": "parallel-switzerland",
   "metadata": {},
   "outputs": [
    {
     "name": "stdout",
     "output_type": "stream",
     "text": [
      "텍스트의 최소 길이 : 1\n",
      "텍스트의 최대 길이 : 91\n",
      "텍스트의 평균 길이 : 58.23813542090281\n",
      "헤드라인의 최소 길이 : 1\n",
      "헤드라인의 최대 길이 : 18\n",
      "헤드라인의 평균 길이 : 9.553660024400163\n"
     ]
    },
    {
     "data": {
      "image/png": "[encoded data removed]",
      "text/plain": [
       "<Figure size 432x288 with 2 Axes>"
      ]
     },
     "metadata": {
      "needs_background": "light"
     },
     "output_type": "display_data"
    },
    {
     "data": {
      "image/png": "[encoded data removed]",
      "text/plain": [
       "<Figure size 432x288 with 1 Axes>"
      ]
     },
     "metadata": {
      "needs_background": "light"
     },
     "output_type": "display_data"
    },
    {
     "data": {
      "image/png": "[encoded data removed]",
      "text/plain": [
       "<Figure size 432x288 with 1 Axes>"
      ]
     },
     "metadata": {
      "needs_background": "light"
     },
     "output_type": "display_data"
    }
   ],
   "source": [
    "import matplotlib.pyplot as plt\n",
    "\n",
    "text_len = [len(s.split()) for s in data['text']]\n",
    "headline_len = [len(s.split()) for s in data['headlines']]\n",
    "\n",
    "print('텍스트의 최소 길이 : {}'.format(np.min(text_len)))\n",
    "print('텍스트의 최대 길이 : {}'.format(np.max(text_len)))\n",
    "print('텍스트의 평균 길이 : {}'.format(np.mean(text_len)))\n",
    "print('헤드라인의 최소 길이 : {}'.format(np.min(headline_len)))\n",
    "print('헤드라인의 최대 길이 : {}'.format(np.max(headline_len)))\n",
    "print('헤드라인의 평균 길이 : {}'.format(np.mean(headline_len)))\n",
    "\n",
    "plt.subplot(1, 2, 1)\n",
    "plt.boxplot(text_len)\n",
    "plt.title('text')\n",
    "plt.subplot(1, 2, 2)\n",
    "plt.boxplot(headline_len)\n",
    "plt.title('headlines')\n",
    "plt.tight_layout()\n",
    "plt.show()\n",
    "\n",
    "plt.title('text')\n",
    "plt.hist(text_len, bins = 40)\n",
    "plt.xlabel('length of samples')\n",
    "plt.ylabel('number of samples')\n",
    "plt.show()\n",
    "\n",
    "plt.title('headlines')\n",
    "plt.hist(headline_len, bins = 40)\n",
    "plt.xlabel('length of samples')\n",
    "plt.ylabel('number of samples')\n",
    "plt.show()"
   ]
  },
  {
   "cell_type": "markdown",
   "id": "commercial-motel",
   "metadata": {},
   "source": [
    "text 그래프를 보면 대략적으로 45~60사이의 데이터가 많음 - 65이하로 잘라주기     \n",
    "\n",
    "headlines 그래프는 대략 13으로 잘라주면 될 것 같음"
   ]
  },
  {
   "cell_type": "code",
   "execution_count": 77,
   "id": "neural-intellectual",
   "metadata": {},
   "outputs": [],
   "source": [
    "text_max_len = 62\n",
    "headline_max_len = 13"
   ]
  },
  {
   "cell_type": "code",
   "execution_count": 78,
   "id": "about-eagle",
   "metadata": {},
   "outputs": [],
   "source": [
    "# max_len을 합리적으로 해줬는지 확인해보기\n",
    "def below_threshold_len(max_len, nested_list):\n",
    "    cnt = 0\n",
    "    for s in nested_list:\n",
    "        if(len(s.split()) <= max_len):\n",
    "            cnt = cnt+1\n",
    "    print('전체 샘플 중 길이가 %s 이하인 샘플의 비율: %s'%(max_len, (cnt/len(nested_list))))"
   ]
  },
  {
   "cell_type": "code",
   "execution_count": 79,
   "id": "resident-pastor",
   "metadata": {},
   "outputs": [
    {
     "name": "stdout",
     "output_type": "stream",
     "text": [
      "전체 샘플 중 길이가 62 이하인 샘플의 비율: 0.9997153314355429\n",
      "전체 샘플 중 길이가 13 이하인 샘플의 비율: 0.9957706384709232\n"
     ]
    }
   ],
   "source": [
    "below_threshold_len(text_max_len, data['text'])\n",
    "below_threshold_len(headline_max_len, data['headlines'])"
   ]
  },
  {
   "cell_type": "code",
   "execution_count": 80,
   "id": "pharmaceutical-visibility",
   "metadata": {},
   "outputs": [
    {
     "name": "stdout",
     "output_type": "stream",
     "text": [
      "전체 샘플 수: 97916\n"
     ]
    }
   ],
   "source": [
    "data = data[data['text'].apply(lambda x: len(x.split()) <= text_max_len)]\n",
    "data = data[data['headlines'].apply(lambda x: len(x.split()) <= headline_max_len)]\n",
    "print('전체 샘플 수:', len(data))"
   ]
  },
  {
   "cell_type": "markdown",
   "id": "spanish-trial",
   "metadata": {},
   "source": [
    "### 시작 토큰과 종료 토큰 추가하기    \n",
    "시작 토큰은 sostoken, 종료 토큰은 eostoken이라 임의로 명명하고 앞, 뒤로 추가"
   ]
  },
  {
   "cell_type": "code",
   "execution_count": 81,
   "id": "cheap-plain",
   "metadata": {},
   "outputs": [
    {
     "data": {
      "text/html": [
       "<div>\n",
       "<style scoped>\n",
       "    .dataframe tbody tr th:only-of-type {\n",
       "        vertical-align: middle;\n",
       "    }\n",
       "\n",
       "    .dataframe tbody tr th {\n",
       "        vertical-align: top;\n",
       "    }\n",
       "\n",
       "    .dataframe thead th {\n",
       "        text-align: right;\n",
       "    }\n",
       "</style>\n",
       "<table border=\"1\" class=\"dataframe\">\n",
       "  <thead>\n",
       "    <tr style=\"text-align: right;\">\n",
       "      <th></th>\n",
       "      <th>headlines</th>\n",
       "      <th>text</th>\n",
       "      <th>Text</th>\n",
       "      <th>Summary</th>\n",
       "      <th>decoder_input</th>\n",
       "      <th>decoder_target</th>\n",
       "    </tr>\n",
       "  </thead>\n",
       "  <tbody>\n",
       "    <tr>\n",
       "      <th>0</th>\n",
       "      <td>upGrad learner switches to career in ML &amp; Al w...</td>\n",
       "      <td>Saurav Kant, an alumnus of upGrad and IIIT-B's...</td>\n",
       "      <td>saurav kant alumnus upgrad iiit pg program mac...</td>\n",
       "      <td>upgrad learner switches to career in ml al wit...</td>\n",
       "      <td>sostoken upGrad learner switches to career in ...</td>\n",
       "      <td>upGrad learner switches to career in ML &amp; Al w...</td>\n",
       "    </tr>\n",
       "    <tr>\n",
       "      <th>1</th>\n",
       "      <td>Delhi techie wins free food from Swiggy for on...</td>\n",
       "      <td>Kunal Shah's credit card bill payment platform...</td>\n",
       "      <td>kunal shah credit card bill payment platform c...</td>\n",
       "      <td>delhi techie wins free food from swiggy for on...</td>\n",
       "      <td>sostoken Delhi techie wins free food from Swig...</td>\n",
       "      <td>Delhi techie wins free food from Swiggy for on...</td>\n",
       "    </tr>\n",
       "    <tr>\n",
       "      <th>2</th>\n",
       "      <td>New Zealand end Rohit Sharma-led India's 12-ma...</td>\n",
       "      <td>New Zealand defeated India by 8 wickets in the...</td>\n",
       "      <td>new zealand defeated india wickets fourth odi ...</td>\n",
       "      <td>new zealand end rohit sharma led india match w...</td>\n",
       "      <td>sostoken New Zealand end Rohit Sharma-led Indi...</td>\n",
       "      <td>New Zealand end Rohit Sharma-led India's 12-ma...</td>\n",
       "    </tr>\n",
       "    <tr>\n",
       "      <th>3</th>\n",
       "      <td>Aegon life iTerm insurance plan helps customer...</td>\n",
       "      <td>With Aegon Life iTerm Insurance plan, customer...</td>\n",
       "      <td>aegon life iterm insurance plan customers enjo...</td>\n",
       "      <td>aegon life iterm insurance plan helps customer...</td>\n",
       "      <td>sostoken Aegon life iTerm insurance plan helps...</td>\n",
       "      <td>Aegon life iTerm insurance plan helps customer...</td>\n",
       "    </tr>\n",
       "    <tr>\n",
       "      <th>4</th>\n",
       "      <td>Have known Hirani for yrs, what if MeToo claim...</td>\n",
       "      <td>Speaking about the sexual harassment allegatio...</td>\n",
       "      <td>speaking sexual harassment allegations rajkuma...</td>\n",
       "      <td>have known hirani for yrs what if metoo claims...</td>\n",
       "      <td>sostoken Have known Hirani for yrs, what if Me...</td>\n",
       "      <td>Have known Hirani for yrs, what if MeToo claim...</td>\n",
       "    </tr>\n",
       "  </tbody>\n",
       "</table>\n",
       "</div>"
      ],
      "text/plain": [
       "                                           headlines  \\\n",
       "0  upGrad learner switches to career in ML & Al w...   \n",
       "1  Delhi techie wins free food from Swiggy for on...   \n",
       "2  New Zealand end Rohit Sharma-led India's 12-ma...   \n",
       "3  Aegon life iTerm insurance plan helps customer...   \n",
       "4  Have known Hirani for yrs, what if MeToo claim...   \n",
       "\n",
       "                                                text  \\\n",
       "0  Saurav Kant, an alumnus of upGrad and IIIT-B's...   \n",
       "1  Kunal Shah's credit card bill payment platform...   \n",
       "2  New Zealand defeated India by 8 wickets in the...   \n",
       "3  With Aegon Life iTerm Insurance plan, customer...   \n",
       "4  Speaking about the sexual harassment allegatio...   \n",
       "\n",
       "                                                Text  \\\n",
       "0  saurav kant alumnus upgrad iiit pg program mac...   \n",
       "1  kunal shah credit card bill payment platform c...   \n",
       "2  new zealand defeated india wickets fourth odi ...   \n",
       "3  aegon life iterm insurance plan customers enjo...   \n",
       "4  speaking sexual harassment allegations rajkuma...   \n",
       "\n",
       "                                             Summary  \\\n",
       "0  upgrad learner switches to career in ml al wit...   \n",
       "1  delhi techie wins free food from swiggy for on...   \n",
       "2  new zealand end rohit sharma led india match w...   \n",
       "3  aegon life iterm insurance plan helps customer...   \n",
       "4  have known hirani for yrs what if metoo claims...   \n",
       "\n",
       "                                       decoder_input  \\\n",
       "0  sostoken upGrad learner switches to career in ...   \n",
       "1  sostoken Delhi techie wins free food from Swig...   \n",
       "2  sostoken New Zealand end Rohit Sharma-led Indi...   \n",
       "3  sostoken Aegon life iTerm insurance plan helps...   \n",
       "4  sostoken Have known Hirani for yrs, what if Me...   \n",
       "\n",
       "                                      decoder_target  \n",
       "0  upGrad learner switches to career in ML & Al w...  \n",
       "1  Delhi techie wins free food from Swiggy for on...  \n",
       "2  New Zealand end Rohit Sharma-led India's 12-ma...  \n",
       "3  Aegon life iTerm insurance plan helps customer...  \n",
       "4  Have known Hirani for yrs, what if MeToo claim...  "
      ]
     },
     "execution_count": 81,
     "metadata": {},
     "output_type": "execute_result"
    }
   ],
   "source": [
    "data['decoder_input']=data['headlines'].apply(lambda x:'sostoken '+x)\n",
    "data['decoder_target']=data['headlines'].apply(lambda x:x+' eostoken')\n",
    "data.head()"
   ]
  },
  {
   "cell_type": "code",
   "execution_count": 82,
   "id": "affected-croatia",
   "metadata": {},
   "outputs": [],
   "source": [
    "# 인코더의 입력, 디코더의 입력과 레이블을 각각 다시 Numpy 타입으로 저장\n",
    "encoder_input = np.array(data['Text']) # 인코더의 입력\n",
    "decoder_input = np.array(data['decoder_input']) # 디코더의 입력\n",
    "decoder_target = np.array(data['decoder_target']) # 디코더의 레이블"
   ]
  },
  {
   "cell_type": "code",
   "execution_count": 83,
   "id": "patient-american",
   "metadata": {},
   "outputs": [
    {
     "name": "stdout",
     "output_type": "stream",
     "text": [
      "[17020 68874 17989 ... 33196 75786 20555]\n"
     ]
    }
   ],
   "source": [
    "# 훈련데이터와 테스트 데이터 분리\n",
    "# encoder_input과 크기와 형태가 같은 순서가 섞인 정수 시퀀스를 만들기\n",
    "indices = np.arange(encoder_input.shape[0])\n",
    "np.random.shuffle(indices)\n",
    "print(indices)"
   ]
  },
  {
   "cell_type": "code",
   "execution_count": 84,
   "id": "contemporary-trading",
   "metadata": {},
   "outputs": [],
   "source": [
    "# 이 정수 시퀀스를 이용해 다시 데이터의 샘플 순서를 정의해 주기\n",
    "encoder_input = encoder_input[indices]\n",
    "decoder_input = decoder_input[indices]\n",
    "decoder_target = decoder_target[indices]"
   ]
  },
  {
   "cell_type": "markdown",
   "id": "sublime-lexington",
   "metadata": {},
   "source": [
    "### 전체 데이터 훈련, 테스트 데이터로 나누기"
   ]
  },
  {
   "cell_type": "code",
   "execution_count": 85,
   "id": "quick-operation",
   "metadata": {},
   "outputs": [
    {
     "name": "stdout",
     "output_type": "stream",
     "text": [
      "테스트 데이터의 수 : 19583\n"
     ]
    }
   ],
   "source": [
    "# 이제 섞인 데이터를 8:2의 비율로 훈련 데이터와 테스트 데이터로 분리\n",
    "# 전체 데이터의 크기에서 0.2를 곱해서 테스트 데이터의 크기를 정의\n",
    "n_of_val = int(len(encoder_input)*0.2)\n",
    "print('테스트 데이터의 수 :', n_of_val)"
   ]
  },
  {
   "cell_type": "code",
   "execution_count": 86,
   "id": "greek-compound",
   "metadata": {},
   "outputs": [
    {
     "name": "stdout",
     "output_type": "stream",
     "text": [
      "훈련 데이터의 개수 : 78333\n",
      "훈련 레이블의 개수 : 78333\n",
      "테스트 데이터의 개수 : 19583\n",
      "테스트 레이블의 개수 : 19583\n"
     ]
    }
   ],
   "source": [
    "# 정의한 테스트 데이터의 개수를 이용해 전체 데이터를 양분하기\n",
    "# :표시의 위치에 주의\n",
    "encoder_input_train = encoder_input[:-n_of_val]\n",
    "decoder_input_train = decoder_input[:-n_of_val]\n",
    "decoder_target_train = decoder_target[:-n_of_val]\n",
    "\n",
    "encoder_input_test = encoder_input[-n_of_val:]\n",
    "decoder_input_test = decoder_input[-n_of_val:]\n",
    "decoder_target_test = decoder_target[-n_of_val:]\n",
    "\n",
    "print('훈련 데이터의 개수 :', len(encoder_input_train))\n",
    "print('훈련 레이블의 개수 :', len(decoder_input_train))\n",
    "print('테스트 데이터의 개수 :', len(encoder_input_test))\n",
    "print('테스트 레이블의 개수 :', len(decoder_input_test))"
   ]
  },
  {
   "cell_type": "markdown",
   "id": "functional-repair",
   "metadata": {},
   "source": [
    "### 단어 집합(vocabulary) 만들기 및 정수 인코딩 \n",
    "\\- 기계가 텍스트를 숫자로 처리할 수 있도록 훈련 데이터와 테스트 데이터의 단어들을 모두 정수로 바꾸어 주어야 함"
   ]
  },
  {
   "cell_type": "code",
   "execution_count": 87,
   "id": "premium-earth",
   "metadata": {},
   "outputs": [],
   "source": [
    "src_tokenizer = Tokenizer() # 토크나이저 정의\n",
    "src_tokenizer.fit_on_texts(encoder_input_train) # 입력된 데이터로부터 단어 집합 생성 "
   ]
  },
  {
   "cell_type": "code",
   "execution_count": 88,
   "id": "immune-election",
   "metadata": {},
   "outputs": [
    {
     "name": "stdout",
     "output_type": "stream",
     "text": [
      "단어 집합(vocabulary)의 크기 : 69480\n",
      "등장 빈도가 6번 이하인 희귀 단어의 수: 47392\n",
      "단어 집합에서 희귀 단어를 제외시킬 경우의 단어 집합의 크기 22088\n",
      "단어 집합에서 희귀 단어의 비율: 68.20955670696604\n",
      "전체 등장 빈도에서 희귀 단어 등장 빈도 비율: 3.499596986565249\n"
     ]
    }
   ],
   "source": [
    "threshold = 7\n",
    "total_cnt = len(src_tokenizer.word_index) # 단어의 수\n",
    "rare_cnt = 0 # 등장 빈도수가 threshold보다 작은 단어의 개수를 카운트\n",
    "total_freq = 0 # 훈련 데이터의 전체 단어 빈도수 총 합\n",
    "rare_freq = 0 # 등장 빈도수가 threshold보다 작은 단어의 등장 빈도수의 총 합\n",
    "\n",
    "# 단어와 빈도수의 쌍(pair)을 key와 value로 받는다.\n",
    "for key, value in src_tokenizer.word_counts.items():\n",
    "    total_freq = total_freq + value\n",
    "\n",
    "    # 단어의 등장 빈도수가 threshold보다 작으면\n",
    "    if(value < threshold):\n",
    "        rare_cnt = rare_cnt + 1\n",
    "        rare_freq = rare_freq + value\n",
    "\n",
    "print('단어 집합(vocabulary)의 크기 :', total_cnt)\n",
    "print('등장 빈도가 %s번 이하인 희귀 단어의 수: %s'%(threshold - 1, rare_cnt))\n",
    "print('단어 집합에서 희귀 단어를 제외시킬 경우의 단어 집합의 크기 %s'%(total_cnt - rare_cnt))\n",
    "print(\"단어 집합에서 희귀 단어의 비율:\", (rare_cnt / total_cnt)*100)\n",
    "print(\"전체 등장 빈도에서 희귀 단어 등장 빈도 비율:\", (rare_freq / total_freq)*100)"
   ]
  },
  {
   "cell_type": "code",
   "execution_count": 89,
   "id": "challenging-president",
   "metadata": {},
   "outputs": [],
   "source": [
    "src_vocab = 20000\n",
    "src_tokenizer = Tokenizer(num_words = src_vocab) # 단어 집합 크기에 제한을 둔다.\n",
    "src_tokenizer.fit_on_texts(encoder_input_train)"
   ]
  },
  {
   "cell_type": "code",
   "execution_count": 90,
   "id": "tight-passenger",
   "metadata": {},
   "outputs": [
    {
     "name": "stdout",
     "output_type": "stream",
     "text": [
      "[[274, 3088, 5430, 3904, 1, 130, 265, 2469, 694, 13, 1469, 13761, 13338, 17454, 694, 1012, 3904, 2783, 620, 2784, 203, 91, 1840, 152, 2563, 275, 44, 281, 3904, 1896, 13338, 694, 1012], [150, 237, 793, 5, 12182, 417, 890, 19440, 235, 12938, 5984, 3878, 10724, 150, 237, 1, 1235, 4117, 6456, 1283, 890, 124, 4876, 1007, 387, 150, 237, 1, 18381], [50, 1254, 144, 180, 566, 996, 82, 2933, 144, 1, 1072, 26, 265, 4244, 180, 2933, 1008, 558, 14, 6782, 1254, 1, 2933, 1447, 83, 105, 2769, 816, 22, 3808, 834, 11856]]\n",
      "훈련 데이터의 개수 : 78333\n",
      "훈련 레이블의 개수 : 78333\n"
     ]
    }
   ],
   "source": [
    "# 텍스트 시퀀스를 정수 시퀀스로 변환\n",
    "encoder_input_train = src_tokenizer.texts_to_sequences(encoder_input_train) \n",
    "encoder_input_test = src_tokenizer.texts_to_sequences(encoder_input_test)\n",
    "\n",
    "# 잘 진행되었는지 샘플 출력\n",
    "print(encoder_input_train[:3])\n",
    "print('훈련 데이터의 개수 :', len(encoder_input_train))\n",
    "print('훈련 레이블의 개수 :', len(decoder_input_train))"
   ]
  },
  {
   "cell_type": "markdown",
   "id": "concrete-stand",
   "metadata": {},
   "source": [
    "#### headlines 데이터 정수 시퀀스로 변환하기"
   ]
  },
  {
   "cell_type": "code",
   "execution_count": 91,
   "id": "level-complement",
   "metadata": {},
   "outputs": [
    {
     "name": "stdout",
     "output_type": "stream",
     "text": [
      "훈련 데이터의 개수 : 78333\n",
      "훈련 레이블의 개수 : 78333\n",
      "테스트 데이터의 개수 : 19583\n",
      "테스트 레이블의 개수 : 19583\n"
     ]
    }
   ],
   "source": [
    "tar_tokenizer = Tokenizer()\n",
    "tar_tokenizer.fit_on_texts(decoder_input_train) \n",
    "print('훈련 데이터의 개수 :', len(encoder_input_train))\n",
    "print('훈련 레이블의 개수 :', len(decoder_input_train))\n",
    "print('테스트 데이터의 개수 :', len(encoder_input_test))\n",
    "print('테스트 레이블의 개수 :', len(decoder_input_test))"
   ]
  },
  {
   "cell_type": "code",
   "execution_count": 93,
   "id": "economic-commissioner",
   "metadata": {},
   "outputs": [
    {
     "name": "stdout",
     "output_type": "stream",
     "text": [
      "단어 집합(vocabulary)의 크기 : 40683\n",
      "등장 빈도가 6번 이하인 희귀 단어의 수: 30421\n",
      "단어 집합에서 희귀 단어를 제외시킬 경우의 단어 집합의 크기 10262\n",
      "단어 집합에서 희귀 단어의 비율: 74.7757048398594\n",
      "전체 등장 빈도에서 희귀 단어 등장 빈도 비율: 6.906530462126489\n"
     ]
    }
   ],
   "source": [
    "threshold = 7\n",
    "total_cnt = len(tar_tokenizer.word_index) # 단어의 수\n",
    "rare_cnt = 0 # 등장 빈도수가 threshold보다 작은 단어의 개수를 카운트\n",
    "total_freq = 0 # 훈련 데이터의 전체 단어 빈도수 총 합\n",
    "rare_freq = 0 # 등장 빈도수가 threshold보다 작은 단어의 등장 빈도수의 총 합\n",
    "\n",
    "# 단어와 빈도수의 쌍(pair)을 key와 value로 받는다.\n",
    "for key, value in tar_tokenizer.word_counts.items():\n",
    "    total_freq = total_freq + value\n",
    "\n",
    "    # 단어의 등장 빈도수가 threshold보다 작으면\n",
    "    if(value < threshold):\n",
    "        rare_cnt = rare_cnt + 1\n",
    "        rare_freq = rare_freq + value\n",
    "\n",
    "print('단어 집합(vocabulary)의 크기 :', total_cnt)\n",
    "print('등장 빈도가 %s번 이하인 희귀 단어의 수: %s'%(threshold - 1, rare_cnt))\n",
    "print('단어 집합에서 희귀 단어를 제외시킬 경우의 단어 집합의 크기 %s'%(total_cnt - rare_cnt))\n",
    "print(\"단어 집합에서 희귀 단어의 비율:\", (rare_cnt / total_cnt)*100)\n",
    "print(\"전체 등장 빈도에서 희귀 단어 등장 빈도 비율:\", (rare_freq / total_freq)*100)"
   ]
  },
  {
   "cell_type": "code",
   "execution_count": 94,
   "id": "random-prague",
   "metadata": {},
   "outputs": [
    {
     "name": "stdout",
     "output_type": "stream",
     "text": [
      "input\n",
      "input  [[1, 2879, 3, 433, 4, 6, 18, 8152], [1, 14, 35, 73, 467, 534, 80, 422, 266, 132], [1, 1700, 20, 1138, 58, 3, 712, 55, 6, 4585, 745], [1, 2622, 1979, 4, 506, 84, 604, 130, 7, 1809, 41], [1, 841, 3, 263, 164, 3149, 6183, 306, 2767, 33, 126, 3, 2623]]\n",
      "target\n",
      "decoder  [[2879, 3, 433, 4, 6, 18, 8152, 2], [14, 35, 73, 467, 534, 80, 422, 266, 132, 2], [1700, 20, 1138, 58, 3, 712, 55, 6, 4585, 745, 2], [2622, 1979, 4, 506, 84, 604, 130, 7, 1809, 41, 2], [841, 3, 263, 164, 3149, 6183, 306, 2767, 33, 126, 3, 2623, 2]]\n"
     ]
    }
   ],
   "source": [
    "tar_vocab = 10000\n",
    "tar_tokenizer = Tokenizer(num_words = tar_vocab) \n",
    "tar_tokenizer.fit_on_texts(decoder_input_train)\n",
    "tar_tokenizer.fit_on_texts(decoder_target_train)\n",
    "\n",
    "# 텍스트 시퀀스를 정수 시퀀스로 변환\n",
    "decoder_input_train = tar_tokenizer.texts_to_sequences(decoder_input_train) \n",
    "decoder_target_train = tar_tokenizer.texts_to_sequences(decoder_target_train)\n",
    "decoder_input_test = tar_tokenizer.texts_to_sequences(decoder_input_test)\n",
    "decoder_target_test = tar_tokenizer.texts_to_sequences(decoder_target_test)\n",
    "\n",
    "#잘 변환되었는지 확인\n",
    "print('input')\n",
    "print('input ',decoder_input_train[:5])\n",
    "print('target')\n",
    "print('decoder ',decoder_target_train[:5])"
   ]
  },
  {
   "cell_type": "code",
   "execution_count": 95,
   "id": "clean-barrel",
   "metadata": {},
   "outputs": [
    {
     "name": "stdout",
     "output_type": "stream",
     "text": [
      "삭제할 훈련 데이터의 개수 : 0\n",
      "삭제할 테스트 데이터의 개수 : 1\n",
      "훈련 데이터의 개수 : 78333\n",
      "훈련 레이블의 개수 : 78333\n",
      "테스트 데이터의 개수 : 19582\n",
      "테스트 레이블의 개수 : 19582\n"
     ]
    }
   ],
   "source": [
    "drop_train = [index for index, sentence in enumerate(decoder_input_train) if len(sentence) == 1]\n",
    "drop_test = [index for index, sentence in enumerate(decoder_input_test) if len(sentence) == 1]\n",
    "\n",
    "print('삭제할 훈련 데이터의 개수 :',len(drop_train))\n",
    "print('삭제할 테스트 데이터의 개수 :',len(drop_test))\n",
    "\n",
    "encoder_input_train = np.delete(encoder_input_train, drop_train, axis=0)\n",
    "decoder_input_train = np.delete(decoder_input_train, drop_train, axis=0)\n",
    "decoder_target_train = np.delete(decoder_target_train, drop_train, axis=0)\n",
    "\n",
    "encoder_input_test = np.delete(encoder_input_test, drop_test, axis=0)\n",
    "decoder_input_test = np.delete(decoder_input_test, drop_test, axis=0)\n",
    "decoder_target_test = np.delete(decoder_target_test, drop_test, axis=0)\n",
    "\n",
    "print('훈련 데이터의 개수 :', len(encoder_input_train))\n",
    "print('훈련 레이블의 개수 :',len(decoder_input_train))\n",
    "print('테스트 데이터의 개수 :',len(encoder_input_test))\n",
    "print('테스트 레이블의 개수 :',len(decoder_input_test))"
   ]
  },
  {
   "cell_type": "markdown",
   "id": "atlantic-affect",
   "metadata": {},
   "source": [
    "### 패딩하기   \n",
    "\\- 정한 최대 길이 기준으로 패딩하기"
   ]
  },
  {
   "cell_type": "code",
   "execution_count": 96,
   "id": "legal-anthropology",
   "metadata": {},
   "outputs": [],
   "source": [
    "encoder_input_train = pad_sequences(encoder_input_train, maxlen=text_max_len, padding='post')\n",
    "encoder_input_test = pad_sequences(encoder_input_test, maxlen=text_max_len, padding='post')\n",
    "decoder_input_train = pad_sequences(decoder_input_train, maxlen=summary_max_len, padding='post')\n",
    "decoder_target_train = pad_sequences(decoder_target_train, maxlen=summary_max_len, padding='post')\n",
    "decoder_input_test = pad_sequences(decoder_input_test, maxlen=summary_max_len, padding='post')\n",
    "decoder_target_test = pad_sequences(decoder_target_test, maxlen=summary_max_len, padding='post')"
   ]
  },
  {
   "cell_type": "markdown",
   "id": "academic-morning",
   "metadata": {},
   "source": [
    "## 모델 설계하기"
   ]
  },
  {
   "cell_type": "code",
   "execution_count": 97,
   "id": "accurate-gibraltar",
   "metadata": {},
   "outputs": [
    {
     "name": "stdout",
     "output_type": "stream",
     "text": [
      "WARNING:tensorflow:Layer lstm_4 will not use cuDNN kernel since it doesn't meet the cuDNN kernel criteria. It will use generic GPU kernel as fallback when running on GPU\n",
      "WARNING:tensorflow:Layer lstm_5 will not use cuDNN kernel since it doesn't meet the cuDNN kernel criteria. It will use generic GPU kernel as fallback when running on GPU\n",
      "WARNING:tensorflow:Layer lstm_6 will not use cuDNN kernel since it doesn't meet the cuDNN kernel criteria. It will use generic GPU kernel as fallback when running on GPU\n"
     ]
    }
   ],
   "source": [
    "from tensorflow.keras.layers import Input, LSTM, Embedding, Dense, Concatenate\n",
    "from tensorflow.keras.models import Model\n",
    "from tensorflow.keras.callbacks import EarlyStopping, ModelCheckpoint\n",
    "\n",
    "\n",
    "# 인코더 설계 시작\n",
    "embedding_dim = 128\n",
    "hidden_size = 256\n",
    "\n",
    "# 인코더\n",
    "encoder_inputs = Input(shape=(text_max_len,))\n",
    "\n",
    "# 인코더의 임베딩 층\n",
    "enc_emb = Embedding(src_vocab, embedding_dim)(encoder_inputs)\n",
    "\n",
    "# 인코더의 LSTM 1\n",
    "encoder_lstm1 = LSTM(hidden_size, return_sequences=True, return_state=True ,dropout = 0.4, recurrent_dropout = 0.4)\n",
    "encoder_output1, state_h1, state_c1 = encoder_lstm1(enc_emb)\n",
    "\n",
    "# 인코더의 LSTM 2\n",
    "encoder_lstm2 = LSTM(hidden_size, return_sequences=True, return_state=True, dropout=0.4, recurrent_dropout=0.4)\n",
    "encoder_output2, state_h2, state_c2 = encoder_lstm2(encoder_output1)\n",
    "\n",
    "# 인코더의 LSTM 3\n",
    "encoder_lstm3 = LSTM(hidden_size, return_state=True, return_sequences=True, dropout=0.4, recurrent_dropout=0.4)\n",
    "encoder_outputs, state_h, state_c= encoder_lstm3(encoder_output2)"
   ]
  },
  {
   "cell_type": "code",
   "execution_count": 98,
   "id": "distributed-handbook",
   "metadata": {},
   "outputs": [
    {
     "name": "stdout",
     "output_type": "stream",
     "text": [
      "WARNING:tensorflow:Layer lstm_7 will not use cuDNN kernel since it doesn't meet the cuDNN kernel criteria. It will use generic GPU kernel as fallback when running on GPU\n"
     ]
    }
   ],
   "source": [
    "# 디코더 설계\n",
    "\n",
    "decoder_inputs = Input(shape=(None,))\n",
    "\n",
    "# 디코더의 임베딩 층\n",
    "dec_emb_layer = Embedding(tar_vocab, embedding_dim)\n",
    "dec_emb = dec_emb_layer(decoder_inputs)\n",
    "\n",
    "# 디코더의 LSTM\n",
    "decoder_lstm = LSTM(hidden_size, return_sequences = True, return_state = True, dropout = 0.4, recurrent_dropout=0.2)\n",
    "decoder_outputs, _, _ = decoder_lstm(dec_emb, initial_state = [state_h, state_c])"
   ]
  },
  {
   "cell_type": "markdown",
   "id": "faced-stage",
   "metadata": {},
   "source": [
    "# Step 3. 어텐션 메커니즘 사용하기(추상적 요약)"
   ]
  },
  {
   "cell_type": "code",
   "execution_count": 99,
   "id": "substantial-monitoring",
   "metadata": {},
   "outputs": [],
   "source": [
    "urllib.request.urlretrieve(\"https://raw.githubusercontent.com/thushv89/attention_keras/master/src/layers/attention.py\", filename=\"attention.py\")\n",
    "from attention import AttentionLayer"
   ]
  },
  {
   "cell_type": "code",
   "execution_count": 100,
   "id": "experimental-omaha",
   "metadata": {},
   "outputs": [
    {
     "name": "stdout",
     "output_type": "stream",
     "text": [
      "Model: \"model_4\"\n",
      "__________________________________________________________________________________________________\n",
      "Layer (type)                    Output Shape         Param #     Connected to                     \n",
      "==================================================================================================\n",
      "input_6 (InputLayer)            [(None, 62)]         0                                            \n",
      "__________________________________________________________________________________________________\n",
      "embedding_2 (Embedding)         (None, 62, 128)      2560000     input_6[0][0]                    \n",
      "__________________________________________________________________________________________________\n",
      "lstm_4 (LSTM)                   [(None, 62, 256), (N 394240      embedding_2[0][0]                \n",
      "__________________________________________________________________________________________________\n",
      "input_7 (InputLayer)            [(None, None)]       0                                            \n",
      "__________________________________________________________________________________________________\n",
      "lstm_5 (LSTM)                   [(None, 62, 256), (N 525312      lstm_4[0][0]                     \n",
      "__________________________________________________________________________________________________\n",
      "embedding_3 (Embedding)         (None, None, 128)    1280000     input_7[0][0]                    \n",
      "__________________________________________________________________________________________________\n",
      "lstm_6 (LSTM)                   [(None, 62, 256), (N 525312      lstm_5[0][0]                     \n",
      "__________________________________________________________________________________________________\n",
      "lstm_7 (LSTM)                   [(None, None, 256),  394240      embedding_3[0][0]                \n",
      "                                                                 lstm_6[0][1]                     \n",
      "                                                                 lstm_6[0][2]                     \n",
      "__________________________________________________________________________________________________\n",
      "attention_layer (AttentionLayer ((None, None, 256),  131328      lstm_6[0][0]                     \n",
      "                                                                 lstm_7[0][0]                     \n",
      "__________________________________________________________________________________________________\n",
      "concat_layer (Concatenate)      (None, None, 512)    0           lstm_7[0][0]                     \n",
      "                                                                 attention_layer[0][0]            \n",
      "__________________________________________________________________________________________________\n",
      "dense_2 (Dense)                 (None, None, 10000)  5130000     concat_layer[0][0]               \n",
      "==================================================================================================\n",
      "Total params: 10,940,432\n",
      "Trainable params: 10,940,432\n",
      "Non-trainable params: 0\n",
      "__________________________________________________________________________________________________\n"
     ]
    }
   ],
   "source": [
    "# 어텐션 층(어텐션 함수)\n",
    "attn_layer = AttentionLayer(name='attention_layer')\n",
    "# 인코더와 디코더의 모든 time step의 hidden state를 어텐션 층에 전달하고 결과를 리턴\n",
    "attn_out, attn_states = attn_layer([encoder_outputs, decoder_outputs])\n",
    "\n",
    "# 어텐션의 결과와 디코더의 hidden state들을 연결\n",
    "decoder_concat_input = Concatenate(axis = -1, name='concat_layer')([decoder_outputs, attn_out])\n",
    "\n",
    "# 디코더의 출력층\n",
    "decoder_softmax_layer = Dense(tar_vocab, activation='softmax')\n",
    "decoder_softmax_outputs = decoder_softmax_layer(decoder_concat_input)\n",
    "\n",
    "# 모델 정의\n",
    "model = Model([encoder_inputs, decoder_inputs], decoder_softmax_outputs)\n",
    "model.summary()"
   ]
  },
  {
   "cell_type": "code",
   "execution_count": 101,
   "id": "thrown-project",
   "metadata": {},
   "outputs": [
    {
     "name": "stdout",
     "output_type": "stream",
     "text": [
      "Epoch 1/50\n",
      "306/306 [==============================] - 249s 779ms/step - loss: 6.8884 - val_loss: 6.1954\n",
      "Epoch 2/50\n",
      "306/306 [==============================] - 247s 806ms/step - loss: 6.1226 - val_loss: 5.8550\n",
      "Epoch 3/50\n",
      "306/306 [==============================] - 250s 816ms/step - loss: 5.7365 - val_loss: 5.5203\n",
      "Epoch 4/50\n",
      "306/306 [==============================] - 248s 811ms/step - loss: 5.4045 - val_loss: 5.3087\n",
      "Epoch 5/50\n",
      "306/306 [==============================] - 249s 814ms/step - loss: 5.1571 - val_loss: 5.1346\n",
      "Epoch 6/50\n",
      "306/306 [==============================] - 248s 811ms/step - loss: 4.9418 - val_loss: 5.0056\n",
      "Epoch 7/50\n",
      "306/306 [==============================] - 251s 821ms/step - loss: 4.7566 - val_loss: 4.9008\n",
      "Epoch 8/50\n",
      "306/306 [==============================] - 251s 819ms/step - loss: 4.5959 - val_loss: 4.8167\n",
      "Epoch 9/50\n",
      "306/306 [==============================] - 252s 825ms/step - loss: 4.4571 - val_loss: 4.7445\n",
      "Epoch 10/50\n",
      "306/306 [==============================] - 253s 826ms/step - loss: 4.3354 - val_loss: 4.6917\n",
      "Epoch 11/50\n",
      "306/306 [==============================] - 253s 827ms/step - loss: 4.2252 - val_loss: 4.6532\n",
      "Epoch 12/50\n",
      "306/306 [==============================] - 254s 829ms/step - loss: 4.1216 - val_loss: 4.6062\n",
      "Epoch 13/50\n",
      "306/306 [==============================] - 253s 827ms/step - loss: 4.0379 - val_loss: 4.5703\n",
      "Epoch 14/50\n",
      "306/306 [==============================] - 254s 829ms/step - loss: 3.9421 - val_loss: 4.5434\n",
      "Epoch 15/50\n",
      "306/306 [==============================] - 254s 830ms/step - loss: 3.8557 - val_loss: 4.5207\n",
      "Epoch 16/50\n",
      "306/306 [==============================] - 255s 832ms/step - loss: 3.7831 - val_loss: 4.5140\n",
      "Epoch 17/50\n",
      "306/306 [==============================] - 255s 834ms/step - loss: 3.7240 - val_loss: 4.4961\n",
      "Epoch 18/50\n",
      "306/306 [==============================] - 254s 831ms/step - loss: 3.6742 - val_loss: 4.4834\n",
      "Epoch 19/50\n",
      "306/306 [==============================] - 253s 828ms/step - loss: 3.6037 - val_loss: 4.4727\n",
      "Epoch 20/50\n",
      "306/306 [==============================] - 252s 822ms/step - loss: 3.5515 - val_loss: 4.4633\n",
      "Epoch 21/50\n",
      "306/306 [==============================] - 253s 826ms/step - loss: 3.4960 - val_loss: 4.4637\n",
      "Epoch 22/50\n",
      "306/306 [==============================] - 252s 825ms/step - loss: 3.4493 - val_loss: 4.4581\n",
      "Epoch 23/50\n",
      "306/306 [==============================] - 255s 832ms/step - loss: 3.3961 - val_loss: 4.4471\n",
      "Epoch 24/50\n",
      "306/306 [==============================] - 253s 827ms/step - loss: 3.3477 - val_loss: 4.4539\n",
      "Epoch 25/50\n",
      "306/306 [==============================] - 254s 829ms/step - loss: 3.3085 - val_loss: 4.4489\n",
      "Epoch 00025: early stopping\n"
     ]
    }
   ],
   "source": [
    "model.compile(optimizer='rmsprop', loss='sparse_categorical_crossentropy')\n",
    "es = EarlyStopping(monitor='val_loss', mode='min', verbose=1, patience = 2)\n",
    "history = model.fit(x = [encoder_input_train, decoder_input_train], y = decoder_target_train, \\\n",
    "          validation_data = ([encoder_input_test, decoder_input_test], decoder_target_test),\n",
    "          batch_size = 256, callbacks=[es], epochs = 50)"
   ]
  },
  {
   "cell_type": "code",
   "execution_count": 102,
   "id": "vertical-shipping",
   "metadata": {},
   "outputs": [
    {
     "data": {
      "image/png": "[encoded data removed]",
      "text/plain": [
       "<Figure size 432x288 with 1 Axes>"
      ]
     },
     "metadata": {
      "needs_background": "light"
     },
     "output_type": "display_data"
    }
   ],
   "source": [
    "# 훈련데이터의 손실과 검증 데이터의 손실이 줄어드는 과정 시각화 하기\n",
    "plt.plot(history.history['loss'], label='train')\n",
    "plt.plot(history.history['val_loss'], label='test')\n",
    "plt.legend()\n",
    "plt.show()"
   ]
  },
  {
   "cell_type": "markdown",
   "id": "coral-copyright",
   "metadata": {},
   "source": [
    "# Step 4. 실제 결과와 요약문 비교하기(추상적 요약)"
   ]
  },
  {
   "cell_type": "markdown",
   "id": "latest-cyprus",
   "metadata": {},
   "source": [
    "### 인퍼런스 모델 구현하기"
   ]
  },
  {
   "cell_type": "code",
   "execution_count": 103,
   "id": "equivalent-sender",
   "metadata": {},
   "outputs": [],
   "source": [
    "src_index_to_word = src_tokenizer.index_word # 원문 단어 집합에서 정수 -> 단어를 얻음\n",
    "tar_word_to_index = tar_tokenizer.word_index # 요약 단어 집합에서 단어 -> 정수를 얻음\n",
    "tar_index_to_word = tar_tokenizer.index_word # 요약 단어 집합에서 정수 -> 단어를 얻음"
   ]
  },
  {
   "cell_type": "code",
   "execution_count": 104,
   "id": "buried-quebec",
   "metadata": {},
   "outputs": [],
   "source": [
    "# 인코더 설계\n",
    "encoder_model = Model(inputs=encoder_inputs, outputs=[encoder_outputs, state_h, state_c])\n",
    "\n",
    "# 이전 시점의 상태들을 저장하는 텐서\n",
    "decoder_state_input_h = Input(shape=(hidden_size,))\n",
    "decoder_state_input_c = Input(shape=(hidden_size,))\n",
    "\n",
    "dec_emb2 = dec_emb_layer(decoder_inputs)\n",
    "# 문장의 다음 단어를 예측하기 위해서 초기 상태(initial_state)를 이전 시점의 상태로 사용. 이는 뒤의 함수 decode_sequence()에 구현\n",
    "# 훈련 과정에서와 달리 LSTM의 리턴하는 은닉 상태와 셀 상태인 state_h와 state_c를 버리지 않음.\n",
    "decoder_outputs2, state_h2, state_c2 = decoder_lstm(dec_emb2, initial_state=[decoder_state_input_h, decoder_state_input_c])"
   ]
  },
  {
   "cell_type": "code",
   "execution_count": 105,
   "id": "handed-stewart",
   "metadata": {},
   "outputs": [],
   "source": [
    "# 어텐션 함수\n",
    "decoder_hidden_state_input = Input(shape=(text_max_len, hidden_size))\n",
    "attn_out_inf, attn_states_inf = attn_layer([decoder_hidden_state_input, decoder_outputs2])\n",
    "decoder_inf_concat = Concatenate(axis=-1, name='concat')([decoder_outputs2, attn_out_inf])\n",
    "\n",
    "# 디코더의 출력층\n",
    "decoder_outputs2 = decoder_softmax_layer(decoder_inf_concat) \n",
    "\n",
    "# 최종 디코더 모델\n",
    "decoder_model = Model(\n",
    "    [decoder_inputs] + [decoder_hidden_state_input,decoder_state_input_h, decoder_state_input_c],\n",
    "    [decoder_outputs2] + [state_h2, state_c2])"
   ]
  },
  {
   "cell_type": "code",
   "execution_count": 106,
   "id": "closed-columbia",
   "metadata": {},
   "outputs": [],
   "source": [
    "def decode_sequence(input_seq):\n",
    "    # 입력으로부터 인코더의 상태를 얻음\n",
    "    e_out, e_h, e_c = encoder_model.predict(input_seq)\n",
    "\n",
    "     # <SOS>에 해당하는 토큰 생성\n",
    "    target_seq = np.zeros((1,1))\n",
    "    target_seq[0, 0] = tar_word_to_index['sostoken']\n",
    "\n",
    "    stop_condition = False\n",
    "    decoded_sentence = ''\n",
    "    while not stop_condition: # stop_condition이 True가 될 때까지 루프 반복\n",
    "\n",
    "        output_tokens, h, c = decoder_model.predict([target_seq] + [e_out, e_h, e_c])\n",
    "        sampled_token_index = np.argmax(output_tokens[0, -1, :])\n",
    "        sampled_token = tar_index_to_word[sampled_token_index]\n",
    "\n",
    "        if(sampled_token!='eostoken'):\n",
    "            decoded_sentence += ' '+sampled_token\n",
    "\n",
    "        #  <eos>에 도달하거나 최대 길이를 넘으면 중단.\n",
    "        if (sampled_token == 'eostoken'  or len(decoded_sentence.split()) >= (headline_max_len-1)):\n",
    "            stop_condition = True\n",
    "\n",
    "        # 길이가 1인 타겟 시퀀스를 업데이트\n",
    "        target_seq = np.zeros((1,1))\n",
    "        target_seq[0, 0] = sampled_token_index\n",
    "\n",
    "        # 상태를 업데이트 합니다.\n",
    "        e_h, e_c = h, c\n",
    "\n",
    "    return decoded_sentence"
   ]
  },
  {
   "cell_type": "code",
   "execution_count": 107,
   "id": "unable-ranch",
   "metadata": {},
   "outputs": [],
   "source": [
    "# 원문의 정수 시퀀스를 텍스트 시퀀스로 변환\n",
    "def seq2text(input_seq):\n",
    "    temp=''\n",
    "    for i in input_seq:\n",
    "        if(i!=0):\n",
    "            temp = temp + src_index_to_word[i]+' '\n",
    "    return temp\n",
    "\n",
    "# 요약문의 정수 시퀀스를 텍스트 시퀀스로 변환\n",
    "def seq2summary(input_seq):\n",
    "    temp=''\n",
    "    for i in input_seq:\n",
    "        if((i!=0 and i!=tar_word_to_index['sostoken']) and i!=tar_word_to_index['eostoken']):\n",
    "            temp = temp + tar_index_to_word[i] + ' '\n",
    "    return temp"
   ]
  },
  {
   "cell_type": "code",
   "execution_count": 108,
   "id": "considerable-debut",
   "metadata": {},
   "outputs": [
    {
     "name": "stdout",
     "output_type": "stream",
     "text": [
      "원문 : russia deploy disputed island near japan russian pm dmitry medvedev allowed nation air force use civilian airport island part group four russian occupied islands seized end wwii japan termed russia move attempt increase military power islands \n",
      "실제 요약 : russia to deploy on disputed island near japan \n",
      "예측 요약 :  russia to ukraine amid russia\n",
      "\n",
      "\n",
      "원문 : amidst congress claims government winter session finance minister arun jaitley wednesday said parliament would regular session one coincide state assembly elections earlier congress claimed government delaying session avoid discussion issues like demonetisation gst due elections \n",
      "실제 요약 : winter session not to clash with state polls \n",
      "예측 요약 :  congress is a of congress union minister\n",
      "\n",
      "\n",
      "원문 : year old patient played guitar undergoing seven hour brain surgery private hospital bengaluru patient suffering musician neurological muscle disorder causing muscle played guitar help doctors target problem area suffered condition playing guitar \n",
      "실제 요약 : bengaluru patient plays during brain surgery \n",
      "예측 요약 :  man's brain surgery from man's stomach\n",
      "\n",
      "\n",
      "원문 : senior commander iran force overseas arm islamic revolutionary guard corps said forces buried many like us president donald trump adding iran knows fight us brigadier general said war country military action iran regretted trump threats damage america \n",
      "실제 요약 : iranian general threatens to us prez donald trump \n",
      "예측 요약 :  us cancels iran over isis attacks\n",
      "\n",
      "\n",
      "원문 : denmark zoo witnessed gay penguin couple kidnap baby penguin baby penguin biological parents went swim zoo reportedly going let gay penguins keep baby baby penguin parents come looking baby penguin later returned biological parents \n",
      "실제 요약 : gay from straight penguin couple at zoo \n",
      "예측 요약 :  woman who is the child child surgery\n",
      "\n",
      "\n",
      "원문 : twitter suspended fake accounts gave positive negative reviews shah rukh khan film zero also leaked short clips film released friday accounts name actor manoj bajpayee trade analyst komal journalists rajeev chopra writer rahul raut claimed watched film \n",
      "실제 요약 : twitter suspends fake accounts shah 'zero' \n",
      "예측 요약 :  twitter account hacked\n",
      "\n",
      "\n",
      "원문 : amitabh bachchan trolled australian media compared virat kohli us president donald trump aussie daily daily telegraph tuesday wrote virat kohli become donald trump world sport bachchan thanking newspaper acknowledging kohli winner president aussie media earlier targeted kohli nominating villain week award \n",
      "실제 요약 : trolls aussie media for calling kohli donald trump \n",
      "예측 요약 :  kohli tweets about kohli virat kohli\n",
      "\n",
      "\n",
      "원문 : technology giant google added instant apps feature google play store try button let users try android apps downloading feature currently available apps including new york times buzzfeed news instant apps feature allowing users try apps without downloading first introduced last year \n",
      "실제 요약 : google play store now allows trying apps without \n",
      "예측 요약 :  google rolls out voice for android apps\n",
      "\n",
      "\n",
      "원문 : union minister anantkumar hegde thursday apologised parliament remark constitution change constitution hegde claimed adding people believe secularism unaware lok sabha adjourned wednesday opposition protested minister remarks \n",
      "실제 요약 : union minister hegde apologises for constitution remark \n",
      "예측 요약 :  union minister calls for calling union minister\n",
      "\n",
      "\n",
      "원문 : indonesian town bright colours decorated part lakh government funded makeover considered slum town started attracting tourists according reports local government investing money clean river expand project \n",
      "실제 요약 : indonesian town painted in colours \n",
      "예측 요약 :  karnataka village to be built in\n",
      "\n",
      "\n",
      "원문 : south african conglomerate naspers sold entire stake indian commerce firm flipkart walmart billion said wednesday naspers said proceeds sale used naspers balance sheet fuel growth company naspers backed flipkart invested roughly million since time \n",
      "실제 요약 : flipkart stake for 2 2 bn to walmart \n",
      "예측 요약 :  flipkart stake in flipkart for sale reports\n",
      "\n",
      "\n",
      "원문 : election commission gujarat saturday said inquiry found reports suggesting evms tampered using bluetooth device baseless device complainant mobile phone detected switching bluetooth evm mobile phone added comes congress candidate filed complaint ec alleging evm tampering \n",
      "실제 요약 : complaint of evm tampering via bluetooth baseless ec \n",
      "예측 요약 :  security phones in south africa\n",
      "\n",
      "\n",
      "원문 : us president donald trump threatened impose tariffs chinese imports worth billion politics right thing country ripped china long time trump added us china earlier imposed tariffs billion imports \n",
      "실제 요약 : threatens tariffs on all 500 billion chinese imports \n",
      "예측 요약 :  trump is a trade war trump\n",
      "\n",
      "\n",
      "원문 : external affairs minister sushma swaraj friday said india refused accept us list illegal indians living country sought details donald trump administration said verify details issue emergency certificate deportation said \n",
      "실제 요약 : india refuses to accept us' list of immigrants \n",
      "예측 요약 :  swaraj denies sushma swaraj to swaraj\n",
      "\n",
      "\n",
      "원문 : harbhajan singh become third indian take wickets reached landmark claiming steve smith wicket last ball quota overs rising pune supergiant ipl monday amit mishra india highest wicket taker wickets ravichandran ashwin scalps \n",
      "실제 요약 : 3rd indian bowler to take 200 t20 wickets \n",
      "예측 요약 :  indian pacer scores wicket in ipl\n",
      "\n",
      "\n",
      "원문 : head world baloch women forum baloch urged us designate former pakistan president pervez musharraf specially designated global terrorist terrorist outfit lashkar taiba comes musharraf recently said let us biggest supporter likes founder mumbai terror attack mastermind hafiz saeed \n",
      "실제 요약 : list musharraf as global terrorist activist urges us \n",
      "예측 요약 :  us has a terrorist of us envoy\n",
      "\n",
      "\n",
      "원문 : self drive vehicle rental startup raised million funding investors including das capital ventures earlier called rebranded july raised million american seed accelerator combinator partners last year founded currently operates mumbai pune bengaluru mysore \n",
      "실제 요약 : self drive vehicle rental startup raises 10 million \n",
      "예측 요약 :  mumbai based startup raises 1 million\n",
      "\n",
      "\n",
      "원문 : russia accept north korea could possess nuclear weapons russian foreign minister sergei lavrov said adding strong risk us north korea could engage military conflict lavrov said conflict happens could become one deepest conflicts crisis big number casualties \n",
      "실제 요약 : we don't accept n korea nuclear weapons russia \n",
      "예측 요약 :  n korea to response to us\n",
      "\n",
      "\n",
      "원문 : year old homeless web developer california david received job offers stood busy street distributed story went viral internet passerby took picture posted online urging others support david claimed google bitcoin com bunch startups offered job \n",
      "실제 요약 : techie distributes on street gets 200 job offers \n",
      "예측 요약 :  amazon announces its name\n",
      "\n",
      "\n",
      "원문 : haryana government provide one time grant families whose third girl child born august beti beti scheme eligible families receive amount irrespective caste creed religion income number sons official release issued saturday said \n",
      "실제 요약 : ã¢ââ¹21 000 to families for third girl child \n",
      "예측 요약 :  govt to give to give birth to\n",
      "\n",
      "\n",
      "원문 : built lodge considered smallest castle united kingdom sale crore castle single bedroom bathroom sitting room double pond constructed british architect edward also helped buckingham palace \n",
      "실제 요약 : smallest castle up for sale for ã¢ââ¹4 crore \n",
      "예측 요약 :  sells for crore in paris\n",
      "\n",
      "\n",
      "원문 : trinamool congress extended full support tdp confidence motion lok sabha tmc mp dinesh trivedi speaking debate said whenever government criticised something get one response hindu muslim india pakistan gdp growth actually government changed method calculation added \n",
      "실제 요약 : tmc extends full support to no confidence motion \n",
      "예측 요약 :  congress is a muslim congress\n",
      "\n",
      "\n",
      "원문 : whatsapp co founder brian acton wednesday announced departure messaging service company start new non profit organisation focused technology communications stanford alumnus along current ceo jan koum started whatsapp sold facebook notably whatsapp billion daily billion monthly active users worldwide \n",
      "실제 요약 : whatsapp co founder brian to leave the company \n",
      "예측 요약 :  facebook co founder to launch new\n",
      "\n",
      "\n",
      "원문 : students amrita vishwa tamil nadu developed low cost self driving wheelchair works robotic operating system called self wheelchair features sensors create map surroundings along obstacles displayed app users touch point map wheelchair drive place automatically \n",
      "실제 요약 : tn students make autonomous wheelchair with robotic \n",
      "예측 요약 :  smart that can monitor rail tracks\n",
      "\n",
      "\n",
      "원문 : investigation launched human waste found coca cola cans factory uk incident involved shipment empty cans delivered plant ahead filled sealed coca cola said issue identified immediately impact products sale \n",
      "실제 요약 : cola being investigated after human waste found in \n",
      "예측 요약 :  fish found in to be\n",
      "\n",
      "\n",
      "원문 : pigeons concepts space time like humans according study published journal current biology however seem use different region brain humans study pigeons put series tasks called common magnitude test \n",
      "실제 요약 : can both space and time study \n",
      "예측 요약 :  humans are like humans study\n",
      "\n",
      "\n",
      "원문 : singapore sovereign wealth fund agreed buy office tower paris la nse business district million fund buying storey tour gross area square meters french real estate firm manages assets worth billion countries \n",
      "실제 요약 : fund buys paris office tower for ã¢ââ¹3 cr \n",
      "예측 요약 :  sells for sale of crore\n",
      "\n",
      "\n",
      "원문 : us president donald trump top aide kenneth set us new ambassador india white house said wednesday kenneth move indian ambassador extremely qualified position white house spokesperson said would replace acting us ambassador india appointed confirmed senate \n",
      "실제 요약 : be new us ambassador to india white house \n",
      "예측 요약 :  trump appointed as new ambassador\n",
      "\n",
      "\n",
      "원문 : student found lap train england woke nap discussing financial problems mother phone facebook post student revealed talked failing locate conversation apparently overheard stranger left money \n",
      "실제 요약 : stranger student's money issues leaves her ã¢ââ¹9 000 \n",
      "예측 요약 :  parents tweets user on after being\n",
      "\n",
      "\n",
      "원문 : financial year indian railways recorded less accidents first time years reports said number accidents recorded period stood fewer decrease accidents strong emphasis safety railway board chairman ashwani lohani said \n",
      "실제 요약 : than 100 accidents 1st time in 35 yrs \n",
      "예측 요약 :  indian railways to get its first\n",
      "\n",
      "\n",
      "원문 : confirming berkshire hathaway investment paytm ceo vijay shekhar sharma revealed valuation given warren buffett led firm higher japan softbank without disclosing current valuation sharma said softbank valued paytm billion berkshire wanted invest want dilute sufficient capital added \n",
      "실제 요약 : valuation by berkshire higher than softbank paytm \n",
      "예측 요약 :  softbank founder buys stake in flipkart\n",
      "\n",
      "\n",
      "원문 : assamese students association held prayer meeting new delhi two youth lynched assam last week two lynched locals thought child traffickers due message circulating whatsapp insist immediate punishment perpetrators member association said \n",
      "실제 요약 : students body holds prayer meet for lynched youth \n",
      "예측 요약 :  haryana police officers to teach students\n",
      "\n",
      "\n",
      "원문 : us president donald trump friday said north korea response cancellation peace summit countries warm productive north korea said willing talk us time form despite cancellation summit trump cancelled talks citing north korea anger hostility \n",
      "실제 요약 : n korea response to cancelled talks warm trump \n",
      "예측 요약 :  trump calls kim jong un\n",
      "\n",
      "\n",
      "원문 : congress president rahul gandhi accused chowkidar corruption pm narendra modi said takes pride called however added pains problems poor labourers farmers soldiers brave harsh weather siachen kargil \n",
      "실제 요약 : of being called pm modi on rahul's jibe \n",
      "예측 요약 :  rahul gandhi is a pm modi\n",
      "\n",
      "\n",
      "원문 : rishi kapoor thanked oscars remembering shashi kapoor sridevi section images played event year paid tribute personalities film industry passed away rishi also wrote thrilled see name raj kapoor executive producer \n",
      "실제 요약 : thank you oscars for shashi sridevi rishi \n",
      "예측 요약 :  sridevi honoured with sridevi at oscars 2018\n",
      "\n",
      "\n",
      "원문 : uk based company known vacuum cleaners announced plans build electric cars singapore construction factory cars built begin december due completed company planning electric vehicles \n",
      "실제 요약 : announces plans to build electric cars in singapore \n",
      "예측 요약 :  electric cars to be electric cars\n",
      "\n",
      "\n",
      "원문 : indian cricketing legend sachin tendulkar son arjun tendulkar says father wants fearless cricketer rounder grabbed four wickets scored ball playing cricket club india bradman oval recently speaking sachin advice arjun said says team man give everything got \n",
      "실제 요약 : wants me to be a cricketer arjun tendulkar \n",
      "예측 요약 :  sachin tendulkar shares dhoni's award\n",
      "\n",
      "\n",
      "원문 : delhi chief minister arvind kejriwal tuesday described death former tamil nadu chief minister dmk leader karunanidhi great loss nation tweeted feel sad hear demise great leader may soul rest peace pay tributes karunanidhi chennai \n",
      "실제 요약 : loss to the nation kejriwal on karunanidhi's demise \n",
      "예측 요약 :  kejriwal calls ex cm nitish kumar\n",
      "\n",
      "\n",
      "원문 : food delivery boy last person see member family delhi burari alive said everything normal revealed family placed order rotis pm delivered pm family members found dead residence sunday morning \n",
      "실제 요약 : normal last person to see burari family alive \n",
      "예측 요약 :  family is a family of family\n",
      "\n",
      "\n",
      "원문 : mangal lodha founder lodha group topped hurun india real estate rich list wealth crore lodha whose firm constructing storey trump tower mumbai bjp mla mumbai hill jitendra bengaluru embassy group follows lodha wealth crore \n",
      "실제 요약 : richest property tycoon with 3 8 bn wealth \n",
      "예측 요약 :  indian billionaire becomes world's most valuable company\n",
      "\n",
      "\n",
      "원문 : union minister state hardeep singh puri home dalit family spent night another dalit house punjab amritsar thursday come direction prime minister narendra modi grievances dalit community minister said interaction media \n",
      "실제 요약 : minister spends night at dalit homes in punjab \n",
      "예측 요약 :  goa minister convicts to be hanged\n",
      "\n",
      "\n",
      "원문 : us president donald trump said late ask fbi director james comey currently investigating trump campaign colluded russia influence presidential election step position comey appointed position fixed ten year term former president barack obama \n",
      "실제 요약 : too late to fire the fbi director trump \n",
      "예측 요약 :  fbi chief comey resigns over fbi\n",
      "\n",
      "\n",
      "원문 : speaking zero hour rajya sabha dmk mp demanded late dmk president karunanidhi conferred bharat ratna india highest civilian award calling five time tamil nadu cm tallest leader country remarked devoted years life public fighting suppressed people \n",
      "실제 요약 : mp seeks india's highest civilian award for karunanidhi \n",
      "예측 요약 :  pm modi receives bharat ratna for\n",
      "\n",
      "\n",
      "원문 : us administration ended practice refuelling saudi led coalition aircraft battling houthi rebels yemen us said coalition increased capability independently conduct refuelling yemen move comes amid criticism saudi arabia conduct war monitoring groups accusing kingdom killing thousands yemeni civilians \n",
      "실제 요약 : of saudi led coalition aircraft in yemen war \n",
      "예측 요약 :  yemen war is the yemen war russia\n",
      "\n",
      "\n",
      "원문 : congress released list candidates second phase polling chhattisgarh assembly elections chhattisgarh pradesh congress committee chief bhupesh baghel contest ex union minister charan das mahant contest total seats go polls november results declared december \n",
      "실제 요약 : candidate list for 2nd phase of c'garh polls \n",
      "예측 요약 :  congress mla elected himachal himachal assembly elections\n",
      "\n",
      "\n",
      "원문 : claims religious leader bohra community said choice going female genital mutilation left woman becomes adult sharia law provision female genital mutilation performed woman becomes adult stated \n",
      "실제 요약 : mutilation woman's choice leader \n",
      "예측 요약 :  woman should be tried to prove\n",
      "\n",
      "\n",
      "원문 : us president donald trump said fell asleep former president barack obama speech sorry watched fell asleep found good sleeping trump added obama called trump bully said cause division polarisation us \n",
      "실제 요약 : on ex us prez obama's speech against him \n",
      "예측 요약 :  trump calls obama during his house\n",
      "\n",
      "\n",
      "원문 : technology giant hewlett packard launched pocket sized photo printer india priced printer allows users take inch prints photographs stored mobile phones connected users android ios based phones using bluetooth edit pictures add borders emoji printing \n",
      "실제 요약 : pocket sized photo at ã¢ââ¹8 999 in india \n",
      "예측 요약 :  apple launches its own cryptocurrency\n",
      "\n",
      "\n",
      "원문 : man allegedly killed two months pregnant sister law stabbing times mumbai monday police said accused slitting fingers woman friend tried intervene though motive behind murder clear police suspect could personal enmity \n",
      "실제 요약 : mumbai man stabs brother's pregnant wife 16 times \n",
      "예측 요약 :  woman kills her for opposing her\n",
      "\n",
      "\n",
      "원문 : kerala high court quashed decision college state expel two students love affair love blind instinct individuals freedom court said added action cannot taken indiscipline absence evidence affected classes \n",
      "실제 요약 : hc move to expel students for love affair \n",
      "예측 요약 :  hc rejects plea against hc over remark\n",
      "\n",
      "\n"
     ]
    }
   ],
   "source": [
    "for i in range(50, 100):\n",
    "    print(\"원문 :\", seq2text(encoder_input_test[i]))\n",
    "    print(\"실제 요약 :\", seq2summary(decoder_input_test[i]))\n",
    "    print(\"예측 요약 :\", decode_sequence(encoder_input_test[i].reshape(1, text_max_len)))\n",
    "    print(\"\\n\")"
   ]
  },
  {
   "cell_type": "markdown",
   "id": "registered-correction",
   "metadata": {},
   "source": [
    "# Step 5. Summa을 이용해서 추출적 요약해보기"
   ]
  },
  {
   "cell_type": "markdown",
   "id": "large-proposal",
   "metadata": {},
   "source": [
    "#### summarize()의 인자로 사용되는 값\n",
    "**text (str)** : 요약할 테스트.\\\n",
    "**ratio (float, optional)** – 요약문에서 원본에서 선택되는 문장 비율. 0~1 사이값\\\n",
    "**words (int or None, optional)** – 출력에 포함할 단어 수.\\\n",
    "만약, ratio와 함께 두 파라미터가 모두 제공되는 경우 ratio는 무시한다.\\\n",
    "**split (bool, optional)** – True면 문장 list / False는 조인(join)된 문자열을 반환"
   ]
  },
  {
   "cell_type": "code",
   "execution_count": 109,
   "id": "light-gibson",
   "metadata": {},
   "outputs": [],
   "source": [
    "import requests\n",
    "from summa.summarizer import summarize"
   ]
  },
  {
   "cell_type": "code",
   "execution_count": 110,
   "id": "incident-contest",
   "metadata": {},
   "outputs": [
    {
     "name": "stdout",
     "output_type": "stream",
     "text": [
      "Australia's wicketkeeper-batswoman Alyssa Healy has said that the Australian team needs to be wary of India's women's T20I team captain Harmanpreet Kaur at the ICC Women's T20 World Cup next year.\n"
     ]
    }
   ],
   "source": [
    "text_str = data['text'][200]\n",
    "print(summarize(text_str, ratio=0.5))"
   ]
  },
  {
   "cell_type": "code",
   "execution_count": 111,
   "id": "common-leisure",
   "metadata": {},
   "outputs": [
    {
     "name": "stdout",
     "output_type": "stream",
     "text": [
      "German multinational engineering and electronics firm Bosch has made its first investment in India in Bengaluru-based deep-tech startup SimYog. SimYog has raised about Ã¢ÂÂ¹6.3 crore in the funding round, with participation from early-stage venture capital firm Ideaspring Capital.\n"
     ]
    }
   ],
   "source": [
    "text_str = data['text'][100]\n",
    "print(summarize(text_str, ratio=0.8))"
   ]
  },
  {
   "cell_type": "code",
   "execution_count": 112,
   "id": "focused-glasgow",
   "metadata": {},
   "outputs": [
    {
     "name": "stdout",
     "output_type": "stream",
     "text": [
      "Former Finance Minister Yashwant Sinha on Tuesday demanded a probe into the alleged diversion of loans worth Ã¢ÂÂ¹31,000 crore by Dewan Housing Finance (DHFL).\n",
      "This comes after a media report on Tuesday accused DHFL's controlling shareholders of diverting funds to shell companies to buy assets.\n"
     ]
    }
   ],
   "source": [
    "text_str = data['text'][50]\n",
    "print(summarize(text_str, ratio=0.8))"
   ]
  },
  {
   "cell_type": "code",
   "execution_count": null,
   "id": "comfortable-highlight",
   "metadata": {},
   "outputs": [],
   "source": []
  },
  {
   "cell_type": "markdown",
   "id": "outdoor-territory",
   "metadata": {},
   "source": [
    "# 🌟 루브릭"
   ]
  },
  {
   "cell_type": "markdown",
   "id": "ongoing-cyprus",
   "metadata": {},
   "source": [
    "|평가문항|상세문항|\n",
    "|:------|:---|\n",
    "|1. Abstractive 모델 구성을 위한 텍스트 전처리 단계가 체계적으로 진행되었다.|분석단계, 정제단계, 정규화와 불용어 제거, 데이터셋 분리, 인코딩 과정이 빠짐없이 체계적으로 진행되었다.|\n",
    "|2. 텍스트 요약모델이 성공적으로 학습되었음을 확인하였다.|모델학습이 안정적으로 수렴되었음을 그래프를 통해 확인하였으며, 실제 요약문과 유사한 요약문장을 얻을 수 있었다.|\n",
    "|3. Extractive 요약을 시도해 보고 Abstractive 요약 결과과 함께 비교해 보았다.|두 요약 결과를 문법완성도 측면과 핵심단어 포함 측면으로 나누어 비교분석 결과를 제시하였다.|"
   ]
  },
  {
   "cell_type": "markdown",
   "id": "abroad-queue",
   "metadata": {},
   "source": [
    "# 🌟회고"
   ]
  },
  {
   "cell_type": "markdown",
   "id": "identical-robertson",
   "metadata": {},
   "source": [
    "이번 exploration은 사실 개념이나 코드를 깊게 이해하지 못하고 프로젝트를 진행한 점이 아쉽다. \\\n",
    "특히나 Attention 개념은 한번에 이해하지 못해서 노드에 나와있는 내용 외에도 따로 찾아보면서 이해하려고 노력했다. "
   ]
  },
  {
   "cell_type": "markdown",
   "id": "immune-continuity",
   "metadata": {},
   "source": [
    "[Attention 개념 참고](https://glee1228.tistory.com/3)"
   ]
  }
 ],
 "metadata": {
  "kernelspec": {
   "display_name": "Python 3",
   "language": "python",
   "name": "python3"
  },
  "language_info": {
   "codemirror_mode": {
    "name": "ipython",
    "version": 3
   },
   "file_extension": ".py",
   "mimetype": "text/x-python",
   "name": "python",
   "nbconvert_exporter": "python",
   "pygments_lexer": "ipython3",
   "version": "3.7.9"
  }
 },
 "nbformat": 4,
 "nbformat_minor": 5
}
