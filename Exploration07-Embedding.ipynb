{
 "cells": [
  {
   "cell_type": "markdown",
   "id": "eleven-morris",
   "metadata": {},
   "source": [
    "# 프로젝트 : 네이버 영화리뷰 감성분석 도전하기"
   ]
  },
  {
   "cell_type": "markdown",
   "id": "incident-handling",
   "metadata": {},
   "source": [
    "* 활용할 데이터셋은 네이버 영화의 댓글을 모아 구성된  Naver sentiment movie corpus   \n",
    "\n",
    "<목차>"
   ]
  },
  {
   "cell_type": "markdown",
   "id": "third-milan",
   "metadata": {},
   "source": [
    "\n",
    "## 데이터 준비와 확인"
   ]
  },
  {
   "cell_type": "code",
   "execution_count": 1,
   "id": "broke-aruba",
   "metadata": {},
   "outputs": [],
   "source": [
    "import pandas as pd\n",
    "import urllib.request\n",
    "%matplotlib inline\n",
    "import matplotlib.pyplot as plt\n",
    "import re\n",
    "from konlpy.tag import Okt\n",
    "from tensorflow import keras\n",
    "from tensorflow.keras.preprocessing.text import Tokenizer\n",
    "import numpy as np\n",
    "from tensorflow.keras.preprocessing.sequence import pad_sequences\n",
    "from collections import Counter\n",
    "from sklearn import model_selection"
   ]
  },
  {
   "cell_type": "code",
   "execution_count": 2,
   "id": "modern-queens",
   "metadata": {},
   "outputs": [
    {
     "data": {
      "text/html": [
       "<div>\n",
       "<style scoped>\n",
       "    .dataframe tbody tr th:only-of-type {\n",
       "        vertical-align: middle;\n",
       "    }\n",
       "\n",
       "    .dataframe tbody tr th {\n",
       "        vertical-align: top;\n",
       "    }\n",
       "\n",
       "    .dataframe thead th {\n",
       "        text-align: right;\n",
       "    }\n",
       "</style>\n",
       "<table border=\"1\" class=\"dataframe\">\n",
       "  <thead>\n",
       "    <tr style=\"text-align: right;\">\n",
       "      <th></th>\n",
       "      <th>id</th>\n",
       "      <th>document</th>\n",
       "      <th>label</th>\n",
       "    </tr>\n",
       "  </thead>\n",
       "  <tbody>\n",
       "    <tr>\n",
       "      <th>0</th>\n",
       "      <td>9976970</td>\n",
       "      <td>아 더빙.. 진짜 짜증나네요 목소리</td>\n",
       "      <td>0</td>\n",
       "    </tr>\n",
       "    <tr>\n",
       "      <th>1</th>\n",
       "      <td>3819312</td>\n",
       "      <td>흠...포스터보고 초딩영화줄....오버연기조차 가볍지 않구나</td>\n",
       "      <td>1</td>\n",
       "    </tr>\n",
       "    <tr>\n",
       "      <th>2</th>\n",
       "      <td>10265843</td>\n",
       "      <td>너무재밓었다그래서보는것을추천한다</td>\n",
       "      <td>0</td>\n",
       "    </tr>\n",
       "    <tr>\n",
       "      <th>3</th>\n",
       "      <td>9045019</td>\n",
       "      <td>교도소 이야기구먼 ..솔직히 재미는 없다..평점 조정</td>\n",
       "      <td>0</td>\n",
       "    </tr>\n",
       "    <tr>\n",
       "      <th>4</th>\n",
       "      <td>6483659</td>\n",
       "      <td>사이몬페그의 익살스런 연기가 돋보였던 영화!스파이더맨에서 늙어보이기만 했던 커스틴 ...</td>\n",
       "      <td>1</td>\n",
       "    </tr>\n",
       "  </tbody>\n",
       "</table>\n",
       "</div>"
      ],
      "text/plain": [
       "         id                                           document  label\n",
       "0   9976970                                아 더빙.. 진짜 짜증나네요 목소리      0\n",
       "1   3819312                  흠...포스터보고 초딩영화줄....오버연기조차 가볍지 않구나      1\n",
       "2  10265843                                  너무재밓었다그래서보는것을추천한다      0\n",
       "3   9045019                      교도소 이야기구먼 ..솔직히 재미는 없다..평점 조정      0\n",
       "4   6483659  사이몬페그의 익살스런 연기가 돋보였던 영화!스파이더맨에서 늙어보이기만 했던 커스틴 ...      1"
      ]
     },
     "execution_count": 2,
     "metadata": {},
     "output_type": "execute_result"
    }
   ],
   "source": [
    "# 데이터를 읽어보기\n",
    "train_data = pd.read_table('~/aiffel/sentiment_classification/data/ratings_train.txt')\n",
    "test_data = pd.read_table('~/aiffel/sentiment_classification/data/ratings_test.txt')\n",
    "\n",
    "train_data.head()"
   ]
  },
  {
   "cell_type": "code",
   "execution_count": 3,
   "id": "median-atlantic",
   "metadata": {},
   "outputs": [
    {
     "name": "stdout",
     "output_type": "stream",
     "text": [
      "150000 150000\n",
      "50000 50000\n"
     ]
    }
   ],
   "source": [
    "print(len(train_data.document), len(train_data.label))\n",
    "print(len(test_data.document), len(test_data.label))"
   ]
  },
  {
   "cell_type": "markdown",
   "id": "terminal-deadline",
   "metadata": {},
   "source": [
    "## 데이터로더 구성   \n",
    "* 데이터의 중복 제거\n",
    "* NaN 결측치 제거\n",
    "* 한국어 토크나이저로 토큰화\n",
    "* 불용어(Stopwords) 제거\n",
    "* 사전word_to_index 구성\n",
    "* 텍스트 스트링을 사전 인덱스 스트링으로 변환\n",
    "* X_train, y_train, X_test, y_test, word_to_index 리턴"
   ]
  },
  {
   "cell_type": "code",
   "execution_count": 4,
   "id": "certain-cameroon",
   "metadata": {},
   "outputs": [],
   "source": [
    "from konlpy.tag import Mecab\n",
    "tokenizer = Mecab()\n",
    "stopwords = ['의','가','이','은','들','는','좀','잘','걍','과','도','를','으로','자','에','와','한','하다']\n",
    "\n",
    "def load_data(train_data, test_data, num_words=10000):\n",
    "    train_data.drop_duplicates(subset=['document'], inplace=True)\n",
    "    train_data = train_data.dropna(how = 'any') \n",
    "    test_data.drop_duplicates(subset=['document'], inplace=True)\n",
    "    test_data = test_data.dropna(how = 'any') \n",
    "    \n",
    "    X_train = []\n",
    "    for sentence in train_data['document']:\n",
    "        temp_X = tokenizer.morphs(sentence) # 토큰화\n",
    "        temp_X = [word for word in temp_X if not word in stopwords] # 불용어 제거\n",
    "        X_train.append(temp_X)\n",
    "\n",
    "    X_test = []\n",
    "    for sentence in test_data['document']:\n",
    "        temp_X = tokenizer.morphs(sentence) # 토큰화\n",
    "        temp_X = [word for word in temp_X if not word in stopwords] # 불용어 제거\n",
    "        X_test.append(temp_X)\n",
    "    \n",
    "    words = np.concatenate(X_train).tolist()\n",
    "    counter = Counter(words)\n",
    "    counter = counter.most_common(10000-4)\n",
    "    # pad, bos, unk, unused 를 제외하고 가장 자주나오는 만개의 단어를 가져오기\n",
    "    vocab = ['<PAD>', '<BOS>', '<UNK>', '<UNUSED>'] + [key for key, _ in counter]\n",
    "    word_to_index = {word:index for index, word in enumerate(vocab)}\n",
    "        \n",
    "    def wordlist_to_indexlist(wordlist):\n",
    "        return [word_to_index[word] if word in word_to_index else word_to_index['<UNK>'] for word in wordlist]\n",
    "        \n",
    "    X_train = list(map(wordlist_to_indexlist, X_train))\n",
    "    X_test = list(map(wordlist_to_indexlist, X_test))\n",
    "        \n",
    "    return X_train, np.array(list(train_data['label'])), X_test, np.array(list(test_data['label'])), word_to_index\n",
    "    \n",
    "X_train, y_train, X_test, y_test, word_to_index = load_data(train_data, test_data) "
   ]
  },
  {
   "cell_type": "code",
   "execution_count": 5,
   "id": "backed-thunder",
   "metadata": {},
   "outputs": [
    {
     "name": "stdout",
     "output_type": "stream",
     "text": [
      "146182 49157\n",
      "146182 49157\n"
     ]
    }
   ],
   "source": [
    "print(len(X_train), len(X_test))\n",
    "print(len(y_train), len(y_test))"
   ]
  },
  {
   "cell_type": "code",
   "execution_count": 6,
   "id": "official-steal",
   "metadata": {},
   "outputs": [],
   "source": [
    "index_to_word = {index:word for word, index in word_to_index.items()}"
   ]
  },
  {
   "cell_type": "code",
   "execution_count": 7,
   "id": "danish-criticism",
   "metadata": {},
   "outputs": [],
   "source": [
    "# 문장 1개를 활용할 딕셔너리와 함께 주면, 단어 인덱스 리스트 벡터로 변환해 주는 함수입니다. \n",
    "# 단, 모든 문장은 <BOS>로 시작하는 것으로 합니다. \n",
    "def get_encoded_sentence(sentence, word_to_index):\n",
    "    return [word_to_index['<BOS>']]+[word_to_index[word] if word in word_to_index else word_to_index['<UNK>'] for word in sentence.split()]\n",
    "\n",
    "# 여러 개의 문장 리스트를 한꺼번에 단어 인덱스 리스트 벡터로 encode해 주는 함수입니다. \n",
    "def get_encoded_sentences(sentences, word_to_index):\n",
    "    return [get_encoded_sentence(sentence, word_to_index) for sentence in sentences]\n",
    "\n",
    "# 숫자 벡터로 encode된 문장을 원래대로 decode하는 함수입니다. \n",
    "def get_decoded_sentence(encoded_sentence, index_to_word):\n",
    "    return ' '.join(index_to_word[index] if index in index_to_word else '<UNK>' for index in encoded_sentence[1:])  #[1:]를 통해 <BOS>를 제외\n",
    "\n",
    "# 여러 개의 숫자 벡터로 encode된 문장을 한꺼번에 원래대로 decode하는 함수입니다. \n",
    "def get_decoded_sentences(encoded_sentences, index_to_word):\n",
    "    return [get_decoded_sentence(encoded_sentence, index_to_word) for encoded_sentence in encoded_sentences]"
   ]
  },
  {
   "cell_type": "markdown",
   "id": "injured-internet",
   "metadata": {},
   "source": [
    "## 3) 모델구성을 위한 데이터 분석 및 가공   \n",
    "* 데이터셋 내 문장 길이 분포\n",
    "* 적절한 최대 문장 길이 지정\n",
    "* keras.preprocessing.sequence.pad_sequences 을 활용한 패딩 추가"
   ]
  },
  {
   "cell_type": "code",
   "execution_count": 8,
   "id": "rocky-reconstruction",
   "metadata": {},
   "outputs": [
    {
     "name": "stdout",
     "output_type": "stream",
     "text": [
      "X_train's length : 146182\n",
      "X_test's length : 49157\n"
     ]
    }
   ],
   "source": [
    "print(\"X_train's length :\", len(X_train))\n",
    "print(\"X_test's length :\", len(X_test))"
   ]
  },
  {
   "cell_type": "code",
   "execution_count": 9,
   "id": "intended-withdrawal",
   "metadata": {},
   "outputs": [
    {
     "name": "stdout",
     "output_type": "stream",
     "text": [
      "문장길이 평균 :  15.96940191154864\n",
      "문장길이 최대 :  116\n",
      "문장길이 표준편차 :  12.843571191092\n",
      "pad_sequences maxlen :  41\n",
      "전체 문장의 0.9342988343341575%가 maxlen 설정값 이내에 포함됩니다. \n"
     ]
    }
   ],
   "source": [
    "#전체 데이터 셋 통합\n",
    "total_data_text = list(X_train) + list(X_test)\n",
    "\n",
    "# 텍스트데이터 문장길이의 리스트를 생성한 후\n",
    "num_tokens = [len(tokens) for tokens in total_data_text]\n",
    "num_tokens = np.array(num_tokens)\n",
    "# 문장길이의 평균값, 최대값, 표준편차를 계산해 본다. \n",
    "print('문장길이 평균 : ', np.mean(num_tokens))\n",
    "print('문장길이 최대 : ', np.max(num_tokens))\n",
    "print('문장길이 표준편차 : ', np.std(num_tokens))\n",
    "\n",
    "# 예를들어, 최대 길이를 (평균 + 2*표준편차)로 한다면,  \n",
    "max_tokens = np.mean(num_tokens) + 2 * np.std(num_tokens)\n",
    "maxlen = int(max_tokens)\n",
    "print('pad_sequences maxlen : ', maxlen)\n",
    "print('전체 문장의 {}%가 maxlen 설정값 이내에 포함됩니다. '.format(np.sum(num_tokens < max_tokens) / len(num_tokens)))"
   ]
  },
  {
   "cell_type": "code",
   "execution_count": 10,
   "id": "assumed-therapist",
   "metadata": {},
   "outputs": [
    {
     "name": "stdout",
     "output_type": "stream",
     "text": [
      "(146182, 41)\n"
     ]
    }
   ],
   "source": [
    "# padding방식을 문장 뒤쪽(post), 앞쪽(pre)중 어느쪽으로 하느냐에 따라서 성능차이 발생\n",
    "X_train = keras.preprocessing.sequence.pad_sequences(X_train,\n",
    "                                                        value=word_to_index[\"<PAD>\"],\n",
    "                                                        padding='pre', \n",
    "                                                        maxlen=maxlen)\n",
    "\n",
    "X_test = keras.preprocessing.sequence.pad_sequences(X_test,\n",
    "                                                       value=word_to_index[\"<PAD>\"],\n",
    "                                                       padding='pre', \n",
    "                                                       maxlen=maxlen)\n",
    "\n",
    "print(X_train.shape)"
   ]
  },
  {
   "cell_type": "markdown",
   "id": "hundred-plant",
   "metadata": {},
   "source": [
    "## 4) 모델구성 및 validation set 구성"
   ]
  },
  {
   "cell_type": "code",
   "execution_count": 11,
   "id": "administrative-empire",
   "metadata": {},
   "outputs": [],
   "source": [
    "from sklearn.model_selection import train_test_split\n",
    "X_train, X_val, y_train, y_val = train_test_split(X_train, \n",
    "                                                          y_train,\n",
    "                                                          test_size=0.2,\n",
    "                                                          shuffle=True, \n",
    "                                                          random_state=20)"
   ]
  },
  {
   "cell_type": "code",
   "execution_count": 12,
   "id": "intellectual-melissa",
   "metadata": {},
   "outputs": [
    {
     "name": "stdout",
     "output_type": "stream",
     "text": [
      "Model: \"sequential\"\n",
      "_________________________________________________________________\n",
      "Layer (type)                 Output Shape              Param #   \n",
      "=================================================================\n",
      "embedding (Embedding)        (None, None, 32)          320000    \n",
      "_________________________________________________________________\n",
      "conv1d (Conv1D)              (None, None, 16)          3600      \n",
      "_________________________________________________________________\n",
      "max_pooling1d (MaxPooling1D) (None, None, 16)          0         \n",
      "_________________________________________________________________\n",
      "conv1d_1 (Conv1D)            (None, None, 32)          3616      \n",
      "_________________________________________________________________\n",
      "global_max_pooling1d (Global (None, 32)                0         \n",
      "_________________________________________________________________\n",
      "dense (Dense)                (None, 32)                1056      \n",
      "_________________________________________________________________\n",
      "dense_1 (Dense)              (None, 1)                 33        \n",
      "=================================================================\n",
      "Total params: 328,305\n",
      "Trainable params: 328,305\n",
      "Non-trainable params: 0\n",
      "_________________________________________________________________\n"
     ]
    }
   ],
   "source": [
    "#Conv1D\n",
    "vocab_size = 10000    # 어휘 사전의 크기입니다(10,000개의 단어)\n",
    "word_vector_dim = 32  # 워드 벡터의 차원수 (변경가능한 하이퍼파라미터)\n",
    "\n",
    "model = keras.Sequential()\n",
    "model.add(keras.layers.Embedding(vocab_size, word_vector_dim, input_shape=(None,)))\n",
    "model.add(keras.layers.Conv1D(16, 7, activation='relu'))\n",
    "model.add(keras.layers.MaxPooling1D(5))\n",
    "model.add(keras.layers.Conv1D(32, 7, activation='relu'))\n",
    "model.add(keras.layers.GlobalMaxPooling1D())\n",
    "model.add(keras.layers.Dense(32, activation='relu'))\n",
    "model.add(keras.layers.Dense(1, activation='sigmoid'))  # 최종 출력은 긍정/부정을 나타내는 1dim 입니다.\n",
    "\n",
    "model.summary()"
   ]
  },
  {
   "cell_type": "markdown",
   "id": "qualified-enforcement",
   "metadata": {},
   "source": [
    "## 5) 모델 훈련 개시"
   ]
  },
  {
   "cell_type": "code",
   "execution_count": 13,
   "id": "revised-seven",
   "metadata": {},
   "outputs": [
    {
     "name": "stdout",
     "output_type": "stream",
     "text": [
      "Epoch 1/20\n",
      "229/229 - 9s - loss: 0.4537 - accuracy: 0.7838 - val_loss: 0.3560 - val_accuracy: 0.8434\n",
      "Epoch 2/20\n",
      "229/229 - 2s - loss: 0.3096 - accuracy: 0.8691 - val_loss: 0.3437 - val_accuracy: 0.8518\n",
      "Epoch 3/20\n",
      "229/229 - 2s - loss: 0.2592 - accuracy: 0.8947 - val_loss: 0.3474 - val_accuracy: 0.8502\n",
      "Epoch 4/20\n",
      "229/229 - 2s - loss: 0.2030 - accuracy: 0.9237 - val_loss: 0.3869 - val_accuracy: 0.8469\n",
      "Epoch 5/20\n",
      "229/229 - 2s - loss: 0.1475 - accuracy: 0.9484 - val_loss: 0.4365 - val_accuracy: 0.8417\n",
      "Epoch 6/20\n",
      "229/229 - 2s - loss: 0.1031 - accuracy: 0.9664 - val_loss: 0.5089 - val_accuracy: 0.8345\n",
      "Epoch 7/20\n",
      "229/229 - 2s - loss: 0.0758 - accuracy: 0.9764 - val_loss: 0.5802 - val_accuracy: 0.8321\n",
      "Epoch 8/20\n",
      "229/229 - 2s - loss: 0.0567 - accuracy: 0.9830 - val_loss: 0.6551 - val_accuracy: 0.8300\n",
      "Epoch 9/20\n",
      "229/229 - 2s - loss: 0.0450 - accuracy: 0.9870 - val_loss: 0.7237 - val_accuracy: 0.8270\n",
      "Epoch 10/20\n",
      "229/229 - 2s - loss: 0.0373 - accuracy: 0.9889 - val_loss: 0.7940 - val_accuracy: 0.8248\n",
      "Epoch 11/20\n",
      "229/229 - 2s - loss: 0.0320 - accuracy: 0.9906 - val_loss: 0.8464 - val_accuracy: 0.8232\n",
      "Epoch 12/20\n",
      "229/229 - 2s - loss: 0.0292 - accuracy: 0.9910 - val_loss: 0.8944 - val_accuracy: 0.8223\n",
      "Epoch 13/20\n",
      "229/229 - 2s - loss: 0.0304 - accuracy: 0.9899 - val_loss: 0.9707 - val_accuracy: 0.8197\n",
      "Epoch 14/20\n",
      "229/229 - 2s - loss: 0.0308 - accuracy: 0.9897 - val_loss: 1.0025 - val_accuracy: 0.8185\n",
      "Epoch 15/20\n",
      "229/229 - 2s - loss: 0.0298 - accuracy: 0.9898 - val_loss: 1.0056 - val_accuracy: 0.8190\n",
      "Epoch 16/20\n",
      "229/229 - 2s - loss: 0.0253 - accuracy: 0.9916 - val_loss: 1.0883 - val_accuracy: 0.8238\n",
      "Epoch 17/20\n",
      "229/229 - 2s - loss: 0.0219 - accuracy: 0.9928 - val_loss: 1.1130 - val_accuracy: 0.8206\n",
      "Epoch 18/20\n",
      "229/229 - 2s - loss: 0.0195 - accuracy: 0.9935 - val_loss: 1.1387 - val_accuracy: 0.8226\n",
      "Epoch 19/20\n",
      "229/229 - 2s - loss: 0.0179 - accuracy: 0.9941 - val_loss: 1.1866 - val_accuracy: 0.8167\n",
      "Epoch 20/20\n",
      "229/229 - 2s - loss: 0.0181 - accuracy: 0.9935 - val_loss: 1.2276 - val_accuracy: 0.8212\n"
     ]
    }
   ],
   "source": [
    "model.compile(optimizer='adam',\n",
    "              loss='binary_crossentropy',\n",
    "              metrics=['accuracy'])\n",
    "              \n",
    "epochs=20  # 몇 epoch를 훈련하면 좋을지 결과를 보면서 바꾸어 봅시다. \n",
    "batch_size=512\n",
    "\n",
    "history = model.fit(X_train,\n",
    "                    y_train,\n",
    "                    epochs=epochs,\n",
    "                    batch_size=batch_size,\n",
    "                    validation_data=(X_val, y_val),\n",
    "                    verbose=2)"
   ]
  },
  {
   "cell_type": "code",
   "execution_count": 14,
   "id": "altered-dating",
   "metadata": {},
   "outputs": [
    {
     "name": "stdout",
     "output_type": "stream",
     "text": [
      "1537/1537 - 4s - loss: 1.2298 - accuracy: 0.8194\n",
      "[1.2298457622528076, 0.8193542957305908]\n"
     ]
    }
   ],
   "source": [
    "#학습이 끝난 모델을 테스트 셋으로 평가해보기\n",
    "results = model.evaluate(X_test,  y_test, verbose=2)\n",
    "\n",
    "print(results)"
   ]
  },
  {
   "cell_type": "markdown",
   "id": "foster-longer",
   "metadata": {},
   "source": [
    "## 6) Loss, Accuracy 그래프 시각화"
   ]
  },
  {
   "cell_type": "code",
   "execution_count": 15,
   "id": "empirical-sydney",
   "metadata": {},
   "outputs": [
    {
     "name": "stdout",
     "output_type": "stream",
     "text": [
      "dict_keys(['loss', 'accuracy', 'val_loss', 'val_accuracy'])\n"
     ]
    }
   ],
   "source": [
    "# 모델의 fitting 과정 중의 정보들이 history 변수에 저장\n",
    "history_dict = history.history\n",
    "print(history_dict.keys()) # epoch에 따른 그래프를 그려볼 수 있는 항목들"
   ]
  },
  {
   "cell_type": "code",
   "execution_count": 16,
   "id": "modern-holmes",
   "metadata": {},
   "outputs": [
    {
     "data": {
      "image/png": "[encoded data removed]",
      "text/plain": [
       "<Figure size 432x288 with 1 Axes>"
      ]
     },
     "metadata": {
      "needs_background": "light"
     },
     "output_type": "display_data"
    }
   ],
   "source": [
    "# 도식화 Training and Validation loss\n",
    "import matplotlib.pyplot as plt\n",
    "\n",
    "acc = history_dict['accuracy']\n",
    "val_acc = history_dict['val_accuracy']\n",
    "loss = history_dict['loss']\n",
    "val_loss = history_dict['val_loss']\n",
    "\n",
    "epochs = range(1, len(acc) + 1)\n",
    "\n",
    "# \"bo\"는 \"파란색 점\"\n",
    "plt.plot(epochs, loss, 'bo', label='Training loss')\n",
    "# b는 \"파란 실선\"\n",
    "plt.plot(epochs, val_loss, 'b', label='Validation loss')\n",
    "plt.title('Training and validation loss')\n",
    "plt.xlabel('Epochs')\n",
    "plt.ylabel('Loss')\n",
    "plt.legend()\n",
    "\n",
    "plt.show()"
   ]
  },
  {
   "cell_type": "code",
   "execution_count": 17,
   "id": "scientific-pontiac",
   "metadata": {},
   "outputs": [
    {
     "data": {
      "image/png": "[encoded data removed]",
      "text/plain": [
       "<Figure size 432x288 with 1 Axes>"
      ]
     },
     "metadata": {
      "needs_background": "light"
     },
     "output_type": "display_data"
    }
   ],
   "source": [
    "plt.clf()   # 그림을 초기화합니다\n",
    "\n",
    "plt.plot(epochs, acc, 'bo', label='Training acc')\n",
    "plt.plot(epochs, val_acc, 'b', label='Validation acc')\n",
    "plt.title('Training and validation accuracy')\n",
    "plt.xlabel('Epochs')\n",
    "plt.ylabel('Accuracy')\n",
    "plt.legend()\n",
    "\n",
    "plt.show()"
   ]
  },
  {
   "cell_type": "markdown",
   "id": "registered-slovenia",
   "metadata": {},
   "source": [
    "## 7) 다른 모델들로 훈련, 그래프 그리기"
   ]
  },
  {
   "cell_type": "code",
   "execution_count": 18,
   "id": "portable-corruption",
   "metadata": {},
   "outputs": [
    {
     "name": "stdout",
     "output_type": "stream",
     "text": [
      "Model: \"GlobalMaxPooling1D\"\n",
      "_________________________________________________________________\n",
      "Layer (type)                 Output Shape              Param #   \n",
      "=================================================================\n",
      "embedding_1 (Embedding)      (None, None, 32)          320000    \n",
      "_________________________________________________________________\n",
      "global_max_pooling1d_1 (Glob (None, 32)                0         \n",
      "_________________________________________________________________\n",
      "dense_2 (Dense)              (None, 8)                 264       \n",
      "_________________________________________________________________\n",
      "dense_3 (Dense)              (None, 1)                 9         \n",
      "=================================================================\n",
      "Total params: 320,273\n",
      "Trainable params: 320,273\n",
      "Non-trainable params: 0\n",
      "_________________________________________________________________\n"
     ]
    }
   ],
   "source": [
    "# 2) CNN 계열의 GlobalMaxPooling1D() 활용하기 (정해진 필터 크기에서 최댓값 추출) \n",
    "model = keras.Sequential(name='GlobalMaxPooling1D') \n",
    "model.add(keras.layers.Embedding(vocab_size, word_vector_dim, input_shape=(None,))) \n",
    "model.add(keras.layers.GlobalMaxPooling1D()) \n",
    "model.add(keras.layers.Dense(8, activation='relu')) \n",
    "model.add(keras.layers.Dense(1, activation='sigmoid')) # 최종 출력은 긍정/부정을 나타내는 1dim 입니다. \n",
    "model.summary()"
   ]
  },
  {
   "cell_type": "code",
   "execution_count": 19,
   "id": "selected-power",
   "metadata": {},
   "outputs": [
    {
     "name": "stdout",
     "output_type": "stream",
     "text": [
      "Epoch 1/20\n",
      "229/229 - 2s - loss: 0.5466 - accuracy: 0.7718 - val_loss: 0.3978 - val_accuracy: 0.8285\n",
      "Epoch 2/20\n",
      "229/229 - 1s - loss: 0.3506 - accuracy: 0.8510 - val_loss: 0.3556 - val_accuracy: 0.8443\n",
      "Epoch 3/20\n",
      "229/229 - 1s - loss: 0.3029 - accuracy: 0.8736 - val_loss: 0.3518 - val_accuracy: 0.8479\n",
      "Epoch 4/20\n",
      "229/229 - 1s - loss: 0.2724 - accuracy: 0.8887 - val_loss: 0.3573 - val_accuracy: 0.8470\n",
      "Epoch 5/20\n",
      "229/229 - 1s - loss: 0.2480 - accuracy: 0.9010 - val_loss: 0.3674 - val_accuracy: 0.8470\n",
      "Epoch 6/20\n",
      "229/229 - 1s - loss: 0.2265 - accuracy: 0.9110 - val_loss: 0.3817 - val_accuracy: 0.8457\n",
      "Epoch 7/20\n",
      "229/229 - 1s - loss: 0.2072 - accuracy: 0.9200 - val_loss: 0.3974 - val_accuracy: 0.8433\n",
      "Epoch 8/20\n",
      "229/229 - 1s - loss: 0.1891 - accuracy: 0.9287 - val_loss: 0.4160 - val_accuracy: 0.8409\n",
      "Epoch 9/20\n",
      "229/229 - 1s - loss: 0.1725 - accuracy: 0.9368 - val_loss: 0.4355 - val_accuracy: 0.8380\n",
      "Epoch 10/20\n",
      "229/229 - 1s - loss: 0.1568 - accuracy: 0.9434 - val_loss: 0.4612 - val_accuracy: 0.8367\n",
      "Epoch 11/20\n",
      "229/229 - 1s - loss: 0.1426 - accuracy: 0.9505 - val_loss: 0.4844 - val_accuracy: 0.8345\n",
      "Epoch 12/20\n",
      "229/229 - 1s - loss: 0.1297 - accuracy: 0.9557 - val_loss: 0.5078 - val_accuracy: 0.8321\n",
      "Epoch 13/20\n",
      "229/229 - 1s - loss: 0.1175 - accuracy: 0.9608 - val_loss: 0.5338 - val_accuracy: 0.8308\n",
      "Epoch 14/20\n",
      "229/229 - 1s - loss: 0.1070 - accuracy: 0.9650 - val_loss: 0.5620 - val_accuracy: 0.8297\n",
      "Epoch 15/20\n",
      "229/229 - 1s - loss: 0.0973 - accuracy: 0.9690 - val_loss: 0.5902 - val_accuracy: 0.8287\n",
      "Epoch 16/20\n",
      "229/229 - 1s - loss: 0.0885 - accuracy: 0.9724 - val_loss: 0.6127 - val_accuracy: 0.8260\n",
      "Epoch 17/20\n",
      "229/229 - 1s - loss: 0.0805 - accuracy: 0.9758 - val_loss: 0.6446 - val_accuracy: 0.8250\n",
      "Epoch 18/20\n",
      "229/229 - 1s - loss: 0.0739 - accuracy: 0.9786 - val_loss: 0.6727 - val_accuracy: 0.8233\n",
      "Epoch 19/20\n",
      "229/229 - 1s - loss: 0.0673 - accuracy: 0.9810 - val_loss: 0.7055 - val_accuracy: 0.8218\n",
      "Epoch 20/20\n",
      "229/229 - 1s - loss: 0.0619 - accuracy: 0.9825 - val_loss: 0.7371 - val_accuracy: 0.8192\n"
     ]
    }
   ],
   "source": [
    "model.compile(optimizer='adam',\n",
    "              loss='binary_crossentropy',\n",
    "              metrics=['accuracy'])\n",
    "              \n",
    "epochs=20  # 몇 epoch를 훈련하면 좋을지 결과를 보면서 바꾸어 봅시다. \n",
    "batch_size=512\n",
    "\n",
    "history = model.fit(X_train,\n",
    "                    y_train,\n",
    "                    epochs=epochs,\n",
    "                    batch_size=batch_size,\n",
    "                    validation_data=(X_val, y_val),\n",
    "                    verbose=2)"
   ]
  },
  {
   "cell_type": "code",
   "execution_count": 20,
   "id": "caroline-country",
   "metadata": {},
   "outputs": [
    {
     "name": "stdout",
     "output_type": "stream",
     "text": [
      "1537/1537 - 2s - loss: 0.7111 - accuracy: 0.8218\n",
      "[0.7111096978187561, 0.8218157887458801]\n"
     ]
    }
   ],
   "source": [
    "#학습이 끝난 모델을 테스트 셋으로 평가해보기\n",
    "results = model.evaluate(X_test,  y_test, verbose=2)\n",
    "\n",
    "print(results)"
   ]
  },
  {
   "cell_type": "code",
   "execution_count": 21,
   "id": "acute-stationery",
   "metadata": {},
   "outputs": [
    {
     "name": "stdout",
     "output_type": "stream",
     "text": [
      "dict_keys(['loss', 'accuracy', 'val_loss', 'val_accuracy'])\n"
     ]
    }
   ],
   "source": [
    "# 모델의 fitting 과정 중의 정보들이 history 변수에 저장\n",
    "history_dict = history.history\n",
    "print(history_dict.keys()) # epoch에 따른 그래프를 그려볼 수 있는 항목들"
   ]
  },
  {
   "cell_type": "code",
   "execution_count": 22,
   "id": "forbidden-mustang",
   "metadata": {},
   "outputs": [
    {
     "data": {
      "image/png": "[encoded data removed]",
      "text/plain": [
       "<Figure size 432x288 with 1 Axes>"
      ]
     },
     "metadata": {
      "needs_background": "light"
     },
     "output_type": "display_data"
    }
   ],
   "source": [
    "# 도식화 Training and Validation loss\n",
    "import matplotlib.pyplot as plt\n",
    "\n",
    "acc = history_dict['accuracy']\n",
    "val_acc = history_dict['val_accuracy']\n",
    "loss = history_dict['loss']\n",
    "val_loss = history_dict['val_loss']\n",
    "\n",
    "epochs = range(1, len(acc) + 1)\n",
    "\n",
    "# \"bo\"는 \"파란색 점\"\n",
    "plt.plot(epochs, loss, 'bo', label='Training loss')\n",
    "# b는 \"파란 실선\"\n",
    "plt.plot(epochs, val_loss, 'b', label='Validation loss')\n",
    "plt.title('Training and validation loss')\n",
    "plt.xlabel('Epochs')\n",
    "plt.ylabel('Loss')\n",
    "plt.legend()\n",
    "\n",
    "plt.show()"
   ]
  },
  {
   "cell_type": "code",
   "execution_count": 23,
   "id": "corresponding-banana",
   "metadata": {},
   "outputs": [
    {
     "data": {
      "image/png": "[encoded data removed]",
      "text/plain": [
       "<Figure size 432x288 with 1 Axes>"
      ]
     },
     "metadata": {
      "needs_background": "light"
     },
     "output_type": "display_data"
    }
   ],
   "source": [
    "plt.clf()   # 그림을 초기화합니다\n",
    "\n",
    "plt.plot(epochs, acc, 'bo', label='Training acc')\n",
    "plt.plot(epochs, val_acc, 'b', label='Validation acc')\n",
    "plt.title('Training and validation accuracy')\n",
    "plt.xlabel('Epochs')\n",
    "plt.ylabel('Accuracy')\n",
    "plt.legend()\n",
    "\n",
    "plt.show()"
   ]
  },
  {
   "cell_type": "code",
   "execution_count": null,
   "id": "precious-blink",
   "metadata": {},
   "outputs": [],
   "source": []
  },
  {
   "cell_type": "code",
   "execution_count": 24,
   "id": "demographic-puzzle",
   "metadata": {},
   "outputs": [
    {
     "name": "stdout",
     "output_type": "stream",
     "text": [
      "Model: \"LSTM\"\n",
      "_________________________________________________________________\n",
      "Layer (type)                 Output Shape              Param #   \n",
      "=================================================================\n",
      "embedding_2 (Embedding)      (None, None, 32)          320000    \n",
      "_________________________________________________________________\n",
      "lstm (LSTM)                  (None, 8)                 1312      \n",
      "_________________________________________________________________\n",
      "dense_4 (Dense)              (None, 8)                 72        \n",
      "_________________________________________________________________\n",
      "dense_5 (Dense)              (None, 1)                 9         \n",
      "=================================================================\n",
      "Total params: 321,393\n",
      "Trainable params: 321,393\n",
      "Non-trainable params: 0\n",
      "_________________________________________________________________\n"
     ]
    }
   ],
   "source": [
    "# 1) LSTM 모델 \n",
    "model = keras.Sequential(name='LSTM') \n",
    "model.add(keras.layers.Embedding(vocab_size, word_vector_dim, input_shape=(None,))) \n",
    "model.add(keras.layers.LSTM(8)) # 가장 널리 쓰이는 RNN인 LSTM 레이어를 사용하였습니다. 이때 LSTM state 벡터의 차원수는 8로 하였습니다. (변경 가능) \n",
    "model.add(keras.layers.Dense(8, activation='relu')) \n",
    "model.add(keras.layers.Dense(1, activation='sigmoid')) # 최종 출력은 긍정/부정을 나타내는 1dim 입니다. \n",
    "model.summary()"
   ]
  },
  {
   "cell_type": "code",
   "execution_count": 25,
   "id": "operational-billion",
   "metadata": {},
   "outputs": [
    {
     "name": "stdout",
     "output_type": "stream",
     "text": [
      "Epoch 1/20\n",
      "229/229 - 5s - loss: 0.5056 - accuracy: 0.7659 - val_loss: 0.3770 - val_accuracy: 0.8404\n",
      "Epoch 2/20\n",
      "229/229 - 3s - loss: 0.3416 - accuracy: 0.8562 - val_loss: 0.3573 - val_accuracy: 0.8476\n",
      "Epoch 3/20\n",
      "229/229 - 3s - loss: 0.3164 - accuracy: 0.8691 - val_loss: 0.3562 - val_accuracy: 0.8450\n",
      "Epoch 4/20\n",
      "229/229 - 3s - loss: 0.3037 - accuracy: 0.8749 - val_loss: 0.3548 - val_accuracy: 0.8469\n",
      "Epoch 5/20\n",
      "229/229 - 3s - loss: 0.2934 - accuracy: 0.8785 - val_loss: 0.3571 - val_accuracy: 0.8457\n",
      "Epoch 6/20\n",
      "229/229 - 3s - loss: 0.2829 - accuracy: 0.8839 - val_loss: 0.3581 - val_accuracy: 0.8449\n",
      "Epoch 7/20\n",
      "229/229 - 2s - loss: 0.2719 - accuracy: 0.8888 - val_loss: 0.3576 - val_accuracy: 0.8480\n",
      "Epoch 8/20\n",
      "229/229 - 3s - loss: 0.2596 - accuracy: 0.8941 - val_loss: 0.3611 - val_accuracy: 0.8483\n",
      "Epoch 9/20\n",
      "229/229 - 3s - loss: 0.2469 - accuracy: 0.8993 - val_loss: 0.3621 - val_accuracy: 0.8500\n",
      "Epoch 10/20\n",
      "229/229 - 3s - loss: 0.2344 - accuracy: 0.9042 - val_loss: 0.3782 - val_accuracy: 0.8506\n",
      "Epoch 11/20\n",
      "229/229 - 2s - loss: 0.2216 - accuracy: 0.9100 - val_loss: 0.3773 - val_accuracy: 0.8503\n",
      "Epoch 12/20\n",
      "229/229 - 2s - loss: 0.2090 - accuracy: 0.9156 - val_loss: 0.4176 - val_accuracy: 0.8474\n",
      "Epoch 13/20\n",
      "229/229 - 3s - loss: 0.1986 - accuracy: 0.9203 - val_loss: 0.4342 - val_accuracy: 0.8476\n",
      "Epoch 14/20\n",
      "229/229 - 3s - loss: 0.1874 - accuracy: 0.9249 - val_loss: 0.4362 - val_accuracy: 0.8476\n",
      "Epoch 15/20\n",
      "229/229 - 2s - loss: 0.1778 - accuracy: 0.9302 - val_loss: 0.4693 - val_accuracy: 0.8463\n",
      "Epoch 16/20\n",
      "229/229 - 2s - loss: 0.1692 - accuracy: 0.9343 - val_loss: 0.4966 - val_accuracy: 0.8447\n",
      "Epoch 17/20\n",
      "229/229 - 3s - loss: 0.1604 - accuracy: 0.9385 - val_loss: 0.4969 - val_accuracy: 0.8425\n",
      "Epoch 18/20\n",
      "229/229 - 3s - loss: 0.1517 - accuracy: 0.9427 - val_loss: 0.5215 - val_accuracy: 0.8404\n",
      "Epoch 19/20\n",
      "229/229 - 3s - loss: 0.1450 - accuracy: 0.9459 - val_loss: 0.5559 - val_accuracy: 0.8408\n",
      "Epoch 20/20\n",
      "229/229 - 3s - loss: 0.1365 - accuracy: 0.9500 - val_loss: 0.5626 - val_accuracy: 0.8380\n"
     ]
    }
   ],
   "source": [
    "model.compile(optimizer='adam',\n",
    "              loss='binary_crossentropy',\n",
    "              metrics=['accuracy'])\n",
    "              \n",
    "epochs=20  # 몇 epoch를 훈련하면 좋을지 결과를 보면서 바꾸어 봅시다. \n",
    "batch_size=512\n",
    "\n",
    "history = model.fit(X_train,\n",
    "                    y_train,\n",
    "                    epochs=epochs,\n",
    "                    batch_size=batch_size,\n",
    "                    validation_data=(X_val, y_val),\n",
    "                    verbose=2)"
   ]
  },
  {
   "cell_type": "code",
   "execution_count": 26,
   "id": "swedish-appendix",
   "metadata": {},
   "outputs": [
    {
     "name": "stdout",
     "output_type": "stream",
     "text": [
      "1537/1537 - 5s - loss: 0.5446 - accuracy: 0.8389\n",
      "[0.5446363687515259, 0.8388835787773132]\n"
     ]
    }
   ],
   "source": [
    "#학습이 끝난 모델을 테스트 셋으로 평가해보기\n",
    "results = model.evaluate(X_test,  y_test, verbose=2)\n",
    "\n",
    "print(results)"
   ]
  },
  {
   "cell_type": "code",
   "execution_count": 27,
   "id": "paperback-atmosphere",
   "metadata": {},
   "outputs": [
    {
     "name": "stdout",
     "output_type": "stream",
     "text": [
      "dict_keys(['loss', 'accuracy', 'val_loss', 'val_accuracy'])\n"
     ]
    }
   ],
   "source": [
    "# 모델의 fitting 과정 중의 정보들이 history 변수에 저장\n",
    "history_dict = history.history\n",
    "print(history_dict.keys()) # epoch에 따른 그래프를 그려볼 수 있는 항목들"
   ]
  },
  {
   "cell_type": "code",
   "execution_count": 28,
   "id": "beautiful-structure",
   "metadata": {},
   "outputs": [
    {
     "data": {
      "image/png": "[encoded data removed]",
      "text/plain": [
       "<Figure size 432x288 with 1 Axes>"
      ]
     },
     "metadata": {
      "needs_background": "light"
     },
     "output_type": "display_data"
    }
   ],
   "source": [
    "# 도식화 Training and Validation loss\n",
    "import matplotlib.pyplot as plt\n",
    "\n",
    "acc = history_dict['accuracy']\n",
    "val_acc = history_dict['val_accuracy']\n",
    "loss = history_dict['loss']\n",
    "val_loss = history_dict['val_loss']\n",
    "\n",
    "epochs = range(1, len(acc) + 1)\n",
    "\n",
    "# \"bo\"는 \"파란색 점\"\n",
    "plt.plot(epochs, loss, 'bo', label='Training loss')\n",
    "# b는 \"파란 실선\"\n",
    "plt.plot(epochs, val_loss, 'b', label='Validation loss')\n",
    "plt.title('Training and validation loss')\n",
    "plt.xlabel('Epochs')\n",
    "plt.ylabel('Loss')\n",
    "plt.legend()\n",
    "\n",
    "plt.show()"
   ]
  },
  {
   "cell_type": "code",
   "execution_count": 29,
   "id": "consolidated-beatles",
   "metadata": {},
   "outputs": [
    {
     "data": {
      "image/png": "[encoded data removed]",
      "text/plain": [
       "<Figure size 432x288 with 1 Axes>"
      ]
     },
     "metadata": {
      "needs_background": "light"
     },
     "output_type": "display_data"
    }
   ],
   "source": [
    "plt.clf()   # 그림을 초기화합니다\n",
    "\n",
    "plt.plot(epochs, acc, 'bo', label='Training acc')\n",
    "plt.plot(epochs, val_acc, 'b', label='Validation acc')\n",
    "plt.title('Training and validation accuracy')\n",
    "plt.xlabel('Epochs')\n",
    "plt.ylabel('Accuracy')\n",
    "plt.legend()\n",
    "\n",
    "plt.show()"
   ]
  },
  {
   "cell_type": "markdown",
   "id": "grand-military",
   "metadata": {},
   "source": [
    "## 8) 학습된 Embedding 레이어 분석"
   ]
  },
  {
   "cell_type": "code",
   "execution_count": 30,
   "id": "crucial-airport",
   "metadata": {},
   "outputs": [
    {
     "name": "stdout",
     "output_type": "stream",
     "text": [
      "(10000, 32)\n"
     ]
    }
   ],
   "source": [
    "#이 layer를 통해서 학습이 잘 이루어졌는지 분석할 수 있음\n",
    "embedding_layer = model.layers[0]\n",
    "weights = embedding_layer.get_weights()[0]\n",
    "print(weights.shape)    # shape: (vocab_size, embedding_dim)"
   ]
  },
  {
   "cell_type": "code",
   "execution_count": 31,
   "id": "attached-market",
   "metadata": {},
   "outputs": [],
   "source": [
    "import os\n",
    "\n",
    "# 학습한 Embedding 파라미터를 파일에 써서 저장\n",
    "word2vec_file_path = os.getenv('HOME')+'/aiffel/sentiment_classification/data/word2vec.txt'\n",
    "f = open(word2vec_file_path, 'w')\n",
    "f.write('{} {}\\n'.format(vocab_size-4, word_vector_dim))  # 몇개의 벡터를 얼마 사이즈로 기재할지 타이틀쓰기\n",
    "\n",
    "# 단어 개수(에서 특수문자 4개는 제외하고)만큼의 워드 벡터를 파일에 기록\n",
    "vectors = model.get_weights()[0]\n",
    "for i in range(4,vocab_size):\n",
    "    f.write('{} {}\\n'.format(index_to_word[i], ' '.join(map(str, list(vectors[i, :])))))\n",
    "f.close()"
   ]
  },
  {
   "cell_type": "code",
   "execution_count": 32,
   "id": "grave-vector",
   "metadata": {},
   "outputs": [
    {
     "data": {
      "text/plain": [
       "array([ 0.09604965, -0.03910665, -0.01692378,  0.20616168,  0.00427277,\n",
       "        0.02639204,  0.06124254,  0.04539061,  0.00552979,  0.12049825,\n",
       "        0.058594  ,  0.0531842 , -0.00919174, -0.12583639, -0.2122458 ,\n",
       "        0.01108995,  0.00707466,  0.12859096, -0.06481827, -0.01561789,\n",
       "        0.14029601,  0.05127233,  0.07202888,  0.08868421,  0.04882639,\n",
       "        0.04973252, -0.04555891, -0.03848054,  0.19267875, -0.04833218,\n",
       "        0.09847047,  0.05901657], dtype=float32)"
      ]
     },
     "execution_count": 32,
     "metadata": {},
     "output_type": "execute_result"
    }
   ],
   "source": [
    "#gensim에서 제공하는 패키지를 이용해서 위에 남긴 임베딩 파라미터를 읽어서 \n",
    "#word vector로 활용할 수 있음\n",
    "from gensim.models.keyedvectors import Word2VecKeyedVectors\n",
    "\n",
    "word_vectors = Word2VecKeyedVectors.load_word2vec_format(word2vec_file_path, binary=False)\n",
    "vector = word_vectors['영화']\n",
    "vector"
   ]
  },
  {
   "cell_type": "code",
   "execution_count": 33,
   "id": "dietary-desire",
   "metadata": {},
   "outputs": [
    {
     "data": {
      "text/plain": [
       "[('을지', 0.5937991142272949),\n",
       " ('3', 0.58426833152771),\n",
       " ('첨', 0.559149980545044),\n",
       " ('주온', 0.5589323043823242),\n",
       " ('을', 0.5584535002708435),\n",
       " ('1', 0.5569790601730347),\n",
       " ('초반', 0.555072009563446),\n",
       " ('오글거리', 0.5548245906829834),\n",
       " ('인디', 0.5546802282333374),\n",
       " ('바른', 0.5465383529663086)]"
      ]
     },
     "execution_count": 33,
     "metadata": {},
     "output_type": "execute_result"
    }
   ],
   "source": [
    "word_vectors.similar_by_word(\"주인공\")"
   ]
  },
  {
   "cell_type": "code",
   "execution_count": 34,
   "id": "centered-fiber",
   "metadata": {},
   "outputs": [
    {
     "data": {
      "text/plain": [
       "[('최소', 0.8940329551696777),\n",
       " ('불러일으키', 0.8877789974212646),\n",
       " ('줬었', 0.8815678358078003),\n",
       " ('먹먹', 0.8813018798828125),\n",
       " ('당연히', 0.8790113925933838),\n",
       " ('전율', 0.8750501871109009),\n",
       " ('best', 0.8668700456619263),\n",
       " ('어울려요', 0.8661370873451233),\n",
       " ('깨달음', 0.8647298812866211),\n",
       " ('손색없', 0.8639535903930664)]"
      ]
     },
     "execution_count": 34,
     "metadata": {},
     "output_type": "execute_result"
    }
   ],
   "source": [
    "word_vectors.similar_by_word(\"감동\")"
   ]
  },
  {
   "cell_type": "markdown",
   "id": "trained-discovery",
   "metadata": {},
   "source": [
    "연관된 단어를 word2vec를 이용해서 뽑아낼 수 있는데\n",
    "보이는 것과 같이 그렇게 성능이 좋지는 않음"
   ]
  },
  {
   "cell_type": "markdown",
   "id": "graduate-ranch",
   "metadata": {},
   "source": [
    "## 9) 한국어 Word2Vec 임베딩 활용하여 성능개선"
   ]
  },
  {
   "cell_type": "code",
   "execution_count": 35,
   "id": "afraid-ceramic",
   "metadata": {},
   "outputs": [
    {
     "data": {
      "text/plain": [
       "[('여주인공', 0.7362918853759766),\n",
       " ('히로인', 0.7030971646308899),\n",
       " ('원작', 0.6740964651107788),\n",
       " ('악당', 0.6630157232284546),\n",
       " ('등장인물', 0.6590856909751892),\n",
       " ('악역', 0.6446496248245239),\n",
       " ('작중', 0.627465546131134),\n",
       " ('극중', 0.6266964077949524),\n",
       " ('유령', 0.609932541847229),\n",
       " ('모험', 0.5971505641937256)]"
      ]
     },
     "execution_count": 35,
     "metadata": {},
     "output_type": "execute_result"
    }
   ],
   "source": [
    "import gensim\n",
    "from gensim.models import KeyedVectors\n",
    "from gensim.models import Word2Vec \n",
    "\n",
    "  \n",
    "\n",
    "word2vec_path = os.getenv('HOME')+'/aiffel/sentiment_classification/ko.bin'\n",
    "ko_model = Word2Vec.load(word2vec_path)\n",
    "ko_model.wv.most_similar(\"주인공\")"
   ]
  },
  {
   "cell_type": "code",
   "execution_count": 36,
   "id": "hollywood-sunrise",
   "metadata": {},
   "outputs": [
    {
     "name": "stderr",
     "output_type": "stream",
     "text": [
      "/opt/conda/lib/python3.7/site-packages/ipykernel_launcher.py:1: DeprecationWarning: Call to deprecated `similar_by_word` (Method will be removed in 4.0.0, use self.wv.similar_by_word() instead).\n",
      "  \"\"\"Entry point for launching an IPython kernel.\n"
     ]
    },
    {
     "data": {
      "text/plain": [
       "[('감명', 0.7177015542984009),\n",
       " ('감격', 0.6908231973648071),\n",
       " ('실망', 0.6267645359039307),\n",
       " ('감화', 0.6191877126693726),\n",
       " ('감탄', 0.6140128374099731),\n",
       " ('칭찬', 0.6059398055076599),\n",
       " ('존경', 0.6032299995422363),\n",
       " ('자극', 0.594598650932312),\n",
       " ('감복', 0.5902734994888306),\n",
       " ('호응', 0.5850393772125244)]"
      ]
     },
     "execution_count": 36,
     "metadata": {},
     "output_type": "execute_result"
    }
   ],
   "source": [
    "ko_model.similar_by_word(\"감동\")"
   ]
  },
  {
   "cell_type": "code",
   "execution_count": 37,
   "id": "characteristic-monster",
   "metadata": {},
   "outputs": [
    {
     "name": "stderr",
     "output_type": "stream",
     "text": [
      "/opt/conda/lib/python3.7/site-packages/ipykernel_launcher.py:1: DeprecationWarning: Call to deprecated `__getitem__` (Method will be removed in 4.0.0, use self.wv.__getitem__() instead).\n",
      "  \"\"\"Entry point for launching an IPython kernel.\n"
     ]
    },
    {
     "data": {
      "text/plain": [
       "array([-1.5204564e+00, -2.8309917e+00,  4.8951966e-01,  2.8373489e-01,\n",
       "       -1.5701252e+00, -6.1594337e-01, -7.0439458e-02,  1.7730820e+00,\n",
       "        7.4497163e-01,  2.9538804e-01,  1.3747534e+00,  1.4218109e+00,\n",
       "        6.4636153e-01,  2.9953018e-01,  1.6863719e-01,  7.3786944e-01,\n",
       "        9.0953058e-01,  1.3055873e+00,  1.3363632e+00, -5.6929622e-02,\n",
       "       -4.6752492e-01, -4.4766888e-01, -2.4217651e-03,  5.7588112e-01,\n",
       "       -5.5181080e-01, -1.3734692e+00,  1.4425172e+00,  1.8638158e+00,\n",
       "       -7.4512875e-01,  8.9056063e-01,  7.9167700e-01, -5.9433389e-03,\n",
       "        5.5219036e-01, -1.3048128e+00, -4.1383523e-02, -3.7023616e-01,\n",
       "        7.2620936e-02,  4.1201523e-01, -2.8611928e-01,  3.3965874e-01,\n",
       "        7.3672801e-02,  3.9606860e-01, -6.5436530e-01, -2.0602055e+00,\n",
       "        1.6352504e-01, -5.9697056e-01,  1.0825907e-01, -3.7962955e-01,\n",
       "       -1.0607311e+00,  3.0427629e-01,  7.8090608e-02, -9.6169323e-01,\n",
       "        7.9417849e-01, -1.0393640e+00, -1.9971159e+00, -1.2392480e+00,\n",
       "        1.5385549e+00,  1.3670086e+00,  1.2065186e-01,  6.0851765e-01,\n",
       "        8.8089690e-02, -9.7397411e-01,  1.1398269e+00, -1.7670530e-01,\n",
       "        8.9072537e-01, -6.0177910e-01, -7.5857556e-01,  1.4612979e-01,\n",
       "        9.2744100e-01, -1.1195661e+00,  1.2729224e+00, -7.0280808e-01,\n",
       "       -8.9717633e-01, -8.4456539e-01, -1.4144096e-01, -7.9344302e-01,\n",
       "       -9.4917989e-01,  1.0900390e+00,  8.5646409e-01, -8.0718619e-01,\n",
       "        1.8901348e-01,  1.8980922e-01,  5.7584226e-01, -8.3959800e-01,\n",
       "        3.5721368e-01,  8.9772713e-01,  2.5321703e+00, -3.4493366e-01,\n",
       "       -2.2659209e-01,  5.2220917e-01,  1.1035757e+00, -2.1748872e+00,\n",
       "        4.1681200e-01, -1.1342875e+00, -7.9543960e-01, -3.4735504e-01,\n",
       "       -1.3862783e-01, -2.3538184e+00,  2.0380174e-01,  6.2200660e-01,\n",
       "        5.2746415e-01, -6.0842717e-01, -1.4476039e-01, -2.3149753e-01,\n",
       "       -6.2825620e-01,  4.8020688e-01, -6.4313090e-01, -2.4037700e+00,\n",
       "       -1.9996834e+00, -1.4486910e+00,  1.7973557e+00, -8.8472784e-01,\n",
       "        7.3674500e-01, -1.4083881e+00, -8.8379472e-01, -3.7421715e-01,\n",
       "        1.0705947e-01, -1.4830676e+00, -1.4184391e-01,  1.0206344e+00,\n",
       "        1.0749497e-01, -2.8296504e+00, -4.0487465e-01, -1.4199538e+00,\n",
       "       -6.1687475e-01, -3.1328788e-01, -2.7317445e+00, -1.8077487e-01,\n",
       "       -6.4297873e-01,  3.4061693e-02, -3.5681492e-01, -2.2348291e-01,\n",
       "        3.7468413e-01,  1.9933285e+00,  1.7537071e+00, -1.3397156e-01,\n",
       "        1.8303516e+00, -2.6321943e+00,  6.6886741e-01, -1.3142743e+00,\n",
       "        1.2006415e+00,  1.0328528e+00,  2.6500744e-01,  1.4678754e+00,\n",
       "        1.6976969e-01, -2.6416011e+00, -9.7112656e-01, -4.9848303e-01,\n",
       "       -8.4857225e-01,  4.4617283e-01, -8.5206062e-02, -3.6194360e-01,\n",
       "       -9.3159550e-01, -3.5022324e-01, -4.1410005e-01, -2.2039292e+00,\n",
       "        9.2163682e-01,  7.8592771e-01, -7.9249316e-01, -7.0087028e-01,\n",
       "       -7.1132654e-01, -4.5833382e-01, -9.9226224e-01, -1.6984210e+00,\n",
       "       -3.9241904e-01, -7.0086235e-01, -7.5560743e-01,  1.5205642e+00,\n",
       "       -3.6797929e-01,  8.7938112e-01, -1.8623470e+00, -4.3731436e-01,\n",
       "        1.3051634e+00, -4.4226825e-01,  5.1390761e-01, -1.5073867e+00,\n",
       "        2.8654119e-01,  1.7164248e+00,  4.4482887e-01, -2.1625268e-01,\n",
       "        2.5433069e-01, -1.2943397e-01,  8.7791961e-01,  1.6452379e+00,\n",
       "       -1.2473000e+00,  2.2590139e+00,  3.1497118e-01, -7.5690436e-01,\n",
       "       -1.0546100e+00,  2.2031658e+00,  9.6368170e-01,  1.0537914e+00,\n",
       "        1.5699425e-01,  7.8207803e-01,  3.3533609e-01, -1.0114874e+00,\n",
       "       -4.0335235e-01,  9.1712140e-03, -1.3577643e-01, -1.7198523e+00],\n",
       "      dtype=float32)"
      ]
     },
     "execution_count": 37,
     "metadata": {},
     "output_type": "execute_result"
    }
   ],
   "source": [
    "vector = ko_model['주인공']\n",
    "vector"
   ]
  },
  {
   "cell_type": "code",
   "execution_count": 38,
   "id": "driven-immune",
   "metadata": {},
   "outputs": [
    {
     "name": "stderr",
     "output_type": "stream",
     "text": [
      "/opt/conda/lib/python3.7/site-packages/ipykernel_launcher.py:1: DeprecationWarning: Call to deprecated `__getitem__` (Method will be removed in 4.0.0, use self.wv.__getitem__() instead).\n",
      "  \"\"\"Entry point for launching an IPython kernel.\n"
     ]
    },
    {
     "data": {
      "text/plain": [
       "array([-1.4411083 , -0.78142536,  2.453768  , -0.86445606,  0.24195324,\n",
       "        0.36006922, -1.0639709 ,  0.85037315, -1.0184479 ,  0.21196692,\n",
       "       -0.6679936 ,  0.6389819 , -0.26964295,  0.66028535,  0.39613017,\n",
       "        0.6428288 ,  0.6648245 ,  0.08363932, -0.2540794 ,  0.55310047,\n",
       "        0.63392764,  0.19311981, -0.4648248 ,  0.1490374 ,  2.0762694 ,\n",
       "        0.7872764 , -0.21711552, -0.59049505, -1.3264338 , -0.06233318,\n",
       "        1.2550159 , -0.05334642, -0.5453753 , -0.8736315 ,  0.5253877 ,\n",
       "        0.03122815,  0.8280226 ,  0.23597455,  0.06136359,  1.5114233 ,\n",
       "       -0.340495  ,  0.912277  ,  0.5899006 , -1.3025732 , -0.87596595,\n",
       "        0.21738248,  1.0366931 , -0.55709684, -0.9039502 ,  0.28133616,\n",
       "       -1.7572548 , -0.29769212, -0.14536098,  0.5850025 , -0.6111547 ,\n",
       "       -0.29829553,  1.4106004 , -0.38685524,  0.4801454 ,  0.40166005,\n",
       "        0.28174093,  1.6133646 , -0.8590998 ,  0.49886975,  0.38605362,\n",
       "       -0.1607663 , -0.87983316,  0.21996935,  0.68561727, -0.8434425 ,\n",
       "        0.02520839, -0.8017276 , -0.4882501 ,  0.5937627 , -0.22273438,\n",
       "       -2.1169198 ,  0.11167947,  1.2840736 ,  0.37050653, -0.49218208,\n",
       "       -0.38447312, -0.04923964,  0.818749  ,  0.14430618,  0.12984185,\n",
       "        1.3372396 , -0.27832717, -0.4163464 , -1.2846806 ,  0.22243507,\n",
       "        1.4398693 , -0.62261546,  0.85881597,  0.35206348, -0.7983542 ,\n",
       "       -0.5648404 , -0.80835617,  1.0770288 ,  0.9198583 ,  0.24598446,\n",
       "       -0.339867  , -0.20509662, -0.68669695, -0.00623814, -0.6275429 ,\n",
       "        2.329253  ,  0.33655322, -0.1590611 , -0.4120386 , -1.5890588 ,\n",
       "        0.37837315,  0.846773  , -0.3125741 , -0.748276  ,  1.5007688 ,\n",
       "       -1.5616585 , -0.33911368, -0.9860547 ,  0.27350205, -0.17658691,\n",
       "        1.2938571 , -0.04034536,  0.80943936, -2.320362  ,  0.49740836,\n",
       "        0.4615926 , -0.31530836, -1.782714  ,  0.25635827,  0.02759444,\n",
       "        1.0618365 ,  1.3092015 ,  1.1857753 ,  0.01812731,  0.9814533 ,\n",
       "        0.14263195,  0.899134  , -0.8500094 , -1.7148823 , -0.43185592,\n",
       "        0.415446  ,  1.6975207 , -0.3643097 , -0.6528986 , -0.18492346,\n",
       "        0.31824046,  0.12755737,  0.92763597, -0.00657997,  0.3986357 ,\n",
       "       -0.07185496,  0.26286292,  0.39870608,  0.20413135,  0.99198246,\n",
       "        1.4120847 , -0.756356  ,  1.3712298 , -0.81753194, -0.44601068,\n",
       "        0.05893052, -0.21582486, -0.8041302 ,  0.9012229 ,  0.02169448,\n",
       "       -2.1358564 ,  0.63579637,  1.9117936 , -0.6807319 ,  1.4326098 ,\n",
       "       -1.156477  , -0.41411826,  1.0657284 , -1.3112395 ,  0.4747043 ,\n",
       "        0.5321504 ,  0.0543594 , -0.41400573, -0.96152973, -0.06286933,\n",
       "       -0.9848911 , -0.96814924,  0.05603024, -0.3239202 ,  0.7511623 ,\n",
       "        1.127266  ,  0.09363312, -0.14667176,  0.19069506,  0.23503011,\n",
       "        0.42607984, -0.36619186,  0.74711823,  0.47436306, -0.6458395 ,\n",
       "        0.9339805 ,  0.5576014 ,  0.41820145, -0.01330989, -0.36533296],\n",
       "      dtype=float32)"
      ]
     },
     "execution_count": 38,
     "metadata": {},
     "output_type": "execute_result"
    }
   ],
   "source": [
    "vector = ko_model['감동']\n",
    "vector"
   ]
  },
  {
   "cell_type": "code",
   "execution_count": 39,
   "id": "fitting-appliance",
   "metadata": {},
   "outputs": [
    {
     "name": "stderr",
     "output_type": "stream",
     "text": [
      "/opt/conda/lib/python3.7/site-packages/ipykernel_launcher.py:8: DeprecationWarning: Call to deprecated `__contains__` (Method will be removed in 4.0.0, use self.wv.__contains__() instead).\n",
      "  \n",
      "/opt/conda/lib/python3.7/site-packages/ipykernel_launcher.py:9: DeprecationWarning: Call to deprecated `__getitem__` (Method will be removed in 4.0.0, use self.wv.__getitem__() instead).\n",
      "  if __name__ == '__main__':\n"
     ]
    }
   ],
   "source": [
    "vocab_size = 10000    # 어휘 사전의 크기입니다(10,000개의 단어)\n",
    "word_vector_dim = 200  # 워드 벡터의 차원수 (변경가능한 하이퍼파라미터)\n",
    "\n",
    "embedding_matrix = np.random.rand(vocab_size, word_vector_dim)\n",
    "\n",
    "# embedding_matrix에 Word2Vec 워드 벡터를 단어 하나씩마다 차례차례 카피한다.\n",
    "for i in range(4,vocab_size):\n",
    "    if index_to_word[i] in ko_model:\n",
    "        embedding_matrix[i] = ko_model[index_to_word[i]]"
   ]
  },
  {
   "cell_type": "code",
   "execution_count": 40,
   "id": "stone-doctor",
   "metadata": {},
   "outputs": [
    {
     "name": "stdout",
     "output_type": "stream",
     "text": [
      "Model: \"sequential_1\"\n",
      "_________________________________________________________________\n",
      "Layer (type)                 Output Shape              Param #   \n",
      "=================================================================\n",
      "embedding_3 (Embedding)      (None, 41, 200)           2000000   \n",
      "_________________________________________________________________\n",
      "lstm_1 (LSTM)                (None, 512)               1460224   \n",
      "_________________________________________________________________\n",
      "dense_6 (Dense)              (None, 16)                8208      \n",
      "_________________________________________________________________\n",
      "dense_7 (Dense)              (None, 1)                 17        \n",
      "=================================================================\n",
      "Total params: 3,468,449\n",
      "Trainable params: 3,468,449\n",
      "Non-trainable params: 0\n",
      "_________________________________________________________________\n"
     ]
    }
   ],
   "source": [
    "from tensorflow.keras.initializers import Constant\n",
    "\n",
    "vocab_size = 10000   # 어휘 사전의 크기입니다(10,000개의 단어)\n",
    "word_vector_dim = 200  # 워드 벡터의 차원 수 (변경가능한 하이퍼파라미터)\n",
    "\n",
    "# 모델 구성\n",
    "model = keras.Sequential()\n",
    "model.add(keras.layers.Embedding(vocab_size, \n",
    "                                 word_vector_dim, \n",
    "                                 embeddings_initializer=Constant(embedding_matrix),  # 카피한 임베딩을 여기서 활용\n",
    "                                 input_length=maxlen, \n",
    "                                 trainable=True))   # trainable을 True로 주면 Fine-tuning\n",
    "model.add(keras.layers.LSTM(512))   # 가장 널리 쓰이는 RNN인 LSTM 레이어를 사용하였습니다. 이때 LSTM state 벡터의 차원수는 8로 하였습니다. (변경 가능)\n",
    "model.add(keras.layers.Dense(16, activation='relu'))\n",
    "model.add(keras.layers.Dense(1, activation='sigmoid'))  # 최종 출력은 긍정/부정을 나타내는 1dim 입니다.\n",
    "\n",
    "\n",
    "model.summary()"
   ]
  },
  {
   "cell_type": "code",
   "execution_count": 42,
   "id": "computational-spotlight",
   "metadata": {},
   "outputs": [
    {
     "name": "stdout",
     "output_type": "stream",
     "text": [
      "Epoch 1/20\n",
      "229/229 - 37s - loss: 0.4477 - accuracy: 0.7850 - val_loss: 0.3662 - val_accuracy: 0.8373\n",
      "Epoch 2/20\n",
      "229/229 - 35s - loss: 0.3180 - accuracy: 0.8627 - val_loss: 0.3168 - val_accuracy: 0.8641\n",
      "Epoch 3/20\n",
      "229/229 - 35s - loss: 0.2701 - accuracy: 0.8863 - val_loss: 0.3111 - val_accuracy: 0.8657\n",
      "Epoch 4/20\n",
      "229/229 - 35s - loss: 0.2309 - accuracy: 0.9059 - val_loss: 0.3144 - val_accuracy: 0.8674\n",
      "Epoch 5/20\n",
      "229/229 - 35s - loss: 0.1893 - accuracy: 0.9244 - val_loss: 0.3441 - val_accuracy: 0.8672\n",
      "Epoch 6/20\n",
      "229/229 - 35s - loss: 0.1461 - accuracy: 0.9431 - val_loss: 0.3849 - val_accuracy: 0.8663\n",
      "Epoch 7/20\n",
      "229/229 - 35s - loss: 0.1059 - accuracy: 0.9595 - val_loss: 0.4445 - val_accuracy: 0.8630\n",
      "Epoch 8/20\n",
      "229/229 - 35s - loss: 0.0734 - accuracy: 0.9725 - val_loss: 0.4994 - val_accuracy: 0.8607\n",
      "Epoch 9/20\n",
      "229/229 - 36s - loss: 0.0556 - accuracy: 0.9788 - val_loss: 0.6025 - val_accuracy: 0.8596\n",
      "Epoch 10/20\n",
      "229/229 - 35s - loss: 0.0418 - accuracy: 0.9839 - val_loss: 0.6736 - val_accuracy: 0.8611\n",
      "Epoch 11/20\n",
      "229/229 - 36s - loss: 0.0348 - accuracy: 0.9863 - val_loss: 0.7115 - val_accuracy: 0.8604\n",
      "Epoch 12/20\n",
      "229/229 - 35s - loss: 0.0284 - accuracy: 0.9891 - val_loss: 0.7330 - val_accuracy: 0.8563\n",
      "Epoch 13/20\n",
      "229/229 - 36s - loss: 0.0248 - accuracy: 0.9903 - val_loss: 0.8288 - val_accuracy: 0.8559\n",
      "Epoch 14/20\n",
      "229/229 - 35s - loss: 0.0241 - accuracy: 0.9905 - val_loss: 0.8270 - val_accuracy: 0.8598\n",
      "Epoch 15/20\n",
      "229/229 - 35s - loss: 0.0229 - accuracy: 0.9910 - val_loss: 0.8433 - val_accuracy: 0.8584\n",
      "Epoch 16/20\n",
      "229/229 - 36s - loss: 0.0187 - accuracy: 0.9925 - val_loss: 0.8931 - val_accuracy: 0.8543\n",
      "Epoch 17/20\n",
      "229/229 - 35s - loss: 0.0179 - accuracy: 0.9930 - val_loss: 0.9144 - val_accuracy: 0.8571\n",
      "Epoch 18/20\n",
      "229/229 - 35s - loss: 0.0127 - accuracy: 0.9948 - val_loss: 0.9484 - val_accuracy: 0.8594\n",
      "Epoch 19/20\n",
      "229/229 - 36s - loss: 0.0149 - accuracy: 0.9941 - val_loss: 0.9610 - val_accuracy: 0.8568\n",
      "Epoch 20/20\n",
      "229/229 - 35s - loss: 0.0167 - accuracy: 0.9936 - val_loss: 0.9041 - val_accuracy: 0.8573\n"
     ]
    }
   ],
   "source": [
    "model.compile(optimizer='adam',\n",
    "              loss='binary_crossentropy',\n",
    "              metrics=['accuracy'])\n",
    "              \n",
    "epochs=20  # 몇 epoch를 훈련하면 좋을지 결과를 보면서 바꾸어 봅시다. \n",
    "batch_size=512\n",
    "\n",
    "history = model.fit(X_train,\n",
    "                    y_train,\n",
    "                    epochs=epochs,\n",
    "                    batch_size=batch_size,\n",
    "                    validation_data=(X_val, y_val),\n",
    "                    verbose=2)"
   ]
  },
  {
   "cell_type": "markdown",
   "id": "unlike-arnold",
   "metadata": {},
   "source": [
    "#### 정확도가 0.8573으로 위에보다는 조금 올라간 것을 알 수 있음"
   ]
  },
  {
   "cell_type": "code",
   "execution_count": 43,
   "id": "illegal-toilet",
   "metadata": {},
   "outputs": [
    {
     "name": "stdout",
     "output_type": "stream",
     "text": [
      "dict_keys(['loss', 'accuracy', 'val_loss', 'val_accuracy'])\n"
     ]
    }
   ],
   "source": [
    "# 모델의 fitting 과정 중의 정보들이 history 변수에 저장\n",
    "history_dict = history.history\n",
    "print(history_dict.keys()) # epoch에 따른 그래프를 그려볼 수 있는 항목들"
   ]
  },
  {
   "cell_type": "code",
   "execution_count": 44,
   "id": "dimensional-broadway",
   "metadata": {},
   "outputs": [
    {
     "data": {
      "image/png": "[encoded data removed]",
      "text/plain": [
       "<Figure size 432x288 with 1 Axes>"
      ]
     },
     "metadata": {
      "needs_background": "light"
     },
     "output_type": "display_data"
    }
   ],
   "source": [
    "import matplotlib.pyplot as plt\n",
    "\n",
    "acc = history_dict['accuracy']\n",
    "val_acc = history_dict['val_accuracy']\n",
    "loss = history_dict['loss']\n",
    "val_loss = history_dict['val_loss']\n",
    "\n",
    "epochs = range(1, len(acc) + 1)\n",
    "\n",
    "# \"bo\"는 \"파란색 점\"입니다\n",
    "plt.plot(epochs, loss, 'bo', label='Training loss')\n",
    "# b는 \"파란 실선\"입니다\n",
    "plt.plot(epochs, val_loss, 'b', label='Validation loss')\n",
    "plt.title('Training and validation loss')\n",
    "plt.xlabel('Epochs')\n",
    "plt.ylabel('Loss')\n",
    "plt.legend()\n",
    "\n",
    "plt.show()"
   ]
  },
  {
   "cell_type": "code",
   "execution_count": 45,
   "id": "clean-typing",
   "metadata": {},
   "outputs": [
    {
     "data": {
      "image/png": "[encoded data removed]",
      "text/plain": [
       "<Figure size 432x288 with 1 Axes>"
      ]
     },
     "metadata": {
      "needs_background": "light"
     },
     "output_type": "display_data"
    }
   ],
   "source": [
    "plt.clf()   # 그림을 초기화합니다\n",
    "\n",
    "plt.plot(epochs, acc, 'bo', label='Training acc')\n",
    "plt.plot(epochs, val_acc, 'b', label='Validation acc')\n",
    "plt.title('Training and validation accuracy')\n",
    "plt.xlabel('Epochs')\n",
    "plt.ylabel('Accuracy')\n",
    "plt.legend()\n",
    "\n",
    "plt.show()"
   ]
  },
  {
   "cell_type": "code",
   "execution_count": null,
   "id": "opponent-prague",
   "metadata": {},
   "outputs": [],
   "source": []
  },
  {
   "cell_type": "code",
   "execution_count": null,
   "id": "distinct-closing",
   "metadata": {},
   "outputs": [],
   "source": []
  },
  {
   "cell_type": "markdown",
   "id": "together-christianity",
   "metadata": {},
   "source": [
    "* # 회고     \n",
    "\n",
    "### 잘 안된부분😢 :     \n",
    "\n",
    "9)한국어 Word2Vec 임베딩 활용하여 성능개선할때 \n",
    "> Can't get attribute 'Vocab' on <module 'gensim.models.word2vec' from '/opt/conda/lib/python3.7/site-packages/gensim/models/word2vec.py'>\n",
    "\n",
    "이라는 에러가 떴었는데 진영님👍께서 젠심 버전이 4가 넘어가서 나는 에러라고 알려주시면서 pip install -U gensim==3.8.3을 클라우드 쉘에 다운하라고 알려주셔서 다운받고 다시 실행하니까 제대로 실행이 되었다.     \n",
    "\n",
    "\n",
    "### 느낀점🤔 :     \n",
    "아직 모델설계부분은 많이 부족한 것 같다. 사실 전체적으로 구현하기에도 부족하지만 한국어 Word2Vec 임베딩활용해서 성능 개선 하는 부분 처럼 비슷하게 연관된 단어들을 보여주는 걸 보면 또 신기해서 흥미가 좀 생기기도 했다.      \n",
    "\n",
    "시각화 부분도 다르게 해볼 껄 하는 아쉬움도 남는다. 시간 분배를 좀 잘해서 시간을 두고 완성도 높은 결과물을 낼 수 있도록 노력해야겠다.     \n",
    "\n",
    "\n",
    "\n"
   ]
  }
 ],
 "metadata": {
  "kernelspec": {
   "display_name": "Python 3",
   "language": "python",
   "name": "python3"
  },
  "language_info": {
   "codemirror_mode": {
    "name": "ipython",
    "version": 3
   },
   "file_extension": ".py",
   "mimetype": "text/x-python",
   "name": "python",
   "nbconvert_exporter": "python",
   "pygments_lexer": "ipython3",
   "version": "3.7.9"
  }
 },
 "nbformat": 4,
 "nbformat_minor": 5
}
